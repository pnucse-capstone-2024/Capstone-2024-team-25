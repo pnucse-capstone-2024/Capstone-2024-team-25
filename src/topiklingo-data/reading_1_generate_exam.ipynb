{
 "cells": [
  {
   "cell_type": "markdown",
   "metadata": {},
   "source": [
    "### 한국어 사고력 LLM 벤치마킹 순위\n",
    "\n",
    "- 한국어 언어모델 사고력 벤치마크 순위 https://lk.instruct.kr/\n",
    "  \n",
    "![leaderboard.JPG](asset/reference_image/leaderboard.JPG)\n",
    "\n",
    "### 테스트 모델 목록\n",
    "\n",
    "- 대부분 문제당 여유롭게 입+출력 500~2000 토큰 정도 소모된다고 보면 됨.\n",
    "\n",
    "|Index|이름|비용\n",
    "|---|---|---|\n",
    "1|claude-3-opus|입력:$15/백만토큰, 출력:$75/백만토큰\n",
    "2|gpt-4-turbo|입력:$10/백만토큰, 출력:$30/백만토큰\n",
    "3|claude-3-sonnet|입력:$3/백만토큰, 출력:$15/백만토큰\n",
    "4|gpt-3.5-turbo|입력:$0.5/백만토큰, 출력:$1.5/백만토큰\n",
    "5|claude-3-haiku|입력:$0.25/백만토큰, 출력:$1.25/백만토큰\n"
   ]
  },
  {
   "cell_type": "markdown",
   "metadata": {},
   "source": [
    "## 토픽I 읽기\n",
    "### 31-39 보기와 알맞은 것 고르기\n",
    "### 31-39 보기 ()안에 알맞은 것 고르기\n",
    "![1.JPG](asset/original_problem_image/1_1.JPG)\n",
    "![1_2.JPG](asset/original_problem_image/1_2.JPG)"
   ]
  },
  {
   "cell_type": "code",
   "execution_count": 1,
   "metadata": {},
   "outputs": [],
   "source": [
    "from problem_template import Problem_Template\n",
    "from problem_generator import Problem_Generate_Model"
   ]
  },
  {
   "cell_type": "code",
   "execution_count": 3,
   "metadata": {},
   "outputs": [
    {
     "name": "stdout",
     "output_type": "stream",
     "text": [
      "gpt-3.5-turbo | \n",
      "<보기> 요리를 잘하는 친구가 있습니다. 그 친구는 맛있는 음식을 자주 만들어요. <선택지> 1.운동, 2.요리, 3.독서, 4.미술 <정답> 2.요리\n",
      "\n",
      "OpenAI Tokens Used: 436\n",
      "    Prompt Tokens: 357\n",
      "    Completion Tokens: 79\n",
      "Successful Requests: 1\n",
      "Total Cost (USD): $0.00087\n",
      "Total Cost (KRW): ₩1.1745\n",
      "--------------------------------------------------------------------------------------------------\n",
      "gpt-4-turbo_evaluator | \n",
      "이 문제는 문맥과 문법적으로 적절하게 구성되어 있습니다. <보기>에서 요구하는 단어를 찾는 데 필요한 정보가 문제에 충분히 제공되고 있으며, <선택지> 중에서 <정답>이 명확하게 드러나 있습니다. 따라서 이 문제는 수정 없이 그대로 사용해도 좋습니다.\n",
      "\n",
      "OpenAI Tokens Used: 331\n",
      "    Prompt Tokens: 218\n",
      "    Completion Tokens: 113\n",
      "Successful Requests: 1\n",
      "Total Cost (USD): $0.01324\n",
      "Total Cost (KRW): ₩17.874\n",
      "--------------------------------------------------------------------------------------------------\n"
     ]
    }
   ],
   "source": [
    "models = [\"gpt-3.5-turbo\"]\n",
    "problem_template = Problem_Template(\"reading_1\", \"problem_type_1_1\")\n",
    "problem_generate_model = Problem_Generate_Model(\n",
    "    models, use_cache=True, temperature=0.3\n",
    ")\n",
    "\n",
    "eval_models = [\"gpt-4-turbo\"]\n",
    "problem_evaluate_model = Problem_Generate_Model(\n",
    "    eval_models, use_cache=True, temperature=0\n",
    ")\n",
    "\n",
    "problem_generate_model.request_models_responses(\n",
    "    problem_template.get_model_message(), type=\"generate\"\n",
    ")\n",
    "responses = problem_generate_model.get_model_responses()\n",
    "\n",
    "for response in responses:\n",
    "    problem_evaluate_model.request_models_responses(\n",
    "        problem_template.get_eval_message(response[1]), type=\"evaluate\"\n",
    "    )\n",
    "    eval_responses = problem_evaluate_model.get_model_responses()\n",
    "\n",
    "    # problem_generate_model.request_models_responses(\n",
    "    #     problem_template.get_output_parser_message(eval_responses[0][1]), type=\"parser\"\n",
    "    # )\n",
    "    # parser_responses = problem_generate_model.get_model_responses()"
   ]
  },
  {
   "cell_type": "code",
   "execution_count": 9,
   "metadata": {},
   "outputs": [
    {
     "name": "stdout",
     "output_type": "stream",
     "text": [
      "gpt-3.5-turbo | \n",
      "<보기> 나는 한국에 여행을 가요. 서울에서 맛있는 한국 음식을 ( ). <선택지> 1.먹어요, 2.씁니다, 3.읽어요, 4.봅니다 <정답> 1.먹어요\n",
      "\n",
      "OpenAI Tokens Used: 529\n",
      "    Prompt Tokens: 444\n",
      "    Completion Tokens: 85\n",
      "Successful Requests: 1\n",
      "Total Cost (USD): $0.00106\n",
      "Total Cost (KRW): ₩1.431\n",
      "--------------------------------------------------------------------------------------------------\n",
      "gpt-4-turbo_evaluator | \n",
      "이 문제는 주어진 선택지와 정답을 검토한 결과, 정답이 유일하게 적절합니다. 문제의 <보기>에서 \"나는 한국에 여행을 가요. 서울에서 맛있는 한국 음식을 ( ).\"라는 문장에서 빈칸에 들어갈 수 있는 가장 적절한 동사는 \"먹어요\"입니다. 다른 선택지인 \"씁니다\", \"읽어요\", \"봅니다\"는 문맥상 맞지 않습니다. 따라서 이 문제는 복수 정답의 가능성이 없으며, 정답은 유일하게 \"1.먹어요\"로 적절합니다. 문제는 그대로 유지될 수 있습니다.\n",
      "\n",
      "OpenAI Tokens Used: 489\n",
      "    Prompt Tokens: 277\n",
      "    Completion Tokens: 212\n",
      "Successful Requests: 1\n",
      "Total Cost (USD): $0.01956\n",
      "Total Cost (KRW): ₩26.406\n",
      "--------------------------------------------------------------------------------------------------\n"
     ]
    }
   ],
   "source": [
    "models = [\"gpt-3.5-turbo\"]\n",
    "problem_template = Problem_Template(\"reading_1\", \"problem_type_1_2\")\n",
    "problem_generate_model = Problem_Generate_Model(\n",
    "    models, use_cache=True, temperature=0.3\n",
    ")\n",
    "\n",
    "eval_models = [\"gpt-4-turbo\"]\n",
    "problem_evaluate_model = Problem_Generate_Model(\n",
    "    eval_models, use_cache=True, temperature=0\n",
    ")\n",
    "\n",
    "problem_generate_model.request_models_responses(\n",
    "    problem_template.get_model_message(), type=\"generate\"\n",
    ")\n",
    "responses = problem_generate_model.get_model_responses()\n",
    "\n",
    "for response in responses:\n",
    "    problem_evaluate_model.request_models_responses(\n",
    "        problem_template.get_eval_message(response[1]), type=\"evaluate\"\n",
    "    )\n",
    "    eval_responses = problem_evaluate_model.get_model_responses()\n",
    "\n",
    "    # problem_generate_model.request_models_responses(\n",
    "    #     problem_template.get_output_parser_message(eval_responses[0][1]), type=\"parser\"\n",
    "    # )\n",
    "    # parser_responses = problem_generate_model.get_model_responses()"
   ]
  },
  {
   "cell_type": "markdown",
   "metadata": {},
   "source": [
    "### 40-42 맞지 않은 것 고르기(그림/표)\n",
    "\n",
    "![image.png](asset/original_problem_image/2.JPG)"
   ]
  },
  {
   "cell_type": "code",
   "execution_count": 7,
   "metadata": {},
   "outputs": [
    {
     "name": "stdout",
     "output_type": "stream",
     "text": [
      "gpt-3.5-turbo | \n",
      "<이미지 내부 내용> 2022.07.20.까지\n",
      "생생\n",
      "딸 기 우 유\n",
      "1,000원 \n",
      "선택지: 1.우유 맛입니다., 2.천 원입니다., 3.딸기 맛입니다., 4.팔월까지 팝니다.\n",
      "정답: 1.우유 맛입니다.\n",
      "\n",
      "OpenAI Tokens Used: 440\n",
      "    Prompt Tokens: 342\n",
      "    Completion Tokens: 98\n",
      "Successful Requests: 1\n",
      "Total Cost (USD): $0.00088\n",
      "Total Cost (KRW): ₩1.188\n",
      "--------------------------------------------------------------------------------------------------\n",
      "gpt-4-turbo_evaluator | \n",
      "이 문제를 검토한 결과, 주어진 이미지 내용에 따르면 \"딸기 우유\"가 1,000원에 판매되고 있으며, 유통 기한은 2022년 7월 20일까지입니다. 선택지를 분석해보면:\n",
      "\n",
      "1. 우유 맛입니다. - 이미지 내용에는 \"딸기 우유\"라고 명시되어 있으므로, 이 선택지는 맞지 않는 것으로 적절합니다.\n",
      "2. 천 원입니다. - 이미지에 1,000원이라고 적혀 있으므로, 이 선택지는 맞는 정보입니다.\n",
      "3. 딸기 맛입니다. - 이미지에 \"딸기 우유\"라고 적혀 있으므로, 이 선택지는 맞는 정보입니다.\n",
      "4. 팔월까지 팝니다. - 이미지에는 2022년 7월 20일까지라고 적혀 있으므로, 이 선택지는 맞지 않는 정보입니다.\n",
      "\n",
      "따라서, 선택지 1과 4가 모두 맞지 않는 정보를 제공하고 있습니다. 이는 복수 정답이 가능한 상황입니다. 문제의 요구 사항에 따라 복수 정답을 가능하게 하는 선택지 중 하나를 제거하고, 새로운 선택지를 추가하여 문제를 수정해야 합니다.\n",
      "\n",
      "수정된 문제:\n",
      "- 이미지 내용: 2022.07.20.까지 생생 딸기 우유 1,000원\n",
      "- 선택지:\n",
      "  1. 우유 맛입니다.\n",
      "  2. 천 원입니다.\n",
      "  3. 딸기 맛입니다.\n",
      "  4. 2023년까지 팝니다.\n",
      "\n",
      "이제 선택지 4는 명백히 틀린 정보를 제공하므로, 정답은 '4. 2023년까지 팝니다.'로 설정할 수 있습니다. 이렇게 하면 문제에 유일한 정답이 존재하게 됩니다.\n",
      "\n",
      "OpenAI Tokens Used: 821\n",
      "    Prompt Tokens: 269\n",
      "    Completion Tokens: 552\n",
      "Successful Requests: 1\n",
      "Total Cost (USD): $0.03284\n",
      "Total Cost (KRW): ₩44.334\n",
      "--------------------------------------------------------------------------------------------------\n"
     ]
    }
   ],
   "source": [
    "models = [\"gpt-3.5-turbo\"]\n",
    "problem_template = Problem_Template(\"reading_1\", \"problem_type_2\")\n",
    "problem_generate_model = Problem_Generate_Model(\n",
    "    models, use_cache=True, temperature=0.5\n",
    ")\n",
    "\n",
    "eval_models = [\"gpt-4-turbo\"]\n",
    "problem_evaluate_model = Problem_Generate_Model(\n",
    "    eval_models, use_cache=True, temperature=0\n",
    ")\n",
    "\n",
    "problem_template.set_instruction(\"선택지만 변형하여 문제를 1개 출제하라.\")\n",
    "problem_template.set_example_num(1)\n",
    "problem_generate_model.request_models_responses(\n",
    "    problem_template.get_model_message(), type=\"generate\"\n",
    ")\n",
    "responses = problem_generate_model.get_model_responses()\n",
    "\n",
    "for response in responses:\n",
    "    problem_evaluate_model.request_models_responses(\n",
    "        problem_template.get_eval_message(response[1]), type=\"evaluate\"\n",
    "    )\n",
    "    eval_responses = problem_evaluate_model.get_model_responses()\n",
    "\n",
    "    # problem_generate_model.request_models_responses(\n",
    "    #     problem_template.get_output_parser_message(eval_responses[0][1]), type=\"parser\"\n",
    "    # )\n",
    "    # parser_responses = problem_generate_model.get_model_responses()"
   ]
  },
  {
   "cell_type": "code",
   "execution_count": 3,
   "metadata": {},
   "outputs": [
    {
     "name": "stdout",
     "output_type": "stream",
     "text": [
      "gpt-3.5-turbo | \n",
      "<보기> 2022.07.20.까지\n",
      "생생\n",
      "딸 기 우 유\n",
      "1,000원\n",
      "\n",
      "1. 유통기한이 2022년 7월 20일까지입니다.\n",
      "2. 딸기 우유를 의미합니다.\n",
      "3. 1,000원짜리 상품입니다.\n",
      "4. 딸기 맛이 아닌 상품입니다.\n",
      "\n",
      "정답: 4. 딸기 맛이 아닌 상품입니다.\n",
      "\n",
      "OpenAI Tokens Used: 454\n",
      "    Prompt Tokens: 327\n",
      "    Completion Tokens: 127\n",
      "Successful Requests: 1\n",
      "Total Cost (USD): $0.00091\n",
      "Total Cost (KRW): ₩1.2285\n",
      "--------------------------------------------------------------------------------------------------\n",
      "gpt-4-turbo_evaluator | \n",
      "이 문제는 주어진 <보기> 정보를 바탕으로 일치하지 않는 항목을 선택하는 문제입니다. <보기>에 따르면 제품은 '딸기 우유'이며, 유통기한은 '2022.07.20.까지'이고, 가격은 '1,000원'입니다.\n",
      "\n",
      "선택지를 분석해보면:\n",
      "1. 유통기한이 2022년 7월 20일까지입니다. - 이는 <보기> 정보와 일치합니다.\n",
      "2. 딸기 우유를 의미합니다. - 이는 <보기> 정보와 일치합니다.\n",
      "3. 1,000원짜리 상품입니다. - 이는 <보기> 정보와 일치합니다.\n",
      "4. 딸기 맛이 아닌 상품입니다. - 이는 <보기> 정보와 일치하지 않습니다. <보기>에 따르면 제품은 '딸기 우유'이므로 딸기 맛이 맞습니다.\n",
      "\n",
      "따라서, 정답은 '4. 딸기 맛이 아닌 상품입니다.'가 맞으며, 이는 유일한 정답입니다. 문제에 복수 정답이 존재하지 않으므로, 문제는 수정할 필요가 없습니다. 이대로 제출하면 됩니다.\n",
      "\n",
      "OpenAI Tokens Used: 649\n",
      "    Prompt Tokens: 293\n",
      "    Completion Tokens: 356\n",
      "Successful Requests: 1\n",
      "Total Cost (USD): $0.02596\n",
      "Total Cost (KRW): ₩35.046\n",
      "--------------------------------------------------------------------------------------------------\n"
     ]
    }
   ],
   "source": [
    "models = [\"gpt-3.5-turbo\"]\n",
    "problem_template = Problem_Template(\"reading_1\", \"problem_type_2\")\n",
    "problem_generate_model = Problem_Generate_Model(\n",
    "    models, use_cache=True, temperature=0.3\n",
    ")\n",
    "\n",
    "eval_models = [\"gpt-4-turbo\"]\n",
    "problem_evaluate_model = Problem_Generate_Model(\n",
    "    eval_models, use_cache=True, temperature=0\n",
    ")\n",
    "\n",
    "problem_template.set_instruction(\"주어지는 문제를 변형하라.\")\n",
    "problem_template.set_example_num(1)\n",
    "problem_generate_model.request_models_responses(\n",
    "    problem_template.get_model_message(), type=\"generate\"\n",
    ")\n",
    "responses = problem_generate_model.get_model_responses()\n",
    "\n",
    "for response in responses:\n",
    "    problem_evaluate_model.request_models_responses(\n",
    "        problem_template.get_eval_message(response[1]), type=\"evaluate\"\n",
    "    )\n",
    "    eval_responses = problem_evaluate_model.get_model_responses()\n",
    "\n",
    "    # problem_generate_model.request_models_responses(\n",
    "    #     problem_template.get_output_parser_message(eval_responses[0][1]), type=\"parser\"\n",
    "    # )\n",
    "    # parser_responses = problem_generate_model.get_model_responses()"
   ]
  },
  {
   "cell_type": "markdown",
   "metadata": {},
   "source": [
    "### 43-45 내용이 같은 것 고르기\n",
    "\n",
    "![image.png](asset/original_problem_image/3.JPG)"
   ]
  },
  {
   "cell_type": "code",
   "execution_count": 3,
   "metadata": {},
   "outputs": [
    {
     "name": "stdout",
     "output_type": "stream",
     "text": [
      "gpt-3.5-turbo | \n",
      "<보기> 요즘 책을 많이 읽고 있어요. 오늘은 도서관에서 새로 나온 소설을 빌려 읽을 거예요. <선택지> 1.나는 요즘 영화를 많이 보고 있어요., 2.나는 오늘 영화를 보러 갈 거예요., 3.나는 오늘 쇼핑을 하러 갈 거예요., 4.나는 오늘 도서관에 가서 책을 빌릴 거예요. <정답> 4.나는 오늘 도서관에 가서 책을 빌릴 거예요.\n",
      "\n",
      "OpenAI Tokens Used: 699\n",
      "    Prompt Tokens: 503\n",
      "    Completion Tokens: 196\n",
      "Successful Requests: 1\n",
      "Total Cost (USD): $0.0014\n",
      "Total Cost (KRW): ₩1.89\n",
      "--------------------------------------------------------------------------------------------------\n"
     ]
    }
   ],
   "source": [
    "models = [\"gpt-3.5-turbo\"]\n",
    "problem_template = Problem_Template(\"reading_1\", \"problem_type_3\")\n",
    "problem_generate_model = Problem_Generate_Model(models, use_cache=True, temperature=0.5)\n",
    "problem_generate_model.request_models_responses(\n",
    "    problem_template.get_model_message(), type=\"generate\"\n",
    ")\n",
    "responses = problem_generate_model.get_model_responses()"
   ]
  },
  {
   "cell_type": "markdown",
   "metadata": {},
   "source": [
    "### 46-48 중심 생각 고르기\n",
    "\n",
    "![image.png](asset/original_problem_image/4.JPG)"
   ]
  },
  {
   "cell_type": "code",
   "execution_count": 4,
   "metadata": {},
   "outputs": [
    {
     "name": "stdout",
     "output_type": "stream",
     "text": [
      "gpt-3.5-turbo | \n",
      "<보기> 요즘 핫한 유튜버가 되고 싶어요. 유튜브에서 다양한 콘텐츠를 제작하여 많은 구독자를 모으고 싶습니다. <선택지> 1.저는 유명한 스타들을 만나고 싶어요., 2.저는 유튜브에서 수입을 많이 벌고 싶어요., 3.저는 유튜브 채널을 구독하고 싶어요., 4.저는 유튜브에서 인기 있는 영상을 만들고 싶어요. <정답> 4.저는 유튜브에서 인기 있는 영상을 만들고 싶어요.\n",
      "\n",
      "OpenAI Tokens Used: 734\n",
      "    Prompt Tokens: 527\n",
      "    Completion Tokens: 207\n",
      "Successful Requests: 1\n",
      "Total Cost (USD): $0.00147\n",
      "Total Cost (KRW): ₩1.9845\n",
      "--------------------------------------------------------------------------------------------------\n"
     ]
    }
   ],
   "source": [
    "models = [\"gpt-3.5-turbo\"]\n",
    "problem_template = Problem_Template(\"reading_1\", \"problem_type_4\")\n",
    "problem_generate_model = Problem_Generate_Model(models, use_cache=True, temperature=0.5)\n",
    "problem_generate_model.request_models_responses(\n",
    "    problem_template.get_model_message()\n",
    ")\n",
    "responses = problem_generate_model.get_model_responses()\n"
   ]
  },
  {
   "cell_type": "markdown",
   "metadata": {},
   "source": [
    "### 49-56 빈칸에 들어갈 말 + 같은 것 고르기\n",
    "\n",
    "![image.png](asset/original_problem_image/5.JPG)"
   ]
  },
  {
   "cell_type": "code",
   "execution_count": 2,
   "metadata": {},
   "outputs": [
    {
     "name": "stdout",
     "output_type": "stream",
     "text": [
      "gpt-3.5-turbo | \n",
      "<보기> 요즘 한국은 날씨가 매우 더워서 에어컨을 자주 틀어야 합니다. 그래서 전기 요금이 많이 올랐어요. <질문 1> ()에 들어갈 말로 가장 알맞은 것을 고르십시오. <선택지>: 1.하지만, 2.그러면, 3.그리고, 4.그래서 <질문 2> <보기>의 내용과 같은 것을 고르십시오. <선택지>: 1.한국은 요즘 날씨가 매우 춥습니다., 2.에어컨을 틀지 않으면 덥습니다., 3.전기 요금이 싸졌어요., 4.날씨가 추워서 에어컨을 안 틀어도 돼요.\n",
      "\n",
      "OpenAI Tokens Used: 732\n",
      "    Prompt Tokens: 483\n",
      "    Completion Tokens: 249\n",
      "Successful Requests: 1\n",
      "Total Cost (USD): $0.00146\n",
      "Total Cost (KRW): ₩1.971\n",
      "--------------------------------------------------------------------------------------------------\n",
      "claude-3-haiku-20240307 | \n",
      "[새로운 문제 1번 : <보기> 저는 회사 직원입니다. 저는 회사 업무를 좋아해서 열심히 일합니다. 우리 회사에는 직원이 많아서 일이 조금 힘듭니다. 또 퇴근 시간이 늦은 날도 많습니다. ( ) 회사 일이 정말 재미있어서 저는 제 일을 좋아합니다. <질문 1> ( ) 에 들어갈 말로 가장 알맞은 것을 고르십시오. <선택지>: 1.그러면, 2.하지만, 3.그래서, 4.그리고 <정답> 2.하지만\n",
      "<질문 2> <보기>의 내용과 같은 것을 고르십시오. <선택지>: 1.저는 회사 일이 좋습니다., 2.저는 보통 일찍 퇴근합니다., 3.회사 일은 힘들지 않습니다., 4.우리 회사에는 직원이 많지 않습니다. <정답> 1.저는 회사 일이 좋습니다.\n",
      "\n",
      "[새로운 문제 2번 : <보기> 저는 대학생입니다. 저는 공부를 열심히 해서 성적이 좋습니다. 우리 학교에는 학생이 많아서 도서관이 항상 붐빕니다. 또 시험 기간에는 밤늦게까지 공부하는 날이 많습니다. ( ) 공부가 재미있어서 저는 열심히 하고 있습니다. <질문 1> ( ) 에 들어갈 말로 가장 알맞은 것을 고르십시오. <선택지>: 1.그러면, 2.하지만, 3.그래서, 4.그리고 <정답> 4.그리고\n",
      "<질문 2> <보기>의 내용과 같은 것을 고르십시오. <선택지>: 1.저는 공부가 좋습니다., 2.저는 보통 일찍 집에 갑니다., 3.우리 학교 도서관은 항상 한산합니다., 4.우리 학교에는 학생이 많지 않습니다. <정답> 1.저는 공부가 좋습니다.]\n",
      "\n",
      "Anthropic Tokens Used: 1272\n",
      "    Prompt Tokens: 546\n",
      "    Completion Tokens: 726\n",
      "Successful Requests: 1\n",
      "Total Cost (USD): $0.00191\n",
      "Total Cost (KRW): ₩2.5785\n",
      "--------------------------------------------------------------------------------------------------\n"
     ]
    }
   ],
   "source": [
    "models = [\"gpt-3.5-turbo\",\"claude-3-haiku\"]\n",
    "problem_template = Problem_Template(\"reading_1\", \"problem_type_5\")\n",
    "problem_generate_model = Problem_Generate_Model(models, use_cache=True, temperature=0.5)\n",
    "problem_generate_model.request_models_responses(\n",
    "    problem_template.get_model_message()\n",
    ")\n",
    "responses = problem_generate_model.get_model_responses()"
   ]
  },
  {
   "cell_type": "markdown",
   "metadata": {},
   "source": [
    "### 57-58 순서 나열\n",
    "\n",
    "![image.png](asset/original_problem_image/6.JPG)"
   ]
  },
  {
   "cell_type": "code",
   "execution_count": 12,
   "metadata": {},
   "outputs": [
    {
     "name": "stdout",
     "output_type": "stream",
     "text": [
      "claude-3-haiku-20240307 | \n",
      "다음과 같은 문제를 생성해 보았습니다.\n",
      "\n",
      "[문제]\n",
      "<보기>\n",
      "(가) 김 선생님께서 우리 반 학생들에게 책을 선물해 주셨습니다.\n",
      "(나) 교과서 외에도 재미있는 동화책들이 많이 있었습니다. \n",
      "(다) 책을 읽으면서 즐거운 시간을 보냈습니다.\n",
      "(라) 우리 반 학생들은 책을 열심히 읽었습니다.\n",
      "\n",
      "<선택지>\n",
      "1. (나) - (가) - (라) - (다)\n",
      "2. (라) - (다) - (가) - (나) \n",
      "3. (가) - (나) - (다) - (라)\n",
      "4. (다) - (라) - (나) - (가)\n",
      "\n",
      "<정답> 3. (가) - (나) - (다) - (라)\n",
      "\n",
      "Anthropic Tokens Used: 981\n",
      "    Prompt Tokens: 713\n",
      "    Completion Tokens: 268\n",
      "Successful Requests: 1\n",
      "Total Cost (USD): $0.00147\n",
      "Total Cost (KRW): ₩1.9845\n",
      "--------------------------------------------------------------------------------------------------\n",
      "gpt-3.5-turbo | \n",
      "[새로운 문제 1번]\n",
      "<보기> (가) 오늘은 친구들과 영화를 보러 영화관에 갔어요. (나) 영화관에서는 맛있는 팝콘과 음료수를 팔고 있습니다. (다) 영화가 시작되기 전에 몇몇 친구들이 늦게 도착했습니다. (라) 영화를 보면서 모두 즐거운 시간을 보냈습니다.\n",
      "<선택지> 1. (가)-(나)-(다)-(라), 2. (나)-(다)-(라)-(가), 3. (다)-(라)-(가)-(나), 4. (라)-(나)-(가)-(다)\n",
      "<정답> 1. (가)-(나)-(다)-(라)\n",
      "\n",
      "[새로운 문제 2번]\n",
      "<보기> (가) 여름방학 때는 수영장에 자주 가요. (나) 수영장에서는 시원한 수영을 하고 아이스크림도 먹습니다. (다) 물놀이를 즐긴 뒤에는 미끄럼틀에서 놀기도 해요. (라) 수영장에서 친구들을 만나서 신나게 놀았어요.\n",
      "<선택지> 1. (나)-(다)-(가)-(라), 2. (라)-(가)-(나)-(다), 3. (가)-(나)-(라)-(다), 4. (다)-(가)-(라)-(나)\n",
      "<정답> 3. (가)-(나)-(라)-(다)\n",
      "\n",
      "OpenAI Tokens Used: 1079\n",
      "    Prompt Tokens: 669\n",
      "    Completion Tokens: 410\n",
      "Successful Requests: 1\n",
      "Total Cost (USD): $0.00216\n",
      "Total Cost (KRW): ₩2.916\n",
      "--------------------------------------------------------------------------------------------------\n"
     ]
    }
   ],
   "source": [
    "models = [\"gpt-3.5-turbo\",\"claude-3-haiku\"]\n",
    "problem_template = Problem_Template(\"reading_1\", \"problem_type_6\")\n",
    "problem_generate_model = Problem_Generate_Model(models, use_cache=True, temperature=1)\n",
    "problem_generate_model.request_models_responses(\n",
    "    problem_template.get_model_message()\n",
    ")\n",
    "responses = problem_generate_model.get_model_responses()"
   ]
  },
  {
   "cell_type": "markdown",
   "metadata": {},
   "source": [
    "### 59-70 빈칸에 들어갈 말 + 같은 것 고르기\n",
    "\n",
    "![image.png](asset/original_problem_image/7.JPG)"
   ]
  },
  {
   "cell_type": "code",
   "execution_count": 16,
   "metadata": {},
   "outputs": [
    {
     "name": "stdout",
     "output_type": "stream",
     "text": [
      "gpt-3.5-turbo | \n",
      "<보기> 과일을 많이 먹으면 건강에 좋습니다. 그래서 사람들이 과일을 자주 먹습니다. 그런데 속이 안 좋을 때나 배가 아플 때는 과일을 많이 먹는 것이 좋지 않습니다. 과일을 많이 먹으면 속이 부풀어서 속이 안 (㉠). 그래서 속이 안 좋을 때는 과일을 적게 먹어야 합니다. \n",
      "<질문 1> ㉠ 에 들어갈 말로 가장 알맞은 것을 고르십시오.\n",
      "<선택지>: 1. 편합니다, 2. 늘어납니다, 3. 좋습니다, 4. 날아갑니다\n",
      "<질문 2> <보기>의 내용과 같은 것을 고르십시오.\n",
      "<선택지>: 1. 과일을 많이 먹으면 건강에 좋습니다., 2. 과일은 속이 안 좋을 때 먹으면 좋습니다., 3. 과일을 적게 먹으면 배가 아프지 않습니다., 4. 과일을 많이 먹는 것이 항상 좋습니다.\n",
      "\n",
      "OpenAI Tokens Used: 965\n",
      "    Prompt Tokens: 621\n",
      "    Completion Tokens: 344\n",
      "Successful Requests: 1\n",
      "Total Cost (USD): $0.00193\n",
      "Total Cost (KRW): ₩2.6055\n",
      "--------------------------------------------------------------------------------------------------\n",
      "claude-3-haiku-20240307 | \n",
      "[신문 기사 읽기]\n",
      "<보기>\n",
      "여름이 다가오면 많은 사람들이 수박을 먹습니다. 수박은 시원하고 달아서 여름철에 잘 어울리는 과일입니다. 그런데 수박을 너무 많이 먹으면 배가 아프거나 설사를 하게 됩니다. 또한 수박을 먹기 전에는 김치 등의 자극적인 음식을 먹지 않는 것이 좋습니다. 자극적인 음식을 먹은 후에 수박을 먹으면 건강에 좋지 않습니다.\n",
      "\n",
      "<문제 1> 수박을 너무 많이 먹으면 ( )하게 된다.\n",
      "① 기분이 좋아진다\n",
      "② 피로가 풀린다\n",
      "③ 배가 아프거나 설사를 한다\n",
      "④ 몸무게가 늘어난다\n",
      "\n",
      "<문제 2> <보기>의 내용과 같은 것을 고르시오.\n",
      "① 수박은 시원하고 달아서 여름에 잘 어울린다.\n",
      "② 수박을 먹기 전에는 김치 등의 다른 음식을 먹어도 된다.\n",
      "③ 수박을 너무 많이 먹으면 기분이 좋아진다.\n",
      "④ 수박을 먹으면 피로가 풀린다.\n",
      "\n",
      "<정답>\n",
      "<문제 1> ③ 배가 아프거나 설사를 한다\n",
      "<문제 2> ① 수박은 시원하고 달아서 여름에 잘 어울린다.\n",
      "\n",
      "Anthropic Tokens Used: 1211\n",
      "    Prompt Tokens: 710\n",
      "    Completion Tokens: 501\n",
      "Successful Requests: 1\n",
      "Total Cost (USD): $0.00182\n",
      "Total Cost (KRW): ₩2.457\n",
      "--------------------------------------------------------------------------------------------------\n"
     ]
    }
   ],
   "source": [
    "models = [\"gpt-3.5-turbo\",\"claude-3-haiku\"]\n",
    "problem_template = Problem_Template(\"reading_1\", \"problem_type_7\")\n",
    "problem_generate_model = Problem_Generate_Model(models, use_cache=True, temperature=1)\n",
    "problem_generate_model.request_models_responses(\n",
    "    problem_template.get_model_message()\n",
    ")\n",
    "responses = problem_generate_model.get_model_responses()"
   ]
  },
  {
   "cell_type": "code",
   "execution_count": null,
   "metadata": {},
   "outputs": [],
   "source": []
  }
 ],
 "metadata": {
  "kernelspec": {
   "display_name": "Python 3 (ipykernel)",
   "language": "python",
   "name": "python3"
  },
  "language_info": {
   "codemirror_mode": {
    "name": "ipython",
    "version": 3
   },
   "file_extension": ".py",
   "mimetype": "text/x-python",
   "name": "python",
   "nbconvert_exporter": "python",
   "pygments_lexer": "ipython3",
   "version": "3.11.8"
  }
 },
 "nbformat": 4,
 "nbformat_minor": 4
}
