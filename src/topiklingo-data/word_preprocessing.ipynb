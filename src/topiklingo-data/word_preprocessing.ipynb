{
 "cells": [
  {
   "cell_type": "code",
   "execution_count": null,
   "metadata": {},
   "outputs": [],
   "source": [
    "import pandas as pd\n",
    "import csv\n",
    "\n",
    "file = pd.read_csv('Voca/KoreanVocaDict.txt', delimiter = '\\t')\n",
    "file[\"단어\"] = file[\"단어\"].str.replace(\"\\d+\", \"\", regex=True)\n",
    "voca_list = file[file[\"품사\"] == \"명\"]\n",
    "voca_unique = voca_list.drop_duplicates(subset=['단어'])\n",
    "df_sorted = voca_unique.sort_values(by='순위')\n",
    "\n",
    "# '단어' 열만 추출\n",
    "words = df_sorted['단어'].tolist()\n",
    "words\n",
    "# 단어 리스트를 텍스트 파일로 저장\n",
    "# with open('words_list.txt', 'w', encoding='utf-8') as f:\n",
    "#     for word in words:\n",
    "#         f.write(f\"{word}\\n\")"
   ]
  },
  {
   "cell_type": "code",
   "execution_count": 17,
   "metadata": {},
   "outputs": [],
   "source": [
    "import pandas as pd\n",
    "from random import shuffle\n",
    "\n",
    "file = pd.read_excel('Voca/easy_voca.xls', sheet_name='공개 어휘 목록')\n",
    "file[\"형태\"] = file[\"형태\"].str.replace(\"\\d+\", \"\", regex=True)\n",
    "voca_list = file[file[\"품사\"] == \"명사\"]\n",
    "voca_list = voca_list[[\"형태\",\"품사\"]]\n",
    "voca_unique = voca_list.drop_duplicates(subset=['형태'])\n",
    "words = voca_unique['형태'].tolist()\n",
    "shuffle(words)\n",
    "with open('Voca/easy_words_list.txt', 'w', encoding='utf-8') as f:\n",
    "    for word in words:\n",
    "        f.write(f\"{word}\\n\")"
   ]
  },
  {
   "cell_type": "code",
   "execution_count": 7,
   "metadata": {},
   "outputs": [],
   "source": [
    "import pandas as pd\n",
    "from random import shuffle\n",
    "\n",
    "file = pd.read_excel('Voca/normal_voca.xlsx', sheet_name='공개 어휘 목록', engine='openpyxl')\n",
    "file[\"어휘\"] = file[\"어휘\"].str.replace(\"\\d+\", \"\", regex=True)\n",
    "voca_list = file[file[\"품사\"] == \"일반명사\"]\n",
    "voca_list = voca_list[[\"어휘\",\"품사\"]]\n",
    "voca_unique = voca_list.drop_duplicates(subset=['어휘'])\n",
    "words = voca_unique['어휘'].tolist()\n",
    "shuffle(words)\n",
    "with open('Voca/normal_words_list.txt', 'w', encoding='utf-8') as f:\n",
    "    for word in words:\n",
    "        f.write(f\"{word}\\n\")"
   ]
  },
  {
   "cell_type": "code",
   "execution_count": 28,
   "metadata": {},
   "outputs": [
    {
     "name": "stdout",
     "output_type": "stream",
     "text": [
      "고민\n"
     ]
    }
   ],
   "source": [
    "from util import random_word\n",
    "print(random_word(difficulty='normal'))"
   ]
  }
 ],
 "metadata": {
  "kernelspec": {
   "display_name": "topik",
   "language": "python",
   "name": "python3"
  },
  "language_info": {
   "codemirror_mode": {
    "name": "ipython",
    "version": 3
   },
   "file_extension": ".py",
   "mimetype": "text/x-python",
   "name": "python",
   "nbconvert_exporter": "python",
   "pygments_lexer": "ipython3",
   "version": "3.11.8"
  }
 },
 "nbformat": 4,
 "nbformat_minor": 2
}
