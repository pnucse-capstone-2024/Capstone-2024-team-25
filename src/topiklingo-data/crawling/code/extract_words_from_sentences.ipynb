{
 "cells": [
  {
   "cell_type": "code",
   "execution_count": 27,
   "metadata": {},
   "outputs": [
    {
     "data": {
      "text/plain": [
       "1914"
      ]
     },
     "execution_count": 27,
     "metadata": {},
     "output_type": "execute_result"
    }
   ],
   "source": [
    "import pandas as pd\n",
    "\n",
    "### Extract sentences from a csv file\n",
    "mock_test_data = pd.read_csv('C:/Users/User/Desktop/temp/uni/final_project/topik-korea-data/crawling/data/csv/test_data.csv')\n",
    "raw_sentences_1 = mock_test_data['text_in_box']\n",
    "raw_sentences_2 = mock_test_data['choices']\n",
    "\n",
    "### Split each row into single sentences\n",
    "raw_sentences_1 = raw_sentences_1.str.strip('[]')\n",
    "raw_sentences_1 = raw_sentences_1.str.split(', ')\n",
    "raw_sentences_1 = raw_sentences_1.dropna()\n",
    "raw_sentences_1 = raw_sentences_1.reset_index(drop=True)\n",
    "# print(raw_sentences_1[0])\n",
    "sentence_list = []\n",
    "for string_list in raw_sentences_1:\n",
    "    sentence_list += string_list\n",
    "len(sentence_list)\n",
    "### Merge two series into one\n",
    "# raw_sentences_1"
   ]
  },
  {
   "cell_type": "code",
   "execution_count": 24,
   "metadata": {},
   "outputs": [
    {
     "data": {
      "text/plain": [
       "['s', 'b', '3']"
      ]
     },
     "execution_count": 24,
     "metadata": {},
     "output_type": "execute_result"
    }
   ],
   "source": [
    "a = ['s', 'b']\n",
    "b = ['3']\n",
    "a+b"
   ]
  }
 ],
 "metadata": {
  "kernelspec": {
   "display_name": "Python 3",
   "language": "python",
   "name": "python3"
  },
  "language_info": {
   "codemirror_mode": {
    "name": "ipython",
    "version": 3
   },
   "file_extension": ".py",
   "mimetype": "text/x-python",
   "name": "python",
   "nbconvert_exporter": "python",
   "pygments_lexer": "ipython3",
   "version": "3.10.11"
  }
 },
 "nbformat": 4,
 "nbformat_minor": 2
}
