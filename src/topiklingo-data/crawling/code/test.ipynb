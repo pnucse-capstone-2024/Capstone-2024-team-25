{
 "cells": [
  {
   "cell_type": "code",
   "execution_count": 1,
   "metadata": {},
   "outputs": [
    {
     "data": {
      "text/plain": [
       "{'list': []}"
      ]
     },
     "execution_count": 1,
     "metadata": {},
     "output_type": "execute_result"
    }
   ],
   "source": [
    "my_dict = {}\n",
    "my_dict['list']= []\n",
    "my_dict"
   ]
  },
  {
   "cell_type": "code",
   "execution_count": 2,
   "metadata": {},
   "outputs": [
    {
     "data": {
      "text/plain": [
       "['가구점', '여행사', '신발 가게', '안경 가게']"
      ]
     },
     "execution_count": 2,
     "metadata": {},
     "output_type": "execute_result"
    }
   ],
   "source": [
    "import ast\n",
    "import pandas as pd\n",
    "\n",
    "def string_to_list(string):\n",
    "    ### Convert a string to a list\n",
    "    if pd.isna(string):\n",
    "        return None\n",
    "    if string == '[]':\n",
    "        return None\n",
    "    return ast.literal_eval(string)\n",
    "\n",
    "string_to_list(\"['가구점', '여행사', '신발 가게', '안경 가게']\")"
   ]
  },
  {
   "cell_type": "code",
   "execution_count": 21,
   "metadata": {},
   "outputs": [],
   "source": [
    "# import numpy as np\n",
    "\n",
    "# df = pd.read_csv('C:/Users/User/Desktop/temp/uni/final_project/topik-korea-data/crawling/data/csv/test_data.csv')\n",
    "\n",
    "# tags = df['tag'].apply(string_to_list)\n",
    "# ### Get a list of the second element of each list\n",
    "# exam_codes = tags.apply(lambda x: x[1] if x else None)\n",
    "# df['exam_code'] = exam_codes\n",
    "# unique_exam_codes = np.unique(exam_codes)\n",
    "# df\n",
    "\n",
    "# # tags.values.unique()"
   ]
  },
  {
   "cell_type": "code",
   "execution_count": 6,
   "metadata": {},
   "outputs": [
    {
     "name": "stdout",
     "output_type": "stream",
     "text": [
      "no\n"
     ]
    }
   ],
   "source": [
    "if ['91_1_15_1.png', '91_1_15_2.png', '91_1_15_3.png', '91_1_15_4.png'] is None:\n",
    "    print('yes')\n",
    "else:\n",
    "    print('no')"
   ]
  },
  {
   "cell_type": "code",
   "execution_count": 47,
   "metadata": {},
   "outputs": [
    {
     "data": {
      "text/html": [
       "<div>\n",
       "<style scoped>\n",
       "    .dataframe tbody tr th:only-of-type {\n",
       "        vertical-align: middle;\n",
       "    }\n",
       "\n",
       "    .dataframe tbody tr th {\n",
       "        vertical-align: top;\n",
       "    }\n",
       "\n",
       "    .dataframe thead th {\n",
       "        text-align: right;\n",
       "    }\n",
       "</style>\n",
       "<table border=\"1\" class=\"dataframe\">\n",
       "  <thead>\n",
       "    <tr style=\"text-align: right;\">\n",
       "      <th></th>\n",
       "      <th>tag</th>\n",
       "      <th>title</th>\n",
       "      <th>topik_level</th>\n",
       "      <th>listen_or_read</th>\n",
       "      <th>unique_id</th>\n",
       "      <th>prob_num</th>\n",
       "      <th>parent_or_child</th>\n",
       "      <th>child_ids</th>\n",
       "      <th>point</th>\n",
       "      <th>question</th>\n",
       "      <th>text_in_box</th>\n",
       "      <th>choices</th>\n",
       "      <th>selected_choice_number</th>\n",
       "      <th>img_name</th>\n",
       "      <th>underline_in_question</th>\n",
       "      <th>underline_in_box</th>\n",
       "    </tr>\n",
       "  </thead>\n",
       "  <tbody>\n",
       "    <tr>\n",
       "      <th>19</th>\n",
       "      <td>['2023', '2023-0']</td>\n",
       "      <td>topik-1-listening</td>\n",
       "      <td>1</td>\n",
       "      <td>듣기</td>\n",
       "      <td>19</td>\n",
       "      <td>15.0</td>\n",
       "      <td>Child</td>\n",
       "      <td>NaN</td>\n",
       "      <td>4.0</td>\n",
       "      <td>NaN</td>\n",
       "      <td>NaN</td>\n",
       "      <td>NaN</td>\n",
       "      <td>NaN</td>\n",
       "      <td>[91_1_15_1.png, 91_1_15_2.png, 91_1_15_3.png, ...</td>\n",
       "      <td>NaN</td>\n",
       "      <td>NaN</td>\n",
       "    </tr>\n",
       "    <tr>\n",
       "      <th>20</th>\n",
       "      <td>['2023', '2023-0']</td>\n",
       "      <td>topik-1-listening</td>\n",
       "      <td>1</td>\n",
       "      <td>듣기</td>\n",
       "      <td>20</td>\n",
       "      <td>16.0</td>\n",
       "      <td>Child</td>\n",
       "      <td>NaN</td>\n",
       "      <td>4.0</td>\n",
       "      <td>NaN</td>\n",
       "      <td>NaN</td>\n",
       "      <td>NaN</td>\n",
       "      <td>NaN</td>\n",
       "      <td>[91_1_16_1.png, 91_1_16_2.png, 91_1_16_3.png, ...</td>\n",
       "      <td>NaN</td>\n",
       "      <td>NaN</td>\n",
       "    </tr>\n",
       "    <tr>\n",
       "      <th>52</th>\n",
       "      <td>['2023', '2023-0']</td>\n",
       "      <td>topik-1-reading</td>\n",
       "      <td>1</td>\n",
       "      <td>읽기</td>\n",
       "      <td>52</td>\n",
       "      <td>40.0</td>\n",
       "      <td>Child</td>\n",
       "      <td>NaN</td>\n",
       "      <td>3.0</td>\n",
       "      <td>NaN</td>\n",
       "      <td>NaN</td>\n",
       "      <td>['김밥입니다.', '천오백 원입니다.', '불고기 맛입니다.', '십이월까지 팝니...</td>\n",
       "      <td>NaN</td>\n",
       "      <td>[91_1_40.png]</td>\n",
       "      <td>NaN</td>\n",
       "      <td>NaN</td>\n",
       "    </tr>\n",
       "    <tr>\n",
       "      <th>53</th>\n",
       "      <td>['2023', '2023-0']</td>\n",
       "      <td>topik-1-reading</td>\n",
       "      <td>1</td>\n",
       "      <td>읽기</td>\n",
       "      <td>53</td>\n",
       "      <td>41.0</td>\n",
       "      <td>Child</td>\n",
       "      <td>NaN</td>\n",
       "      <td>3.0</td>\n",
       "      <td>NaN</td>\n",
       "      <td>NaN</td>\n",
       "      <td>['주차장은 공원 안에 있습니다.', '카페 옆에 화장실이 있습니다.', '공원에 ...</td>\n",
       "      <td>NaN</td>\n",
       "      <td>[91_1_41.png]</td>\n",
       "      <td>NaN</td>\n",
       "      <td>NaN</td>\n",
       "    </tr>\n",
       "    <tr>\n",
       "      <th>54</th>\n",
       "      <td>['2023', '2023-0']</td>\n",
       "      <td>topik-1-reading</td>\n",
       "      <td>1</td>\n",
       "      <td>읽기</td>\n",
       "      <td>54</td>\n",
       "      <td>42.0</td>\n",
       "      <td>Child</td>\n",
       "      <td>NaN</td>\n",
       "      <td>3.0</td>\n",
       "      <td>NaN</td>\n",
       "      <td>NaN</td>\n",
       "      <td>['수미 씨는 오늘 바빴습니다.', '수미 씨는 메시지를 보냈습니다.', '수미 씨...</td>\n",
       "      <td>NaN</td>\n",
       "      <td>[91_1_42.png]</td>\n",
       "      <td>NaN</td>\n",
       "      <td>NaN</td>\n",
       "    </tr>\n",
       "    <tr>\n",
       "      <th>...</th>\n",
       "      <td>...</td>\n",
       "      <td>...</td>\n",
       "      <td>...</td>\n",
       "      <td>...</td>\n",
       "      <td>...</td>\n",
       "      <td>...</td>\n",
       "      <td>...</td>\n",
       "      <td>...</td>\n",
       "      <td>...</td>\n",
       "      <td>...</td>\n",
       "      <td>...</td>\n",
       "      <td>...</td>\n",
       "      <td>...</td>\n",
       "      <td>...</td>\n",
       "      <td>...</td>\n",
       "      <td>...</td>\n",
       "    </tr>\n",
       "    <tr>\n",
       "      <th>2280</th>\n",
       "      <td>['2014', '2014-2']</td>\n",
       "      <td>topik-2-reading</td>\n",
       "      <td>2</td>\n",
       "      <td>읽기</td>\n",
       "      <td>2280</td>\n",
       "      <td>6.0</td>\n",
       "      <td>Child</td>\n",
       "      <td>NaN</td>\n",
       "      <td>2.0</td>\n",
       "      <td>NaN</td>\n",
       "      <td>NaN</td>\n",
       "      <td>['학원', '병원', '박물관', '대사관']</td>\n",
       "      <td>NaN</td>\n",
       "      <td>[35_2_2_6.png]</td>\n",
       "      <td>NaN</td>\n",
       "      <td>NaN</td>\n",
       "    </tr>\n",
       "    <tr>\n",
       "      <th>2281</th>\n",
       "      <td>['2014', '2014-2']</td>\n",
       "      <td>topik-2-reading</td>\n",
       "      <td>2</td>\n",
       "      <td>읽기</td>\n",
       "      <td>2281</td>\n",
       "      <td>7.0</td>\n",
       "      <td>Child</td>\n",
       "      <td>NaN</td>\n",
       "      <td>2.0</td>\n",
       "      <td>NaN</td>\n",
       "      <td>NaN</td>\n",
       "      <td>['환경 보호', '공원 소개', '날씨 정보', '여행 계획']</td>\n",
       "      <td>NaN</td>\n",
       "      <td>[35_2_2_7.png]</td>\n",
       "      <td>NaN</td>\n",
       "      <td>NaN</td>\n",
       "    </tr>\n",
       "    <tr>\n",
       "      <th>2282</th>\n",
       "      <td>['2014', '2014-2']</td>\n",
       "      <td>topik-2-reading</td>\n",
       "      <td>2</td>\n",
       "      <td>읽기</td>\n",
       "      <td>2282</td>\n",
       "      <td>8.0</td>\n",
       "      <td>Child</td>\n",
       "      <td>NaN</td>\n",
       "      <td>2.0</td>\n",
       "      <td>NaN</td>\n",
       "      <td>NaN</td>\n",
       "      <td>['상품 안내', '모집 안내', '문의 방법', '사용 방법']</td>\n",
       "      <td>NaN</td>\n",
       "      <td>[35_2_2_8.png]</td>\n",
       "      <td>NaN</td>\n",
       "      <td>NaN</td>\n",
       "    </tr>\n",
       "    <tr>\n",
       "      <th>2284</th>\n",
       "      <td>['2014', '2014-2']</td>\n",
       "      <td>topik-2-reading</td>\n",
       "      <td>2</td>\n",
       "      <td>읽기</td>\n",
       "      <td>2284</td>\n",
       "      <td>9.0</td>\n",
       "      <td>Child</td>\n",
       "      <td>NaN</td>\n",
       "      <td>2.0</td>\n",
       "      <td>NaN</td>\n",
       "      <td>NaN</td>\n",
       "      <td>['주말에는 단체 할인을 받을 수 있다.', '이 행사는 이번에 처음 열리는 행사이...</td>\n",
       "      <td>NaN</td>\n",
       "      <td>[35_2_2_9.png]</td>\n",
       "      <td>NaN</td>\n",
       "      <td>NaN</td>\n",
       "    </tr>\n",
       "    <tr>\n",
       "      <th>2285</th>\n",
       "      <td>['2014', '2014-2']</td>\n",
       "      <td>topik-2-reading</td>\n",
       "      <td>2</td>\n",
       "      <td>읽기</td>\n",
       "      <td>2285</td>\n",
       "      <td>10.0</td>\n",
       "      <td>Child</td>\n",
       "      <td>NaN</td>\n",
       "      <td>2.0</td>\n",
       "      <td>NaN</td>\n",
       "      <td>NaN</td>\n",
       "      <td>['주인 없는 동물을 데려와 키우는 사람이 가장 적다.', '인터넷에서 산 사람이 ...</td>\n",
       "      <td>NaN</td>\n",
       "      <td>[35_2_2_10.png]</td>\n",
       "      <td>NaN</td>\n",
       "      <td>NaN</td>\n",
       "    </tr>\n",
       "  </tbody>\n",
       "</table>\n",
       "<p>150 rows × 16 columns</p>\n",
       "</div>"
      ],
      "text/plain": [
       "                     tag              title  topik_level listen_or_read  \\\n",
       "19    ['2023', '2023-0']  topik-1-listening            1             듣기   \n",
       "20    ['2023', '2023-0']  topik-1-listening            1             듣기   \n",
       "52    ['2023', '2023-0']    topik-1-reading            1             읽기   \n",
       "53    ['2023', '2023-0']    topik-1-reading            1             읽기   \n",
       "54    ['2023', '2023-0']    topik-1-reading            1             읽기   \n",
       "...                  ...                ...          ...            ...   \n",
       "2280  ['2014', '2014-2']    topik-2-reading            2             읽기   \n",
       "2281  ['2014', '2014-2']    topik-2-reading            2             읽기   \n",
       "2282  ['2014', '2014-2']    topik-2-reading            2             읽기   \n",
       "2284  ['2014', '2014-2']    topik-2-reading            2             읽기   \n",
       "2285  ['2014', '2014-2']    topik-2-reading            2             읽기   \n",
       "\n",
       "      unique_id  prob_num parent_or_child child_ids  point question  \\\n",
       "19           19      15.0           Child       NaN    4.0      NaN   \n",
       "20           20      16.0           Child       NaN    4.0      NaN   \n",
       "52           52      40.0           Child       NaN    3.0      NaN   \n",
       "53           53      41.0           Child       NaN    3.0      NaN   \n",
       "54           54      42.0           Child       NaN    3.0      NaN   \n",
       "...         ...       ...             ...       ...    ...      ...   \n",
       "2280       2280       6.0           Child       NaN    2.0      NaN   \n",
       "2281       2281       7.0           Child       NaN    2.0      NaN   \n",
       "2282       2282       8.0           Child       NaN    2.0      NaN   \n",
       "2284       2284       9.0           Child       NaN    2.0      NaN   \n",
       "2285       2285      10.0           Child       NaN    2.0      NaN   \n",
       "\n",
       "     text_in_box                                            choices  \\\n",
       "19           NaN                                                NaN   \n",
       "20           NaN                                                NaN   \n",
       "52           NaN  ['김밥입니다.', '천오백 원입니다.', '불고기 맛입니다.', '십이월까지 팝니...   \n",
       "53           NaN  ['주차장은 공원 안에 있습니다.', '카페 옆에 화장실이 있습니다.', '공원에 ...   \n",
       "54           NaN  ['수미 씨는 오늘 바빴습니다.', '수미 씨는 메시지를 보냈습니다.', '수미 씨...   \n",
       "...          ...                                                ...   \n",
       "2280         NaN                         ['학원', '병원', '박물관', '대사관']   \n",
       "2281         NaN               ['환경 보호', '공원 소개', '날씨 정보', '여행 계획']   \n",
       "2282         NaN               ['상품 안내', '모집 안내', '문의 방법', '사용 방법']   \n",
       "2284         NaN  ['주말에는 단체 할인을 받을 수 있다.', '이 행사는 이번에 처음 열리는 행사이...   \n",
       "2285         NaN  ['주인 없는 동물을 데려와 키우는 사람이 가장 적다.', '인터넷에서 산 사람이 ...   \n",
       "\n",
       "      selected_choice_number  \\\n",
       "19                       NaN   \n",
       "20                       NaN   \n",
       "52                       NaN   \n",
       "53                       NaN   \n",
       "54                       NaN   \n",
       "...                      ...   \n",
       "2280                     NaN   \n",
       "2281                     NaN   \n",
       "2282                     NaN   \n",
       "2284                     NaN   \n",
       "2285                     NaN   \n",
       "\n",
       "                                               img_name underline_in_question  \\\n",
       "19    [91_1_15_1.png, 91_1_15_2.png, 91_1_15_3.png, ...                   NaN   \n",
       "20    [91_1_16_1.png, 91_1_16_2.png, 91_1_16_3.png, ...                   NaN   \n",
       "52                                        [91_1_40.png]                   NaN   \n",
       "53                                        [91_1_41.png]                   NaN   \n",
       "54                                        [91_1_42.png]                   NaN   \n",
       "...                                                 ...                   ...   \n",
       "2280                                     [35_2_2_6.png]                   NaN   \n",
       "2281                                     [35_2_2_7.png]                   NaN   \n",
       "2282                                     [35_2_2_8.png]                   NaN   \n",
       "2284                                     [35_2_2_9.png]                   NaN   \n",
       "2285                                    [35_2_2_10.png]                   NaN   \n",
       "\n",
       "     underline_in_box  \n",
       "19                NaN  \n",
       "20                NaN  \n",
       "52                NaN  \n",
       "53                NaN  \n",
       "54                NaN  \n",
       "...               ...  \n",
       "2280              NaN  \n",
       "2281              NaN  \n",
       "2282              NaN  \n",
       "2284              NaN  \n",
       "2285              NaN  \n",
       "\n",
       "[150 rows x 16 columns]"
      ]
     },
     "execution_count": 47,
     "metadata": {},
     "output_type": "execute_result"
    }
   ],
   "source": [
    "def string_to_list(string):\n",
    "    ### Convert a string to a list\n",
    "    if pd.isna(string):\n",
    "        return None\n",
    "    if string == '[]':\n",
    "        return None\n",
    "    return ast.literal_eval(string)\n",
    "\n",
    "def img_string_to_list(string):\n",
    "    ### Convert a string to a list\n",
    "    if pd.isna(string):\n",
    "        return None\n",
    "    if string == '[]':\n",
    "        return None\n",
    "    string = string.replace('.png', '')\n",
    "    print(string)\n",
    "    return ast.literal_eval(string)\n",
    "\n",
    "df = pd.read_csv('C:/Users/User/Desktop/temp/uni/final_project/topik-korea-data/crawling/data/csv/test_data.csv')\n",
    "# display(df.img_name.head())\n",
    "df['img_name'] = df['img_name'].apply(string_to_list)\n",
    "df[df['img_name'].notna()]"
   ]
  },
  {
   "cell_type": "code",
   "execution_count": 40,
   "metadata": {},
   "outputs": [
    {
     "data": {
      "text/plain": [
       "[2023, 2022, 2019, 2018, 2017, 2016, 2015, 2014]"
      ]
     },
     "execution_count": 40,
     "metadata": {},
     "output_type": "execute_result"
    }
   ],
   "source": [
    "import re\n",
    "h3_texts = ['2023년도 TOPIK', '2022년도 TOPIK', '2019년도 TOPIK', '2018년도 TOPIK', '2017년도 TOPIK', '2016년도 TOPIK', '2015년도 TOPIK', '2014년도 TOPIK']\n",
    "### regular expression to extract numbers from a string\n",
    "numbers = list(map(int, re.findall(r'\\d+', str(h3_texts))))\n",
    "numbers \n",
    "list(map(int, re.findall(r'/d+', str(h3_texts))))"
   ]
  },
  {
   "cell_type": "code",
   "execution_count": 42,
   "metadata": {},
   "outputs": [
    {
     "data": {
      "text/plain": [
       "'35_1_63'"
      ]
     },
     "execution_count": 42,
     "metadata": {},
     "output_type": "execute_result"
    }
   ],
   "source": [
    "filename = '35_1_e63.png'\n",
    "filename_first_part, filename_second_part = filename.split('.')\n",
    "### Get rid of any alphabet from the img name. Ex. 35_1_e63.png => 35_1_63.png\n",
    "filename_first_part = re.sub(r'[a-zA-Z]', '', filename_first_part)\n",
    "filename_first_part"
   ]
  },
  {
   "cell_type": "code",
   "execution_count": 3,
   "metadata": {},
   "outputs": [
    {
     "data": {
      "text/plain": [
       "True"
      ]
     },
     "execution_count": 3,
     "metadata": {},
     "output_type": "execute_result"
    }
   ],
   "source": [
    "1 == 1.0"
   ]
  },
  {
   "cell_type": "code",
   "execution_count": 6,
   "metadata": {},
   "outputs": [
    {
     "name": "stdout",
     "output_type": "stream",
     "text": [
      "orig_uuid: 6c0471ad-14e1-11ef-80f5-e5a43cd400fd, int_uuid: 143579698357424174394748415457155612925, str_uuid: 6c0471ad-14e1-11ef-80f5-e5a43cd400fd, long_uuid: 143579698357424174394748415457155612925\n"
     ]
    }
   ],
   "source": [
    "import uuid\n",
    "\n",
    "myuuid = uuid.uuid1()\n",
    "int_uuid = int(myuuid)\n",
    "str_uuid = str(myuuid)\n",
    "long_uuid = myuuid.int\n",
    "print(f'orig_uuid: {myuuid}, int_uuid: {int_uuid}, str_uuid: {str_uuid}, long_uuid: {long_uuid}')\n",
    "# print(f'type: {type(myuuid)}, uuid: {myuuid}')"
   ]
  },
  {
   "cell_type": "code",
   "execution_count": 5,
   "metadata": {},
   "outputs": [
    {
     "data": {
      "text/plain": [
       "'이 글의 내용과 같은 것을 고르십시오.(3점)'"
      ]
     },
     "execution_count": 5,
     "metadata": {},
     "output_type": "execute_result"
    }
   ],
   "source": [
    "import re\n",
    "\n",
    "mystr = \"56.이 글의 내용과 같은 것을 고르십시오.(3점)\"\n",
    "### Find a pattern, 'any number followed by a period' at the beginning of a string\n",
    "pattern = r'^\\d+\\.'\n",
    "# found_pattern = re.findall(pattern, mystr)\n",
    "new_str = re.sub(pattern, '', mystr)\n",
    "new_str"
   ]
  },
  {
   "cell_type": "code",
   "execution_count": 4,
   "metadata": {},
   "outputs": [
    {
     "data": {
      "text/plain": [
       "'{\\'conversation\\': \"[인주시에서는 매년 5월 \\'인주 꽃 축제\\'를 엽니다. 이 축제에서는 세계 여러 나라의 꽃을 볼 수 있습니다. 특히 올해 축제에서는 많은 사람이 모여서 꽃으로 세계 지도 만들기를 합니다. 또 평일 오전에 가면 무료로 꽃다발을 ( ㉠ ) 꽃 그림 그리기를 할 수 있습니다.]\"}'"
      ]
     },
     "execution_count": 4,
     "metadata": {},
     "output_type": "execute_result"
    }
   ],
   "source": [
    "mystr = \"[\"\"인주시에서는 매년 5월 '인주 꽃 축제'를 엽니다. 이 축제에서는 세계 여러 나라의 꽃을 볼 수 있습니다. 특히 올해 축제에서는 많은 사람이 모여서 꽃으로 세계 지도 만들기를 합니다. 또 평일 오전에 가면 무료로 꽃다발을 ( ㉠ ) 꽃 그림 그리기를 할 수 있습니다.\"\"]\"\n",
    "# mystr = str(mystr)\n",
    "example = {'conversation': mystr\n",
    "           }\n",
    "example = str(example)\n",
    "example"
   ]
  },
  {
   "cell_type": "code",
   "execution_count": 24,
   "metadata": {},
   "outputs": [],
   "source": [
    "### Read a json file named 'C:\\Users\\User\\Desktop\\temp\\uni\\final_project\\topik-korea-data\\crawling\\data\\json\\2022-0-topik-1-reading.json'\n",
    "\n",
    "import json\n",
    "import re\n",
    "\n",
    "def replace_double_backslashes_followed_by_a_single_quote(data):\n",
    "    if isinstance(data, dict):\n",
    "        return {key: replace_double_backslashes_followed_by_a_single_quote(value) for key, value in data.items()}\n",
    "    elif isinstance(data, list):\n",
    "        return [replace_double_backslashes_followed_by_a_single_quote(item) for item in data]\n",
    "    elif isinstance(data, str):\n",
    "        return re.sub(r\"\\\\+'\", \"<apos>\", data)\n",
    "    else:\n",
    "        return data\n",
    "\n",
    "json_file = 'C:/Users/User/Desktop/temp/uni/final_project/topik-korea-data/crawling/data/json/2022-0-topik-1-reading.json'\n",
    "json_file_modified = 'C:/Users/User/Desktop/temp/uni/final_project/topik-korea-data/crawling/data/json/2022-0-topik-1-reading_modified.json'\n",
    "with open(json_file, 'r', encoding='utf-8-sig') as f:\n",
    "    data = json.load(f)\n",
    "if data:\n",
    "    modified_json = replace_double_backslashes_followed_by_a_single_quote(data)\n",
    "    ### Save the modified json file\n",
    "    with open(json_file_modified, 'w', encoding='utf-8-sig') as f:\n",
    "        json.dump(modified_json, f, ensure_ascii=False, indent=4)\n",
    "\n"
   ]
  },
  {
   "cell_type": "code",
   "execution_count": 2,
   "metadata": {},
   "outputs": [
    {
     "name": "stdout",
     "output_type": "stream",
     "text": [
      "{\"name\": \"GeeksforGeeks\", \"Topic\": \"Json to String\", \"Method\": 1}\n",
      "<class 'str'>\n"
     ]
    },
    {
     "data": {
      "text/plain": [
       "'{\"name\": \"GeeksforGeeks\", \"Topic\": \"Json to String\", \"Method\": 1}'"
      ]
     },
     "execution_count": 2,
     "metadata": {},
     "output_type": "execute_result"
    }
   ],
   "source": [
    "import json\n",
    "\n",
    "# create a sample json\n",
    "\n",
    "a = {\"name\" : \"GeeksforGeeks\", \"Topic\" : \"Json to String\", \"Method\": 1}\n",
    "\n",
    "# Convert JSON to String\n",
    "\n",
    "y = json.dumps(a)\n",
    "\n",
    "print(y)\n",
    "print(type(y))\n",
    "y\n"
   ]
  },
  {
   "cell_type": "code",
   "execution_count": 19,
   "metadata": {},
   "outputs": [
    {
     "data": {
      "text/plain": [
       "'\"[인주시에서는 매년 5월 \\'인주 꽃 축제\\'를 엽니다. 이 축제에서는 세계 여러 나라의 꽃을 볼 수 있습니다. 특히 올해 축제에서는 많은 사람이 모여서 꽃으로 세계 지도 만들기를 합니다. 또 평일 오전에 가면 무료로 꽃다발을 ( ㉠ ) 꽃 그림 그리기를 할 수 있습니다.]\"'"
      ]
     },
     "metadata": {},
     "output_type": "display_data"
    },
    {
     "data": {
      "text/plain": [
       "\"[인주시에서는 매년 5월 '인주 꽃 축제'를 엽니다. 이 축제에서는 세계 여러 나라의 꽃을 볼 수 있습니다. 특히 올해 축제에서는 많은 사람이 모여서 꽃으로 세계 지도 만들기를 합니다. 또 평일 오전에 가면 무료로 꽃다발을 ( ㉠ ) 꽃 그림 그리기를 할 수 있습니다.]\""
      ]
     },
     "metadata": {},
     "output_type": "display_data"
    },
    {
     "data": {
      "text/plain": [
       "\"[인주시에서는 매년 5월 '인주 꽃 축제'를 엽니다. 이 축제에서는 세계 여러 나라의 꽃을 볼 수 있습니다. 특히 올해 축제에서는 많은 사람이 모여서 꽃으로 세계 지도 만들기를 합니다. 또 평일 오전에 가면 무료로 꽃다발을 ( ㉠ ) 꽃 그림 그리기를 할 수 있습니다.]\""
      ]
     },
     "metadata": {},
     "output_type": "display_data"
    },
    {
     "data": {
      "text/plain": [
       "{'conversation': '[\"인주시에서는 매년 5월 \\'인주 꽃 축제\\'를 엽니다. 이 축제에서는 세계 여러 나라의 꽃을 볼 수 있습니다. 특히 올해 축제에서는 많은 사람이 모여서 꽃으로 세계 지도 만들기를 합니다. 또 평일 오전에 가면 무료로 꽃다발을 ( ㉠ ) 꽃 그림 그리기를 할 수 있습니다.\"]',\n",
       " 'answers': None,\n",
       " 'selected': nan}"
      ]
     },
     "metadata": {},
     "output_type": "display_data"
    }
   ],
   "source": [
    "a = \"[\"\"인주시에서는 매년 5월 '인주 꽃 축제'를 엽니다. 이 축제에서는 세계 여러 나라의 꽃을 볼 수 있습니다. 특히 올해 축제에서는 많은 사람이 모여서 꽃으로 세계 지도 만들기를 합니다. 또 평일 오전에 가면 무료로 꽃다발을 ( ㉠ ) 꽃 그림 그리기를 할 수 있습니다.\"\"]\"\n",
    "a_dump = json.dumps(a, ensure_ascii=False)\n",
    "a_str = str(a)\n",
    "a_load = json.loads(a_dump)\n",
    "display(a_dump)\n",
    "display(a_load)\n",
    "# type(b)\n",
    "display(a_str)\n",
    "dumpstr = \"{\\\"conversation\\\": \\\"[\\\\\\\"인주시에서는 매년 5월 '인주 꽃 축제'를 엽니다. 이 축제에서는 세계 여러 나라의 꽃을 볼 수 있습니다. 특히 올해 축제에서는 많은 사람이 모여서 꽃으로 세계 지도 만들기를 합니다. 또 평일 오전에 가면 무료로 꽃다발을 ( ㉠ ) 꽃 그림 그리기를 할 수 있습니다.\\\\\\\"]\\\", \\\"answers\\\": null, \\\"selected\\\": NaN}\"\n",
    "loadstr = json.loads(dumpstr)\n",
    "display(loadstr)"
   ]
  },
  {
   "cell_type": "code",
   "execution_count": 1,
   "metadata": {},
   "outputs": [
    {
     "data": {
      "text/plain": [
       "1375"
      ]
     },
     "execution_count": 1,
     "metadata": {},
     "output_type": "execute_result"
    }
   ],
   "source": [
    "total_code_line = 555 + 255 + 43 + 43 + 74 + 41 + 364\n",
    "total_code_line"
   ]
  },
  {
   "cell_type": "code",
   "execution_count": 5,
   "metadata": {},
   "outputs": [
    {
     "data": {
      "text/plain": [
       "1700"
      ]
     },
     "execution_count": 5,
     "metadata": {},
     "output_type": "execute_result"
    }
   ],
   "source": [
    "import pandas as pd\n",
    "\n",
    "df = pd.read_csv('C:/Users/User/Desktop/temp/uni/final_project/topik-korea-data/crawling/data/csv/test_data.csv')\n",
    "df[df['parent_or_child'] == 'Child'].shape[0]"
   ]
  },
  {
   "cell_type": "code",
   "execution_count": 15,
   "metadata": {},
   "outputs": [
    {
     "data": {
      "text/plain": [
       "'※ ( )에 들어갈 가장 알맞은 것을 고르십시오.'"
      ]
     },
     "execution_count": 15,
     "metadata": {},
     "output_type": "execute_result"
    }
   ],
   "source": [
    "import re\n",
    "\n",
    "def remove_parentheses_containing_points(text):\n",
    "    ### Remove parentheses from a string\n",
    "    pattern = r'\\(.*?\\d+점\\)'\n",
    "\n",
    "    # Step 1: Split the text by periods\n",
    "    sentences = text.split('.')\n",
    "\n",
    "    # Step 2: Apply re.sub() to each element\n",
    "    processed_sentences = [re.sub(pattern, '', sentence).strip() for sentence in sentences]\n",
    "\n",
    "    # Step 3: Join the processed elements back together with periods\n",
    "    # Note: Use '. '.join() to ensure proper spacing, as split() removes the periods\n",
    "    result = '. '.join(processed_sentences).strip()\n",
    "    \n",
    "    return result\n",
    "\n",
    "text = \"※ ( )에 들어갈 가장 알맞은 것을 고르십시오. (각 2점)\"\n",
    "\n",
    "remove_parentheses_containing_points(text)"
   ]
  },
  {
   "cell_type": "code",
   "execution_count": null,
   "metadata": {},
   "outputs": [],
   "source": [
    "text = '※ ( )에 들어갈 가장 알맞은 것을 고르십시오. (각 2점)'\n",
    "text.split('.')"
   ]
  }
 ],
 "metadata": {
  "kernelspec": {
   "display_name": "Python 3",
   "language": "python",
   "name": "python3"
  },
  "language_info": {
   "codemirror_mode": {
    "name": "ipython",
    "version": 3
   },
   "file_extension": ".py",
   "mimetype": "text/x-python",
   "name": "python",
   "nbconvert_exporter": "python",
   "pygments_lexer": "ipython3",
   "version": "3.10.11"
  }
 },
 "nbformat": 4,
 "nbformat_minor": 2
}
