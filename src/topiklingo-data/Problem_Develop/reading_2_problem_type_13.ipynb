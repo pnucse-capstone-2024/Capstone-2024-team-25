{
 "cells": [
  {
   "cell_type": "code",
   "execution_count": 1,
   "metadata": {},
   "outputs": [],
   "source": [
    "import sys, os\n",
    "\n",
    "# For .py\n",
    "# sys.path.append(os.path.dirname(os.path.abspath(os.path.dirname(__file__))))\n",
    "# For .ipynb\n",
    "sys.path.append(os.path.dirname(os.getcwd()))\n",
    "\n",
    "import json\n",
    "import random\n",
    "from util import Image_Loader\n",
    "from util import find_random_question\n",
    "from util import random_word\n",
    "from problem_generator import Problem_Generate_Model\n",
    "from langchain.schema import HumanMessage, SystemMessage\n",
    "import re\n",
    "import ast\n",
    "\n",
    "def remove_specific_pattern(text):\n",
    "    # Define the regular expression pattern to match \"(중략)\" within double quotes\n",
    "    pattern = r'(\".*?\\(중략\\).*?\")'\n",
    "    \n",
    "    # Function to remove the specific pattern from the matched group\n",
    "    def replace_pattern(match):\n",
    "        return match.group(0).replace(\"(중략) \", \"\")\n",
    "    \n",
    "    # Use re.sub with the custom replacement function\n",
    "    cleaned_text = re.sub(pattern, replace_pattern, text)\n",
    "    \n",
    "    return cleaned_text"
   ]
  },
  {
   "cell_type": "code",
   "execution_count": 2,
   "metadata": {},
   "outputs": [
    {
     "name": "stdout",
     "output_type": "stream",
     "text": [
      "시외버스\n",
      "gpt-4o-mini-2024-07-18 | \n",
      "정류장\n",
      "\n",
      "OpenAI Tokens Used: 52\n",
      "    Prompt Tokens: 49\n",
      "    Completion Tokens: 3\n",
      "Successful Requests: 1\n",
      "Total Cost (USD): $0.0001\n",
      "Total Cost (KRW): ₩0.135\n",
      "--------------------------------------------------------------------------------------------------\n"
     ]
    }
   ],
   "source": [
    "default_model=\"gpt-4o-mini\"\n",
    "verbose=True\n",
    "\n",
    "total_cost = 0\n",
    "keyword = 'TOPIK_2_READING'\n",
    "problem_type = 'READING_2_PROBLEM_TYPE_2'\n",
    "# random_question = find_random_question(keyword, problem_type, detail_type=1, count=2)\n",
    "# random_question\n",
    "\n",
    "### Create a model for generating a problem\n",
    "models = [default_model]\n",
    "problem_generate_model = Problem_Generate_Model(\n",
    "    models, use_cache=True, temperature=0.5, verbose=verbose, api_key_path=\"./../API_KEY/llm_api_key.json\"\n",
    ")\n",
    "\n",
    "### get random word\n",
    "main_topic = random_word()\n",
    "if verbose:\n",
    "    print(main_topic)\n",
    "\n",
    "## Generate a new word based on the random word\n",
    "problem_generate_model.request_models_responses(\n",
    "    [\n",
    "        SystemMessage(content=\"주제어와 관련된 일상적인 명사 1개를 제시하라. no intro. no outro.\"),\n",
    "        HumanMessage(content=\"주제어: \" + main_topic + \" 명사: \"),\n",
    "    ]\n",
    ")\n",
    "word_responses = problem_generate_model.get_model_responses()\n",
    "main_topic_generated = word_responses[0][1]\n",
    "total_cost += float(re.search(r'Total Cost \\(KRW\\): ₩([\\d.]+)', word_responses[0][2]).group(1))\n"
   ]
  },
  {
   "cell_type": "code",
   "execution_count": 3,
   "metadata": {},
   "outputs": [],
   "source": [
    "### Create a model for generating a problem\n",
    "models = [default_model]\n",
    "novel_generate_model = Problem_Generate_Model(\n",
    "    models, use_cache=True, temperature=1.0, verbose=verbose, api_key_path=\"./../API_KEY/llm_api_key.json\"\n",
    ")"
   ]
  },
  {
   "cell_type": "markdown",
   "metadata": {},
   "source": [
    "- 소설 생성"
   ]
  },
  {
   "cell_type": "code",
   "execution_count": 4,
   "metadata": {},
   "outputs": [
    {
     "data": {
      "text/plain": [
       "'주제어: 정류장\\n(중략)이라는 표현을 2개 포함하라.'"
      ]
     },
     "metadata": {},
     "output_type": "display_data"
    },
    {
     "name": "stdout",
     "output_type": "stream",
     "text": [
      "gpt-4o-mini-2024-07-18 | \n",
      "비 오는 날, 정류장에는 몇 명의 사람들이 우산을 펼쳐 들고 있었다. 정류장의 한쪽 구석에서 서 있는 민수는 자신의 발 밑을 신경 쓰며 중얼거렸다. “또 이 비 때문에 지각이군.” 그가 무심코 바라본 하늘은 더욱 어두워지고 있었다. \n",
      "\n",
      "옆에서 기다리고 있던 수진은 그런 민수를 힐끗 쳐다보았다. “괜찮아, 그냥 조금만 더 기다리면 돼.” 그녀는 그를 안심시키고 싶었지만, 우양산의 물방울이 자신의 머리카락을 적시고 있었다. 수진은 마치 이 정류장에서의 시간이 멈춘 듯한 느낌을 받았다. \n",
      "\n",
      "“내일은 맑았으면 좋겠다.” 민수가 말했다. “이 비, 괜히 내 기분까지 무겁게 해.\" 수진은 그의 고백에 깊이 공감하며 대답했다. “맞아, 이렇게 정류장에서 기다리는 게 너무 힘들어.” 두 사람의 마음속에서는 불안이 번져가는 듯 했다.\n",
      "\n",
      "그러나 그 순간, 한 대의 버스가 정류장에 도착했다. 두 사람을 태우기 위해 멈춘 버스는 마치 그들의 긴 기다림을 끊어주는 듯했다. “그럼 이제 가볼까?” 민수가 수진을 바라보며 웃었다. “네, 이 정류장에서 드디어 벗어나는 거야!” 수진의 목소리에는 기쁨이 넘쳤다. \n",
      "\n",
      "이들은 드디어 비를 피해 장을 보러 가기 위해 버스에 올라탔다. 정류장에서의 기다림이 힘들었지만, 서로의 존재가 그 시간을 견딜 수 있게 해주었다는 것을 깨달았다.\n",
      "\n",
      "OpenAI Tokens Used: 517\n",
      "    Prompt Tokens: 120\n",
      "    Completion Tokens: 397\n",
      "Successful Requests: 1\n",
      "Total Cost (USD): $0.00103\n",
      "Total Cost (KRW): ₩1.3905\n",
      "--------------------------------------------------------------------------------------------------\n"
     ]
    },
    {
     "data": {
      "text/plain": [
       "'비 오는 날, 정류장에는 몇 명의 사람들이 우산을 펼쳐 들고 있었다. 정류장의 한쪽 구석에서 서 있는 민수는 자신의 발 밑을 신경 쓰며 중얼거렸다. “또 이 비 때문에 지각이군.” 그가 무심코 바라본 하늘은 더욱 어두워지고 있었다. \\n\\n옆에서 기다리고 있던 수진은 그런 민수를 힐끗 쳐다보았다. “괜찮아, 그냥 조금만 더 기다리면 돼.” 그녀는 그를 안심시키고 싶었지만, 우양산의 물방울이 자신의 머리카락을 적시고 있었다. 수진은 마치 이 정류장에서의 시간이 멈춘 듯한 느낌을 받았다. \\n\\n“내일은 맑았으면 좋겠다.” 민수가 말했다. “이 비, 괜히 내 기분까지 무겁게 해.\" 수진은 그의 고백에 깊이 공감하며 대답했다. “맞아, 이렇게 정류장에서 기다리는 게 너무 힘들어.” 두 사람의 마음속에서는 불안이 번져가는 듯 했다.\\n\\n그러나 그 순간, 한 대의 버스가 정류장에 도착했다. 두 사람을 태우기 위해 멈춘 버스는 마치 그들의 긴 기다림을 끊어주는 듯했다. “그럼 이제 가볼까?” 민수가 수진을 바라보며 웃었다. “네, 이 정류장에서 드디어 벗어나는 거야!” 수진의 목소리에는 기쁨이 넘쳤다. \\n\\n이들은 드디어 비를 피해 장을 보러 가기 위해 버스에 올라탔다. 정류장에서의 기다림이 힘들었지만, 서로의 존재가 그 시간을 견딜 수 있게 해주었다는 것을 깨달았다.'"
      ]
     },
     "metadata": {},
     "output_type": "display_data"
    },
    {
     "data": {
      "text/plain": [
       "'비 오는 날, 정류장에는 몇 명의 사람들이 우산을 펼쳐 들고 있었다. 정류장의 한쪽 구석에서 서 있는 민수는 자신의 발 밑을 신경 쓰며 중얼거렸다. “또 이 비 때문에 지각이군.” 그가 무심코 바라본 하늘은 더욱 어두워지고 있었다. \\n\\n옆에서 기다리고 있던 수진은 그런 민수를 힐끗 쳐다보았다. “괜찮아, 그냥 조금만 더 기다리면 돼.” 그녀는 그를 안심시키고 싶었지만, 우양산의 물방울이 자신의 머리카락을 적시고 있었다. 수진은 마치 이 정류장에서의 시간이 멈춘 듯한 느낌을 받았다. \\n\\n“내일은 맑았으면 좋겠다.” 민수가 말했다. “이 비, 괜히 내 기분까지 무겁게 해.\" 수진은 그의 고백에 깊이 공감하며 대답했다. “맞아, 이렇게 정류장에서 기다리는 게 너무 힘들어.” 두 사람의 마음속에서는 불안이 번져가는 듯 했다.\\n\\n그러나 그 순간, 한 대의 버스가 정류장에 도착했다. 두 사람을 태우기 위해 멈춘 버스는 마치 그들의 긴 기다림을 끊어주는 듯했다. “그럼 이제 가볼까?” 민수가 수진을 바라보며 웃었다. “네, 이 정류장에서 드디어 벗어나는 거야!” 수진의 목소리에는 기쁨이 넘쳤다. \\n\\n이들은 드디어 비를 피해 장을 보러 가기 위해 버스에 올라탔다. 정류장에서의 기다림이 힘들었지만, 서로의 존재가 그 시간을 견딜 수 있게 해주었다는 것을 깨달았다.'"
      ]
     },
     "execution_count": 4,
     "metadata": {},
     "output_type": "execute_result"
    }
   ],
   "source": [
    "# answer_format = {'소설': 'TBD',\n",
    "#                 '심정을 나타내는 대사': 'TBD'}\n",
    "human_prompt = f\"\"\"주제어: {main_topic_generated}\n",
    "(중략)이라는 표현을 2개 포함하라.\"\"\"\n",
    "display(human_prompt)\n",
    "novel_generate_model.request_models_responses(\n",
    "    [\n",
    "        SystemMessage(\n",
    "            content=f\"너는 전지적 작가 시점에서 소설을 쓰는 봇이다. 인물은 2~3명으로 구성하고, 인물의 이름도 소설에 포함하라. 인물의 대사는 큰 따옴표로 표시하라. 인물의 심정을 나타내는 대사도 1개 포함하라. 총 15개의 문장으로 구성하라.\"\n",
    "        ),\n",
    "        HumanMessage(content=human_prompt),\n",
    "    ]\n",
    ")\n",
    "\n",
    "novel_response = novel_generate_model.get_model_responses()\n",
    "\n",
    "total_cost += float(re.search(r'Total Cost \\(KRW\\): ₩([\\d.]+)', novel_response[0][2]).group(1))\n",
    "\n",
    "novel_response = novel_response[0][1]\n",
    "display(novel_response)\n",
    "cleaned_novel_response = remove_specific_pattern(novel_response)\n",
    "cleaned_novel_response\n",
    "# target_phrase = None\n",
    "# similar_phrase = None\n",
    "# for phrase in phrase_list:\n",
    "#     if phrase in sentence_response:\n",
    "#         target_phrase = phrase\n",
    "#     else:\n",
    "#         similar_phrase = phrase\n",
    "# assert target_phrase is not None, \"Target phrase not found in the sentence\"\n",
    "# assert similar_phrase is not None, \"Similar phrase not found in the sentence\"\n",
    "# print(f'Target Phrase: {target_phrase}\\nSimilar Phrase: {similar_phrase}')"
   ]
  },
  {
   "cell_type": "markdown",
   "metadata": {},
   "source": [
    "- 심정 생성"
   ]
  },
  {
   "cell_type": "code",
   "execution_count": 5,
   "metadata": {},
   "outputs": [
    {
     "data": {
      "text/plain": [
       "'글: 비 오는 날, 정류장에는 몇 명의 사람들이 우산을 펼쳐 들고 있었다. 정류장의 한쪽 구석에서 서 있는 민수는 자신의 발 밑을 신경 쓰며 중얼거렸다. “또 이 비 때문에 지각이군.” 그가 무심코 바라본 하늘은 더욱 어두워지고 있었다. \\n\\n옆에서 기다리고 있던 수진은 그런 민수를 힐끗 쳐다보았다. “괜찮아, 그냥 조금만 더 기다리면 돼.” 그녀는 그를 안심시키고 싶었지만, 우양산의 물방울이 자신의 머리카락을 적시고 있었다. 수진은 마치 이 정류장에서의 시간이 멈춘 듯한 느낌을 받았다. \\n\\n“내일은 맑았으면 좋겠다.” 민수가 말했다. “이 비, 괜히 내 기분까지 무겁게 해.\" 수진은 그의 고백에 깊이 공감하며 대답했다. “맞아, 이렇게 정류장에서 기다리는 게 너무 힘들어.” 두 사람의 마음속에서는 불안이 번져가는 듯 했다.\\n\\n그러나 그 순간, 한 대의 버스가 정류장에 도착했다. 두 사람을 태우기 위해 멈춘 버스는 마치 그들의 긴 기다림을 끊어주는 듯했다. “그럼 이제 가볼까?” 민수가 수진을 바라보며 웃었다. “네, 이 정류장에서 드디어 벗어나는 거야!” 수진의 목소리에는 기쁨이 넘쳤다. \\n\\n이들은 드디어 비를 피해 장을 보러 가기 위해 버스에 올라탔다. 정류장에서의 기다림이 힘들었지만, 서로의 존재가 그 시간을 견딜 수 있게 해주었다는 것을 깨달았다.. 정답은 문장을 보고 유추할 수 있어야한다.'"
      ]
     },
     "metadata": {},
     "output_type": "display_data"
    },
    {
     "name": "stdout",
     "output_type": "stream",
     "text": [
      "gpt-4o-mini-2024-07-18 | \n",
      "{'화자': '민수', '심정을 드러내는 문장': '이 비, 괜히 내 기분까지 무겁게 해.', '정답': ['우울하다'], '오답': ['기대된다', '안정감을 느낀다', '즐겁다']}\n",
      "\n",
      "OpenAI Tokens Used: 586\n",
      "    Prompt Tokens: 520\n",
      "    Completion Tokens: 66\n",
      "Successful Requests: 1\n",
      "Total Cost (USD): $0.00117\n",
      "Total Cost (KRW): ₩1.5795\n",
      "--------------------------------------------------------------------------------------------------\n"
     ]
    },
    {
     "data": {
      "text/plain": [
       "{'화자': '민수',\n",
       " '심정을 드러내는 문장': '이 비, 괜히 내 기분까지 무겁게 해.',\n",
       " '정답': ['우울하다'],\n",
       " '오답': ['기대된다', '안정감을 느낀다', '즐겁다']}"
      ]
     },
     "metadata": {},
     "output_type": "display_data"
    }
   ],
   "source": [
    "example_question = {\n",
    "    '화자': '부모님',\n",
    "    '심정을 드러내는 문장': '네가 그걸 어떻게 알아?',\n",
    "    '정답': ['의심스럽다'],\n",
    "    '오답': ['후회스럽다', '실망스럽다', '짜증스럽다']\n",
    "    }\n",
    "human_prompt = f\"\"\"글: {cleaned_novel_response}. 정답은 문장을 보고 유추할 수 있어야한다.\"\"\"\n",
    "display(human_prompt)\n",
    "problem_generate_model.request_models_responses(\n",
    "    [\n",
    "        SystemMessage(\n",
    "            content=f\"주어진 글에서 화자의 심정을 드러내는 문장을 찾고, 정답 심정 하나와 오답 심정 3개를 만들어라. 예시: {example_question}\"\n",
    "        ),\n",
    "        HumanMessage(content=human_prompt),\n",
    "    ]\n",
    ")\n",
    "\n",
    "feeling_response = problem_generate_model.get_model_responses()\n",
    "\n",
    "total_cost += float(re.search(r'Total Cost \\(KRW\\): ₩([\\d.]+)', feeling_response[0][2]).group(1))\n",
    "\n",
    "feeling_response = feeling_response[0][1]\n",
    "feeling_response = ast.literal_eval(feeling_response)\n",
    "feeling_response['심정을 드러내는 문장'] = feeling_response['심정을 드러내는 문장'].strip(\"'\")\n",
    "display(feeling_response)"
   ]
  },
  {
   "cell_type": "code",
   "execution_count": 6,
   "metadata": {},
   "outputs": [
    {
     "data": {
      "text/plain": [
       "'이 비, 괜히 내 기분까지 무겁게 해.'"
      ]
     },
     "execution_count": 6,
     "metadata": {},
     "output_type": "execute_result"
    }
   ],
   "source": [
    "feeling_response['심정을 드러내는 문장'].strip(\"''\")"
   ]
  },
  {
   "cell_type": "markdown",
   "metadata": {},
   "source": [
    "- 내용 일치 문제 생성"
   ]
  },
  {
   "cell_type": "code",
   "execution_count": 7,
   "metadata": {},
   "outputs": [
    {
     "data": {
      "text/plain": [
       "'\\n글: 비 오는 날, 정류장에는 몇 명의 사람들이 우산을 펼쳐 들고 있었다. 정류장의 한쪽 구석에서 서 있는 민수는 자신의 발 밑을 신경 쓰며 중얼거렸다. “또 이 비 때문에 지각이군.” 그가 무심코 바라본 하늘은 더욱 어두워지고 있었다. \\n\\n옆에서 기다리고 있던 수진은 그런 민수를 힐끗 쳐다보았다. “괜찮아, 그냥 조금만 더 기다리면 돼.” 그녀는 그를 안심시키고 싶었지만, 우양산의 물방울이 자신의 머리카락을 적시고 있었다. 수진은 마치 이 정류장에서의 시간이 멈춘 듯한 느낌을 받았다. \\n\\n“내일은 맑았으면 좋겠다.” 민수가 말했다. “이 비, 괜히 내 기분까지 무겁게 해.\" 수진은 그의 고백에 깊이 공감하며 대답했다. “맞아, 이렇게 정류장에서 기다리는 게 너무 힘들어.” 두 사람의 마음속에서는 불안이 번져가는 듯 했다.\\n\\n그러나 그 순간, 한 대의 버스가 정류장에 도착했다. 두 사람을 태우기 위해 멈춘 버스는 마치 그들의 긴 기다림을 끊어주는 듯했다. “그럼 이제 가볼까?” 민수가 수진을 바라보며 웃었다. “네, 이 정류장에서 드디어 벗어나는 거야!” 수진의 목소리에는 기쁨이 넘쳤다. \\n\\n이들은 드디어 비를 피해 장을 보러 가기 위해 버스에 올라탔다. 정류장에서의 기다림이 힘들었지만, 서로의 존재가 그 시간을 견딜 수 있게 해주었다는 것을 깨달았다.'"
      ]
     },
     "metadata": {},
     "output_type": "display_data"
    },
    {
     "name": "stdout",
     "output_type": "stream",
     "text": [
      "gpt-4o-mini-2024-07-18 | \n",
      "{'정답': ['민수와 수진은 비 오는 날 정류장에서 함께 기다리며 서로의 마음을 나누었다.'], '오답': ['민수는 혼자서 비를 맞으며 정류장에서 불평을 늘어놓았다.', '수진은 정류장에서 기다리는 동안 스마트폰을 보며 시간을 보냈다.', '민수와 수진은 서로의 기분을 전혀 이해하지 못하고 있었다.']}\n",
      "\n",
      "OpenAI Tokens Used: 610\n",
      "    Prompt Tokens: 513\n",
      "    Completion Tokens: 97\n",
      "Successful Requests: 1\n",
      "Total Cost (USD): $0.00122\n",
      "Total Cost (KRW): ₩1.647\n",
      "--------------------------------------------------------------------------------------------------\n"
     ]
    },
    {
     "data": {
      "text/plain": [
       "{'정답': ['민수와 수진은 비 오는 날 정류장에서 함께 기다리며 서로의 마음을 나누었다.'],\n",
       " '오답': ['민수는 혼자서 비를 맞으며 정류장에서 불평을 늘어놓았다.',\n",
       "  '수진은 정류장에서 기다리는 동안 스마트폰을 보며 시간을 보냈다.',\n",
       "  '민수와 수진은 서로의 기분을 전혀 이해하지 못하고 있었다.']}"
      ]
     },
     "metadata": {},
     "output_type": "display_data"
    }
   ],
   "source": [
    "example_question = {\n",
    "    '정답': ['준은 여행지에서 해 뜨는 방향을 한 번에 찾았다.'],\n",
    "    '오답': ['준의 부모님은 아들과 같은 능력을 가지고 있었다.', '준은 공부를 잘해서 학교에서 모르는 사람이 없었다.', '준의 부모님은 아들의 재능을 발견한 후 걱정하기 시작했다.']\n",
    "    }\n",
    "human_prompt = f\"\"\"\n",
    "글: {cleaned_novel_response}\"\"\"\n",
    "display(human_prompt)\n",
    "problem_generate_model.request_models_responses(\n",
    "    [\n",
    "        SystemMessage(\n",
    "            content=f\"글의 내용과 같은 문장 1개와 다른 문장 3개를 만들어라. 예시: {example_question}\"\n",
    "        ),\n",
    "        HumanMessage(content=human_prompt),\n",
    "    ]\n",
    ")\n",
    "\n",
    "matching_content_response = problem_generate_model.get_model_responses()\n",
    "\n",
    "total_cost += float(re.search(r'Total Cost \\(KRW\\): ₩([\\d.]+)', matching_content_response[0][2]).group(1))\n",
    "\n",
    "matching_content_response = matching_content_response[0][1]\n",
    "matching_content_response = ast.literal_eval(matching_content_response)\n",
    "display(matching_content_response)"
   ]
  },
  {
   "cell_type": "code",
   "execution_count": 8,
   "metadata": {},
   "outputs": [
    {
     "data": {
      "text/plain": [
       "{'example': '비 오는 날, 정류장에는 몇 명의 사람들이 우산을 펼쳐 들고 있었다. 정류장의 한쪽 구석에서 서 있는 민수는 자신의 발 밑을 신경 쓰며 중얼거렸다. “또 이 비 때문에 지각이군.” 그가 무심코 바라본 하늘은 더욱 어두워지고 있었다. \\n\\n옆에서 기다리고 있던 수진은 그런 민수를 힐끗 쳐다보았다. “괜찮아, 그냥 조금만 더 기다리면 돼.” 그녀는 그를 안심시키고 싶었지만, 우양산의 물방울이 자신의 머리카락을 적시고 있었다. 수진은 마치 이 정류장에서의 시간이 멈춘 듯한 느낌을 받았다. \\n\\n“내일은 맑았으면 좋겠다.” 민수가 말했다. “이 비, 괜히 내 기분까지 무겁게 해.\" 수진은 그의 고백에 깊이 공감하며 대답했다. “맞아, 이렇게 정류장에서 기다리는 게 너무 힘들어.” 두 사람의 마음속에서는 불안이 번져가는 듯 했다.\\n\\n그러나 그 순간, 한 대의 버스가 정류장에 도착했다. 두 사람을 태우기 위해 멈춘 버스는 마치 그들의 긴 기다림을 끊어주는 듯했다. “그럼 이제 가볼까?” 민수가 수진을 바라보며 웃었다. “네, 이 정류장에서 드디어 벗어나는 거야!” 수진의 목소리에는 기쁨이 넘쳤다. \\n\\n이들은 드디어 비를 피해 장을 보러 가기 위해 버스에 올라탔다. 정류장에서의 기다림이 힘들었지만, 서로의 존재가 그 시간을 견딜 수 있게 해주었다는 것을 깨달았다.',\n",
       " 'underlined_sentence': '이 비, 괜히 내 기분까지 무겁게 해.',\n",
       " 'selector': ['우울하다', '기대된다', '안정감을 느낀다', '즐겁다'],\n",
       " 'answer': ['우울하다'],\n",
       " 'eval_answer': ['우울하다'],\n",
       " 'total_cost': 4.752}"
      ]
     },
     "execution_count": 8,
     "metadata": {},
     "output_type": "execute_result"
    }
   ],
   "source": [
    "result1 = {\n",
    "    \"example\": cleaned_novel_response,\n",
    "    \"underlined_sentence\": feeling_response['심정을 드러내는 문장'],\n",
    "    \"selector\": feeling_response['정답'] + feeling_response['오답'],\n",
    "    \"answer\": feeling_response['정답'],\n",
    "    \"eval_answer\": feeling_response['정답'],\n",
    "    \"total_cost\": total_cost,\n",
    "}\n",
    "result1"
   ]
  },
  {
   "cell_type": "code",
   "execution_count": 9,
   "metadata": {},
   "outputs": [
    {
     "data": {
      "text/plain": [
       "{'example': '비 오는 날, 정류장에는 몇 명의 사람들이 우산을 펼쳐 들고 있었다. 정류장의 한쪽 구석에서 서 있는 민수는 자신의 발 밑을 신경 쓰며 중얼거렸다. “또 이 비 때문에 지각이군.” 그가 무심코 바라본 하늘은 더욱 어두워지고 있었다. \\n\\n옆에서 기다리고 있던 수진은 그런 민수를 힐끗 쳐다보았다. “괜찮아, 그냥 조금만 더 기다리면 돼.” 그녀는 그를 안심시키고 싶었지만, 우양산의 물방울이 자신의 머리카락을 적시고 있었다. 수진은 마치 이 정류장에서의 시간이 멈춘 듯한 느낌을 받았다. \\n\\n“내일은 맑았으면 좋겠다.” 민수가 말했다. “이 비, 괜히 내 기분까지 무겁게 해.\" 수진은 그의 고백에 깊이 공감하며 대답했다. “맞아, 이렇게 정류장에서 기다리는 게 너무 힘들어.” 두 사람의 마음속에서는 불안이 번져가는 듯 했다.\\n\\n그러나 그 순간, 한 대의 버스가 정류장에 도착했다. 두 사람을 태우기 위해 멈춘 버스는 마치 그들의 긴 기다림을 끊어주는 듯했다. “그럼 이제 가볼까?” 민수가 수진을 바라보며 웃었다. “네, 이 정류장에서 드디어 벗어나는 거야!” 수진의 목소리에는 기쁨이 넘쳤다. \\n\\n이들은 드디어 비를 피해 장을 보러 가기 위해 버스에 올라탔다. 정류장에서의 기다림이 힘들었지만, 서로의 존재가 그 시간을 견딜 수 있게 해주었다는 것을 깨달았다.',\n",
       " 'selector': ['민수와 수진은 비 오는 날 정류장에서 함께 기다리며 서로의 마음을 나누었다.',\n",
       "  '민수는 혼자서 비를 맞으며 정류장에서 불평을 늘어놓았다.',\n",
       "  '수진은 정류장에서 기다리는 동안 스마트폰을 보며 시간을 보냈다.',\n",
       "  '민수와 수진은 서로의 기분을 전혀 이해하지 못하고 있었다.'],\n",
       " 'answer': ['민수와 수진은 비 오는 날 정류장에서 함께 기다리며 서로의 마음을 나누었다.'],\n",
       " 'eval_answer': ['민수와 수진은 비 오는 날 정류장에서 함께 기다리며 서로의 마음을 나누었다.'],\n",
       " 'total_cost': 4.752}"
      ]
     },
     "execution_count": 9,
     "metadata": {},
     "output_type": "execute_result"
    }
   ],
   "source": [
    "result2 = {\n",
    "    \"example\": cleaned_novel_response,\n",
    "    \"selector\": matching_content_response['정답'] + matching_content_response['오답'],\n",
    "    \"answer\": matching_content_response['정답'],\n",
    "    \"eval_answer\": matching_content_response['정답'],\n",
    "    \"total_cost\": total_cost,\n",
    "}\n",
    "result2"
   ]
  }
 ],
 "metadata": {
  "kernelspec": {
   "display_name": "base",
   "language": "python",
   "name": "python3"
  },
  "language_info": {
   "codemirror_mode": {
    "name": "ipython",
    "version": 3
   },
   "file_extension": ".py",
   "mimetype": "text/x-python",
   "name": "python",
   "nbconvert_exporter": "python",
   "pygments_lexer": "ipython3",
   "version": "3.12.4"
  }
 },
 "nbformat": 4,
 "nbformat_minor": 2
}
