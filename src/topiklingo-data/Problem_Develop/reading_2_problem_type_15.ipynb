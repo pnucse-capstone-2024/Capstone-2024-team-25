{
 "cells": [
  {
   "cell_type": "code",
   "execution_count": 1,
   "metadata": {},
   "outputs": [],
   "source": [
    "import sys, os\n",
    "\n",
    "# For .py\n",
    "# sys.path.append(os.path.dirname(os.path.abspath(os.path.dirname(__file__))))\n",
    "# For .ipynb\n",
    "sys.path.append(os.path.dirname(os.getcwd()))\n",
    "\n",
    "import json\n",
    "import random\n",
    "from util import Image_Loader\n",
    "from util import find_random_question\n",
    "from util import random_word\n",
    "from problem_generator import Problem_Generate_Model\n",
    "from langchain.schema import HumanMessage, SystemMessage\n",
    "import re\n",
    "import ast"
   ]
  },
  {
   "cell_type": "markdown",
   "metadata": {},
   "source": [
    "- 키워드 생성"
   ]
  },
  {
   "cell_type": "code",
   "execution_count": 2,
   "metadata": {},
   "outputs": [
    {
     "name": "stdout",
     "output_type": "stream",
     "text": [
      "눈\n",
      "gpt-4o-mini-2024-07-18 | \n",
      "안경\n",
      "\n",
      "OpenAI Tokens Used: 48\n",
      "    Prompt Tokens: 46\n",
      "    Completion Tokens: 2\n",
      "Successful Requests: 1\n",
      "Total Cost (USD): $0.0001\n",
      "Total Cost (KRW): ₩0.135\n",
      "--------------------------------------------------------------------------------------------------\n"
     ]
    }
   ],
   "source": [
    "default_model=\"gpt-4o-mini\"\n",
    "verbose=True\n",
    "\n",
    "total_cost = 0\n",
    "keyword = 'TOPIK_2_READING'\n",
    "problem_type = 'READING_2_PROBLEM_TYPE_2'\n",
    "# random_question = find_random_question(keyword, problem_type, detail_type=1, count=2)\n",
    "# random_question\n",
    "\n",
    "### Create a model for generating a problem\n",
    "models = [default_model]\n",
    "problem_generate_model = Problem_Generate_Model(\n",
    "    models, use_cache=True, temperature=0.5, verbose=verbose, api_key_path=\"./../API_KEY/llm_api_key.json\"\n",
    ")\n",
    "\n",
    "### get random word\n",
    "main_topic = random_word()\n",
    "if verbose:\n",
    "    print(main_topic)\n",
    "\n",
    "## Generate a new word based on the random word\n",
    "problem_generate_model.request_models_responses(\n",
    "    [\n",
    "        SystemMessage(content=\"주제어와 관련된 일상적인 명사 1개를 제시하라. no intro. no outro.\"),\n",
    "        HumanMessage(content=\"주제어: \" + main_topic + \" 명사: \"),\n",
    "    ]\n",
    ")\n",
    "word_responses = problem_generate_model.get_model_responses()\n",
    "main_topic_generated = word_responses[0][1]\n",
    "total_cost += float(re.search(r'Total Cost \\(KRW\\): ₩([\\d.]+)', word_responses[0][2]).group(1))\n"
   ]
  },
  {
   "cell_type": "code",
   "execution_count": 3,
   "metadata": {},
   "outputs": [],
   "source": [
    "### Create a model for generating a problem\n",
    "models = [default_model]\n",
    "paragraph_generate_model = Problem_Generate_Model(\n",
    "    models, use_cache=True, temperature=1.0, verbose=verbose, api_key_path=\"./../API_KEY/llm_api_key.json\"\n",
    ")"
   ]
  },
  {
   "cell_type": "markdown",
   "metadata": {},
   "source": [
    "- 논설문 생성"
   ]
  },
  {
   "cell_type": "code",
   "execution_count": 4,
   "metadata": {},
   "outputs": [
    {
     "data": {
      "text/plain": [
       "'주제어: 안경'"
      ]
     },
     "metadata": {},
     "output_type": "display_data"
    },
    {
     "name": "stdout",
     "output_type": "stream",
     "text": [
      "gpt-4o-mini-2024-07-18 | \n",
      "안경은 시력을 보호하고 향상시키기 위한 필수적인 도구이다. 현대 사회에서 많은 사람들이 안경을 착용하며, 이는 단순한 시력 보정 이상의 의미를 가진다. 안경은 패션 아이템으로도 자리 잡아, 개인의 스타일을 표현하는 중요한 요소가 되었다. 또한, 다양한 종류의 렌즈와 프레임 디자인은 소비자에게 선택의 폭을 넓혀 준다. 그러나 안경의 사용은 주의가 필요하다, 잘못된 착용이나 관리로 인해 시력에 부정적인 영향을 미칠 수 있다. 앞으로 기술이 발전하면서 안경의 기능성은 더욱 향상될 것이며, 다양한 방법으로 우리의 삶의 질을 높일 것이다. 따라서 올바른 안경 착용과 관리는 누구에게나 필수적인 문제로 남아야 한다.\n",
      "\n",
      "OpenAI Tokens Used: 224\n",
      "    Prompt Tokens: 40\n",
      "    Completion Tokens: 184\n",
      "Successful Requests: 1\n",
      "Total Cost (USD): $0.00045\n",
      "Total Cost (KRW): ₩0.6075\n",
      "--------------------------------------------------------------------------------------------------\n"
     ]
    },
    {
     "data": {
      "text/plain": [
       "'안경은 시력을 보호하고 향상시키기 위한 필수적인 도구이다. 현대 사회에서 많은 사람들이 안경을 착용하며, 이는 단순한 시력 보정 이상의 의미를 가진다. 안경은 패션 아이템으로도 자리 잡아, 개인의 스타일을 표현하는 중요한 요소가 되었다. 또한, 다양한 종류의 렌즈와 프레임 디자인은 소비자에게 선택의 폭을 넓혀 준다. 그러나 안경의 사용은 주의가 필요하다, 잘못된 착용이나 관리로 인해 시력에 부정적인 영향을 미칠 수 있다. 앞으로 기술이 발전하면서 안경의 기능성은 더욱 향상될 것이며, 다양한 방법으로 우리의 삶의 질을 높일 것이다. 따라서 올바른 안경 착용과 관리는 누구에게나 필수적인 문제로 남아야 한다.'"
      ]
     },
     "metadata": {},
     "output_type": "display_data"
    }
   ],
   "source": [
    "# answer_format = {'소설': 'TBD',\n",
    "#                 '심정을 나타내는 대사': 'TBD'}\n",
    "human_prompt = f\"\"\"주제어: {main_topic_generated}\"\"\"\n",
    "display(human_prompt)\n",
    "paragraph_generate_model.request_models_responses(\n",
    "    [\n",
    "        SystemMessage(\n",
    "            content=f\"너는 논설문을 쓰는 봇이다. 총 7개의 문장으로 구성하라.\"\n",
    "        ),\n",
    "        HumanMessage(content=human_prompt),\n",
    "    ]\n",
    ")\n",
    "\n",
    "paragraph_response = paragraph_generate_model.get_model_responses()\n",
    "\n",
    "total_cost += float(re.search(r'Total Cost \\(KRW\\): ₩([\\d.]+)', paragraph_response[0][2]).group(1))\n",
    "\n",
    "paragraph_response = paragraph_response[0][1]\n",
    "display(paragraph_response)\n",
    "# target_phrase = None\n",
    "# similar_phrase = None\n",
    "# for phrase in phrase_list:\n",
    "#     if phrase in sentence_response:\n",
    "#         target_phrase = phrase\n",
    "#     else:\n",
    "#         similar_phrase = phrase\n",
    "# assert target_phrase is not None, \"Target phrase not found in the sentence\"\n",
    "# assert similar_phrase is not None, \"Similar phrase not found in the sentence\"\n",
    "# print(f'Target Phrase: {target_phrase}\\nSimilar Phrase: {similar_phrase}')"
   ]
  },
  {
   "cell_type": "markdown",
   "metadata": {},
   "source": [
    "- 필자 태도 생성"
   ]
  },
  {
   "cell_type": "code",
   "execution_count": 5,
   "metadata": {},
   "outputs": [
    {
     "data": {
      "text/plain": [
       "'논설문: 안경은 시력을 보호하고 향상시키기 위한 필수적인 도구이다. 현대 사회에서 많은 사람들이 안경을 착용하며, 이는 단순한 시력 보정 이상의 의미를 가진다. 안경은 패션 아이템으로도 자리 잡아, 개인의 스타일을 표현하는 중요한 요소가 되었다. 또한, 다양한 종류의 렌즈와 프레임 디자인은 소비자에게 선택의 폭을 넓혀 준다. 그러나 안경의 사용은 주의가 필요하다, 잘못된 착용이나 관리로 인해 시력에 부정적인 영향을 미칠 수 있다. 앞으로 기술이 발전하면서 안경의 기능성은 더욱 향상될 것이며, 다양한 방법으로 우리의 삶의 질을 높일 것이다. 따라서 올바른 안경 착용과 관리는 누구에게나 필수적인 문제로 남아야 한다.'"
      ]
     },
     "metadata": {},
     "output_type": "display_data"
    },
    {
     "name": "stdout",
     "output_type": "stream",
     "text": [
      "gpt-4o-mini-2024-07-18 | \n",
      "{'정답': ['안경의 올바른 착용과 관리의 중요성을 강조하고 있다.'], '오답': ['안경은 단순한 패션 아이템일 뿐이라고 주장하고 있다.', '안경의 기능성 향상에 대해 회의적인 시각을 가지고 있다.', '안경 착용이 시력에 미치는 부정적인 영향을 과장하고 있다.']}\n",
      "\n",
      "OpenAI Tokens Used: 420\n",
      "    Prompt Tokens: 335\n",
      "    Completion Tokens: 85\n",
      "Successful Requests: 1\n",
      "Total Cost (USD): $0.00084\n",
      "Total Cost (KRW): ₩1.134\n",
      "--------------------------------------------------------------------------------------------------\n"
     ]
    },
    {
     "data": {
      "text/plain": [
       "{'정답': ['안경의 올바른 착용과 관리의 중요성을 강조하고 있다.'],\n",
       " '오답': ['안경은 단순한 패션 아이템일 뿐이라고 주장하고 있다.',\n",
       "  '안경의 기능성 향상에 대해 회의적인 시각을 가지고 있다.',\n",
       "  '안경 착용이 시력에 미치는 부정적인 영향을 과장하고 있다.']}"
      ]
     },
     "metadata": {},
     "output_type": "display_data"
    }
   ],
   "source": [
    "example_question = {\n",
    "    '정답': ['과학 정책에 대한 정부의 지나친 개입을 경계하고 있다.'],\n",
    "    '오답': ['과학 기술 발전을 위해서는 연구가 중요함을 강조하고 있다.', '과학 기술 발전이 경제 성장에 미치는 영향력에 감탄하고 있다.', '과학 정책 수립 시 우주 과학이 소홀히 다루어질 것을 우려하고 있다.']\n",
    "    }\n",
    "human_prompt = f\"\"\"논설문: {paragraph_response}\"\"\"\n",
    "display(human_prompt)\n",
    "problem_generate_model.request_models_responses(\n",
    "    [\n",
    "        SystemMessage(\n",
    "            content=f\"주어진 논설문에서 필자의 태도를 알아내라. 필자의 태도를 나타내는 선택지 1개, 필자의 태도와 반대되는 선택지 3개를 만들어라. 예시: {example_question}\"\n",
    "        ),\n",
    "        HumanMessage(content=human_prompt),\n",
    "    ]\n",
    ")\n",
    "\n",
    "attitude_response = problem_generate_model.get_model_responses()\n",
    "\n",
    "total_cost += float(re.search(r'Total Cost \\(KRW\\): ₩([\\d.]+)', attitude_response[0][2]).group(1))\n",
    "\n",
    "attitude_response = attitude_response[0][1]\n",
    "attitude_response = ast.literal_eval(attitude_response)\n",
    "display(attitude_response)"
   ]
  },
  {
   "cell_type": "markdown",
   "metadata": {},
   "source": [
    "- 내용 일치 문제 생성"
   ]
  },
  {
   "cell_type": "code",
   "execution_count": 6,
   "metadata": {},
   "outputs": [
    {
     "data": {
      "text/plain": [
       "'\\n글: 안경은 시력을 보호하고 향상시키기 위한 필수적인 도구이다. 현대 사회에서 많은 사람들이 안경을 착용하며, 이는 단순한 시력 보정 이상의 의미를 가진다. 안경은 패션 아이템으로도 자리 잡아, 개인의 스타일을 표현하는 중요한 요소가 되었다. 또한, 다양한 종류의 렌즈와 프레임 디자인은 소비자에게 선택의 폭을 넓혀 준다. 그러나 안경의 사용은 주의가 필요하다, 잘못된 착용이나 관리로 인해 시력에 부정적인 영향을 미칠 수 있다. 앞으로 기술이 발전하면서 안경의 기능성은 더욱 향상될 것이며, 다양한 방법으로 우리의 삶의 질을 높일 것이다. 따라서 올바른 안경 착용과 관리는 누구에게나 필수적인 문제로 남아야 한다.'"
      ]
     },
     "metadata": {},
     "output_type": "display_data"
    },
    {
     "name": "stdout",
     "output_type": "stream",
     "text": [
      "gpt-4o-mini-2024-07-18 | \n",
      "{'정답': ['안경은 시력을 보호하고 향상시키기 위한 필수적인 도구이며, 패션 아이템으로도 중요한 역할을 한다.'], '오답': ['안경은 오직 시력 보정만을 위한 도구로 사용된다.', '모든 사람들이 안경을 착용하는 것은 아니다.', '안경의 사용은 시력에 긍정적인 영향을 미친다.']}\n",
      "\n",
      "OpenAI Tokens Used: 403\n",
      "    Prompt Tokens: 312\n",
      "    Completion Tokens: 91\n",
      "Successful Requests: 1\n",
      "Total Cost (USD): $0.00081\n",
      "Total Cost (KRW): ₩1.0935\n",
      "--------------------------------------------------------------------------------------------------\n"
     ]
    },
    {
     "data": {
      "text/plain": [
       "{'정답': ['안경은 시력을 보호하고 향상시키기 위한 필수적인 도구이며, 패션 아이템으로도 중요한 역할을 한다.'],\n",
       " '오답': ['안경은 오직 시력 보정만을 위한 도구로 사용된다.',\n",
       "  '모든 사람들이 안경을 착용하는 것은 아니다.',\n",
       "  '안경의 사용은 시력에 긍정적인 영향을 미친다.']}"
      ]
     },
     "metadata": {},
     "output_type": "display_data"
    }
   ],
   "source": [
    "example_question = {\n",
    "    '정답': ['많은 국가들이 신에너지 개발에 대한 투자를 줄이고 있다.'],\n",
    "    '오답': ['과학 정책이 빠르게 변해서 과학 기술이 발전할 수 있었다.', '정부가 우주 산업에 대한 규제를 풀어 성장한 민간 기업이 있다.', '우주 개발에 참여 중인 민간 기업이 화성에 호텔을 건설하고 있다.']\n",
    "    }\n",
    "human_prompt = f\"\"\"\n",
    "글: {paragraph_response}\"\"\"\n",
    "display(human_prompt)\n",
    "problem_generate_model.request_models_responses(\n",
    "    [\n",
    "        SystemMessage(\n",
    "            content=f\"글의 내용을 요약한 문장 1개와 틀린 문장 3개를 만들어라. 예시: {example_question}\"\n",
    "        ),\n",
    "        HumanMessage(content=human_prompt),\n",
    "    ]\n",
    ")\n",
    "\n",
    "matching_content_response = problem_generate_model.get_model_responses()\n",
    "\n",
    "total_cost += float(re.search(r'Total Cost \\(KRW\\): ₩([\\d.]+)', matching_content_response[0][2]).group(1))\n",
    "\n",
    "matching_content_response = matching_content_response[0][1]\n",
    "matching_content_response = ast.literal_eval(matching_content_response)\n",
    "display(matching_content_response)"
   ]
  },
  {
   "cell_type": "code",
   "execution_count": 7,
   "metadata": {},
   "outputs": [
    {
     "data": {
      "text/plain": [
       "{'example': '안경은 시력을 보호하고 향상시키기 위한 필수적인 도구이다. 현대 사회에서 많은 사람들이 안경을 착용하며, 이는 단순한 시력 보정 이상의 의미를 가진다. 안경은 패션 아이템으로도 자리 잡아, 개인의 스타일을 표현하는 중요한 요소가 되었다. 또한, 다양한 종류의 렌즈와 프레임 디자인은 소비자에게 선택의 폭을 넓혀 준다. 그러나 안경의 사용은 주의가 필요하다, 잘못된 착용이나 관리로 인해 시력에 부정적인 영향을 미칠 수 있다. 앞으로 기술이 발전하면서 안경의 기능성은 더욱 향상될 것이며, 다양한 방법으로 우리의 삶의 질을 높일 것이다. 따라서 올바른 안경 착용과 관리는 누구에게나 필수적인 문제로 남아야 한다.',\n",
       " 'selector': ['안경의 올바른 착용과 관리의 중요성을 강조하고 있다.',\n",
       "  '안경은 단순한 패션 아이템일 뿐이라고 주장하고 있다.',\n",
       "  '안경의 기능성 향상에 대해 회의적인 시각을 가지고 있다.',\n",
       "  '안경 착용이 시력에 미치는 부정적인 영향을 과장하고 있다.'],\n",
       " 'answer': ['안경의 올바른 착용과 관리의 중요성을 강조하고 있다.'],\n",
       " 'eval_answer': ['안경의 올바른 착용과 관리의 중요성을 강조하고 있다.'],\n",
       " 'total_cost': 2.9699999999999998}"
      ]
     },
     "execution_count": 7,
     "metadata": {},
     "output_type": "execute_result"
    }
   ],
   "source": [
    "result1 = {\n",
    "    \"example\": paragraph_response,\n",
    "    \"selector\": attitude_response['정답'] + attitude_response['오답'],\n",
    "    \"answer\": attitude_response['정답'],\n",
    "    \"eval_answer\": attitude_response['정답'],\n",
    "    \"total_cost\": total_cost,\n",
    "}\n",
    "result1"
   ]
  },
  {
   "cell_type": "code",
   "execution_count": 8,
   "metadata": {},
   "outputs": [
    {
     "data": {
      "text/plain": [
       "{'example': '안경은 시력을 보호하고 향상시키기 위한 필수적인 도구이다. 현대 사회에서 많은 사람들이 안경을 착용하며, 이는 단순한 시력 보정 이상의 의미를 가진다. 안경은 패션 아이템으로도 자리 잡아, 개인의 스타일을 표현하는 중요한 요소가 되었다. 또한, 다양한 종류의 렌즈와 프레임 디자인은 소비자에게 선택의 폭을 넓혀 준다. 그러나 안경의 사용은 주의가 필요하다, 잘못된 착용이나 관리로 인해 시력에 부정적인 영향을 미칠 수 있다. 앞으로 기술이 발전하면서 안경의 기능성은 더욱 향상될 것이며, 다양한 방법으로 우리의 삶의 질을 높일 것이다. 따라서 올바른 안경 착용과 관리는 누구에게나 필수적인 문제로 남아야 한다.',\n",
       " 'selector': ['안경은 시력을 보호하고 향상시키기 위한 필수적인 도구이며, 패션 아이템으로도 중요한 역할을 한다.',\n",
       "  '안경은 오직 시력 보정만을 위한 도구로 사용된다.',\n",
       "  '모든 사람들이 안경을 착용하는 것은 아니다.',\n",
       "  '안경의 사용은 시력에 긍정적인 영향을 미친다.'],\n",
       " 'answer': ['안경은 시력을 보호하고 향상시키기 위한 필수적인 도구이며, 패션 아이템으로도 중요한 역할을 한다.'],\n",
       " 'eval_answer': ['안경은 시력을 보호하고 향상시키기 위한 필수적인 도구이며, 패션 아이템으로도 중요한 역할을 한다.'],\n",
       " 'total_cost': 2.9699999999999998}"
      ]
     },
     "execution_count": 8,
     "metadata": {},
     "output_type": "execute_result"
    }
   ],
   "source": [
    "result2 = {\n",
    "    \"example\": paragraph_response,\n",
    "    \"selector\": matching_content_response['정답'] + matching_content_response['오답'],\n",
    "    \"answer\": matching_content_response['정답'],\n",
    "    \"eval_answer\": matching_content_response['정답'],\n",
    "    \"total_cost\": total_cost,\n",
    "}\n",
    "result2"
   ]
  }
 ],
 "metadata": {
  "kernelspec": {
   "display_name": "base",
   "language": "python",
   "name": "python3"
  },
  "language_info": {
   "codemirror_mode": {
    "name": "ipython",
    "version": 3
   },
   "file_extension": ".py",
   "mimetype": "text/x-python",
   "name": "python",
   "nbconvert_exporter": "python",
   "pygments_lexer": "ipython3",
   "version": "3.12.4"
  }
 },
 "nbformat": 4,
 "nbformat_minor": 2
}
