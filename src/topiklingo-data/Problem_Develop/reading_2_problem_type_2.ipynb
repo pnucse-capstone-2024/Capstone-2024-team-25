{
 "cells": [
  {
   "cell_type": "code",
   "execution_count": 18,
   "metadata": {},
   "outputs": [],
   "source": [
    "import sys, os\n",
    "\n",
    "# For .py\n",
    "# sys.path.append(os.path.dirname(os.path.abspath(os.path.dirname(__file__))))\n",
    "# For .ipynb\n",
    "sys.path.append(os.path.dirname(os.getcwd()))\n",
    "\n",
    "import json\n",
    "import random\n",
    "from util import Image_Loader\n",
    "from util import find_random_question\n",
    "from util import random_word\n",
    "from problem_generator import Problem_Generate_Model\n",
    "from langchain.schema import HumanMessage, SystemMessage\n",
    "import re\n",
    "import ast\n",
    "\n",
    "def remove_keyword_in_phrase(phrase, keyword):\n",
    "    word_list = phrase.split(\" \")\n",
    "    preprocessed_phrase = \" \".join([word for word in word_list if keyword not in word])\n",
    "    return preprocessed_phrase\n",
    "\n",
    "def remove_duplicate_word_from_phrases(phrase_list):\n",
    "    token_list = []\n",
    "    for phrase in phrase_list:\n",
    "        token_list += [token.strip() for token in phrase.split(\" \")]\n",
    "    token_list = list(set(token_list))\n",
    "\n",
    "    duplicated_tokens = []\n",
    "    for token in token_list:\n",
    "        if token in phrase_list[0] and token in phrase_list[1]:\n",
    "            duplicated_tokens.append(token)\n",
    "    preprocessed_phrase_list = []\n",
    "    for duplicated_token in duplicated_tokens:\n",
    "        for phrase in phrase_list:\n",
    "            preprocessed_phrase_list.append(phrase.replace(duplicated_token, \"\").strip())\n",
    "    return preprocessed_phrase_list"
   ]
  },
  {
   "cell_type": "code",
   "execution_count": 19,
   "metadata": {},
   "outputs": [
    {
     "data": {
      "text/plain": [
       "[{'example': ' 어려운 이웃을 <ins>돕고자</ins> 매년 봉사 활동에 참여하고 있다.',\n",
       "  'selector': ['돕기 위해서', '돕는 대신에', '돕기 무섭게', '돕는 바람에'],\n",
       "  'answer': '돕기 위해서'}]"
      ]
     },
     "metadata": {},
     "output_type": "display_data"
    },
    {
     "data": {
      "text/plain": [
       "['돕고자', '돕기 위해서']"
      ]
     },
     "metadata": {},
     "output_type": "display_data"
    },
    {
     "name": "stdout",
     "output_type": "stream",
     "text": [
      "대낮\n",
      "gpt-4o-mini-2024-07-18 | \n",
      "햇빛\n",
      "\n",
      "OpenAI Tokens Used: 51\n",
      "    Prompt Tokens: 48\n",
      "    Completion Tokens: 3\n",
      "Successful Requests: 1\n",
      "Total Cost (USD): $0.0001\n",
      "Total Cost (KRW): ₩0.135\n",
      "--------------------------------------------------------------------------------------------------\n"
     ]
    }
   ],
   "source": [
    "default_model=\"gpt-4o-mini\"\n",
    "verbose=True\n",
    "\n",
    "total_cost = 0\n",
    "keyword = 'TOPIK_2_READING'\n",
    "problem_type = 'READING_2_PROBLEM_TYPE_2'\n",
    "random_questions = find_random_question(keyword, problem_type, detail_type=1, count=1, api_key_path=\"./../API_KEY/topik_api_key.json\")\n",
    "display(random_questions)\n",
    "\n",
    "# Extract text between <ins> and </ins>\n",
    "matches = re.findall(r'<ins>(.*?)</ins>', random_questions[0]['example'])\n",
    "assert len(matches) == 1\n",
    "underlined_text = matches[0].strip()\n",
    "### Prepare a pair of sample phrases\n",
    "a_pair_of_similar_phrases = [underlined_text, random_questions[0]['answer']]\n",
    "display(a_pair_of_similar_phrases)\n",
    "\n",
    "### Create a model for generating a problem\n",
    "models = [default_model]\n",
    "problem_generate_model = Problem_Generate_Model(\n",
    "    models, use_cache=True, temperature=0.5, verbose=verbose, api_key_path=\"./../API_KEY/llm_api_key.json\"\n",
    ")\n",
    "\n",
    "### get random word\n",
    "main_topic = random_word()\n",
    "if verbose:\n",
    "    print(main_topic)\n",
    "\n",
    "## Generate a new word based on the random word\n",
    "problem_generate_model.request_models_responses(\n",
    "    [\n",
    "        SystemMessage(content=\"주제어와 관련된 일상적인 명사 1개를 제시하라. no intro. no outro.\"),\n",
    "        HumanMessage(content=\"주제어: \" + main_topic + \" 명사: \"),\n",
    "    ]\n",
    ")\n",
    "word_responses = problem_generate_model.get_model_responses()\n",
    "main_topic_generated = word_responses[0][1]\n",
    "total_cost += float(re.search(r'Total Cost \\(KRW\\): ₩([\\d.]+)', word_responses[0][2]).group(1))\n"
   ]
  },
  {
   "cell_type": "markdown",
   "metadata": {},
   "source": [
    "- 유사 구문 생성"
   ]
  },
  {
   "cell_type": "code",
   "execution_count": 20,
   "metadata": {},
   "outputs": [
    {
     "data": {
      "text/plain": [
       "'두 구문은 서로 대체될 수 있어야 한다. 두 구문은 자연스러워야한다. 주제어: 햇빛'"
      ]
     },
     "metadata": {},
     "output_type": "display_data"
    },
    {
     "name": "stdout",
     "output_type": "stream",
     "text": [
      "gpt-4o-2024-05-13 | \n",
      "['햇빛을 받기 위해서', '햇빛을 받으려고']\n",
      "\n",
      "OpenAI Tokens Used: 101\n",
      "    Prompt Tokens: 82\n",
      "    Completion Tokens: 19\n",
      "Successful Requests: 1\n",
      "Total Cost (USD): $0.0002\n",
      "Total Cost (KRW): ₩0.27\n",
      "--------------------------------------------------------------------------------------------------\n"
     ]
    },
    {
     "data": {
      "text/plain": [
       "['받기 위해서', '받으려고']"
      ]
     },
     "execution_count": 20,
     "metadata": {},
     "output_type": "execute_result"
    }
   ],
   "source": [
    "# example_phrases = ['[들릴만큼, 들릴정도로]', '[돕고자, 돕기위해서]', '[꾸미기 나름이다, 꾸미기에 달려있다]', '[타기만 하면, 탈 때마다]', '[수리해 봐야, 수리한다고 해도]', '[고향인 셈이다, 고향이나 마찬가지이다]']\n",
    "# example_phrases = ['[들릴만큼, 들릴정도로]', '[돕고자, 돕기위해서]', '[타기만 하면, 탈 때마다]', '[수리해 봐야, 수리한다고 해도]']\n",
    "# example_phrases = ['[들릴만큼, 들릴정도로]', '[타기만 하면, 탈 때마다]', '[수리해 봐야, 수리한다고 해도]']\n",
    "# sample_phrases = random.sample(example_phrases, 1)\n",
    "# a_pair_of_similar_phrases = sample_phrases[0]\n",
    "human_prompt = f\"두 구문은 서로 대체될 수 있어야 한다. 두 구문은 자연스러워야한다. 주제어: {main_topic_generated}\"\n",
    "display(human_prompt)\n",
    "\n",
    "### Create a model for generating a phrase\n",
    "models = ['gpt-4o']\n",
    "phrase_generate_model = Problem_Generate_Model(\n",
    "    models, use_cache=True, temperature=0.1, verbose=verbose, api_key_path=\"./../API_KEY/llm_api_key.json\"\n",
    ")\n",
    "phrase_generate_model.request_models_responses(\n",
    "    [\n",
    "        SystemMessage(\n",
    "            # content=\"#예시처럼 주어지는 주제어에 대한 문장을 제시하라. #답변 예시 \"\n",
    "            # + example_str\n",
    "            content=f\"너는 유사한 한국어 구문을 생성하는 봇이다. 예시 구문: {a_pair_of_similar_phrases}. No intro. No conclusion.\"\n",
    "            # \" #예시 문제와 같은 유형의 새로운 문제를 1개 만들어라. 문장 주제는 주제어를 참고하라.\" +\n",
    "            # \" #괄호는 관형구 또는 명사구로 구성된다\"\n",
    "        ),\n",
    "        HumanMessage(content=human_prompt),\n",
    "    ]\n",
    ")\n",
    "\n",
    "phrase_response = phrase_generate_model.get_model_responses()\n",
    "\n",
    "total_cost += float(re.search(r'Total Cost \\(KRW\\): ₩([\\d.]+)', phrase_response[0][2]).group(1))\n",
    "\n",
    "phrase_response = phrase_response[0][1]\n",
    "phrase_response\n",
    "\n",
    "# Step 1: Remove the unwanted characters\n",
    "cleaned_str = phrase_response.replace(\"[\", \"\").replace(\"]\", \"\").replace(\"'\", \"\").strip()\n",
    "\n",
    "# Step 2: Split the string by the comma\n",
    "elements = cleaned_str.split(\",\")\n",
    "\n",
    "# Step 3: Strip any extra spaces\n",
    "phrase_list = [element.strip() for element in elements]\n",
    "phrase_list\n",
    "\n",
    "# Remove any word that contains keyword\n",
    "preprocessed_phrase_list = [remove_keyword_in_phrase(phrase, main_topic_generated) for phrase in phrase_list]\n",
    "preprocessed_phrase_list\n",
    "# # Use regular expression to find all items inside square brackets\n",
    "# matches = re.findall(r'\\[([^\\]]+)\\]', phrase_response)\n",
    "\n",
    "# # Split the items within the matches to form a single list\n",
    "# single_list = []\n",
    "# for match in matches:\n",
    "#     items = match.split(', ')\n",
    "#     single_list.extend(items)\n",
    "\n",
    "# generated_phrase = f\"[{single_list[0]}, {single_list[1]}]\"\n",
    "# generated_phrase"
   ]
  },
  {
   "cell_type": "markdown",
   "metadata": {},
   "source": [
    "- 문장 생성"
   ]
  },
  {
   "cell_type": "code",
   "execution_count": 21,
   "metadata": {},
   "outputs": [
    {
     "data": {
      "text/plain": [
       "'Make a sentence where either of the given phrases can be contained, but contain only one of them. Never change any letter in the phrase.\\nPhrases: [받기 위해서, 받으려고]'"
      ]
     },
     "metadata": {},
     "output_type": "display_data"
    },
    {
     "name": "stdout",
     "output_type": "stream",
     "text": [
      "gpt-4o-mini-2024-07-18 | \n",
      "햇빛을 받기 위해서 나무 아래에서 책을 읽었다.\n",
      "\n",
      "OpenAI Tokens Used: 92\n",
      "    Prompt Tokens: 75\n",
      "    Completion Tokens: 17\n",
      "Successful Requests: 1\n",
      "Total Cost (USD): $0.00018\n",
      "Total Cost (KRW): ₩0.243\n",
      "--------------------------------------------------------------------------------------------------\n"
     ]
    },
    {
     "data": {
      "text/plain": [
       "'햇빛을 받기 위해서 나무 아래에서 책을 읽었다.'"
      ]
     },
     "metadata": {},
     "output_type": "display_data"
    },
    {
     "name": "stdout",
     "output_type": "stream",
     "text": [
      "Target Phrase: 받기 위해서\n",
      "Similar Phrase: 받으려고\n"
     ]
    }
   ],
   "source": [
    "human_prompt = f\"\"\"Make a sentence where either of the given phrases can be contained, but contain only one of them. Never change any letter in the phrase.\n",
    "Phrases: [{preprocessed_phrase_list[0]}, {preprocessed_phrase_list[1]}]\"\"\"\n",
    "# human_prompt = f\"\"\"Contain either of the given phrases. Don't change any letter in the phrase.\n",
    "# Phrases: {preprocessed_phrase_list[0]}, {preprocessed_phrase_list[1]}\"\"\"\n",
    "display(human_prompt)\n",
    "problem_generate_model.request_models_responses(\n",
    "    [\n",
    "        SystemMessage(\n",
    "            content=f\"#너는 자연스러운 한국어 문장을 생성하는 봇이다. 주제어: {main_topic_generated}\"\n",
    "        ),\n",
    "        HumanMessage(content=human_prompt),\n",
    "    ]\n",
    ")\n",
    "\n",
    "sentence_response = problem_generate_model.get_model_responses()\n",
    "\n",
    "total_cost += float(re.search(r'Total Cost \\(KRW\\): ₩([\\d.]+)', sentence_response[0][2]).group(1))\n",
    "\n",
    "sentence_response = sentence_response[0][1]\n",
    "display(sentence_response)\n",
    "\n",
    "target_phrase = None\n",
    "similar_phrase = None\n",
    "for phrase in preprocessed_phrase_list:\n",
    "    if phrase in sentence_response:\n",
    "        target_phrase = phrase\n",
    "    else:\n",
    "        similar_phrase = phrase\n",
    "assert target_phrase is not None, \"Target phrase not found in the sentence\"\n",
    "assert similar_phrase is not None, \"Similar phrase not found in the sentence\"\n",
    "print(f'Target Phrase: {target_phrase}\\nSimilar Phrase: {similar_phrase}')"
   ]
  },
  {
   "cell_type": "markdown",
   "metadata": {},
   "source": [
    "- 선택지 생성"
   ]
  },
  {
   "cell_type": "code",
   "execution_count": 22,
   "metadata": {},
   "outputs": [
    {
     "data": {
      "text/plain": [
       "'문장: 햇빛을 받기 위해서 나무 아래에서 책을 읽었다.\\n밑줄: \"받기 위해서\"\\n모든 선택지의 어간은 동일해야하며, 밑줄에 자연스럽게 들어갈 수 있어야한다.'"
      ]
     },
     "metadata": {},
     "output_type": "display_data"
    },
    {
     "name": "stdout",
     "output_type": "stream",
     "text": [
      "gpt-4o-mini-2024-07-18 | \n",
      "{'문장': '햇빛을 받기 위해서 나무 아래에서 책을 읽었다.', '밑줄': '받기 위해서', '정답': '얻기 위해서', '오답': ['가리기 위해서', '피하기 위해서', '막기 위해서']}\n",
      "\n",
      "OpenAI Tokens Used: 253\n",
      "    Prompt Tokens: 186\n",
      "    Completion Tokens: 67\n",
      "Successful Requests: 1\n",
      "Total Cost (USD): $0.00051\n",
      "Total Cost (KRW): ₩0.6885\n",
      "--------------------------------------------------------------------------------------------------\n"
     ]
    },
    {
     "data": {
      "text/plain": [
       "['가리기 위해서', '피하기 위해서', '막기 위해서', '받으려고']"
      ]
     },
     "execution_count": 22,
     "metadata": {},
     "output_type": "execute_result"
    }
   ],
   "source": [
    "# example_sentence = \"어려운 이웃을 돕고자 매년 봉사 활동에 참여하고 있다.\"\n",
    "# example_question = {\n",
    "#     '문장': example_sentence,\n",
    "#     '밑줄' : '돕고자',\n",
    "#     '정답': '돕기 위해서',\n",
    "#     '오답': ['돕는 대신에', '돕기 무섭게', '돕는 바람에']\n",
    "# }\n",
    "### Make an example question for system message to refer to\n",
    "random_question = random_questions[0]\n",
    "example_sentence = random_question['example'].replace('<ins>', '').replace('</ins>', '')\n",
    "example_question = {\n",
    "    '문장': example_sentence,\n",
    "    '밑줄' : underlined_text,\n",
    "    '정답': random_question['answer'],\n",
    "    '오답': [selector for selector in random_question['selector'] if selector != random_question['answer']]\n",
    "}\n",
    "### prompt\n",
    "# human_prompt = f\"\"\"문장: {sentence_response}\n",
    "# 밑줄: \"{target_phrase}\"\n",
    "# 모든 선택지는 밑줄에 자연스럽게 들어갈 수 있어야한다. 선택지의 어간은 모두 동일해야한다.\"\"\"\n",
    "human_prompt = f\"\"\"문장: {sentence_response}\n",
    "밑줄: \"{target_phrase}\"\n",
    "모든 선택지의 어간은 동일해야하며, 밑줄에 자연스럽게 들어갈 수 있어야한다.\"\"\"\n",
    "display(human_prompt)\n",
    "problem_generate_model.request_models_responses(\n",
    "    [\n",
    "        SystemMessage(\n",
    "            content=f\"\"\"너는 문장의 밑줄 친 부분과 의미가 가장 비슷한 선택지를 만드는 봇이다. 오답 3개, 정답 1개의 선택지를 만들어라.\n",
    "            #답변 예시: {example_question}\"\"\"\n",
    "        ),\n",
    "        HumanMessage(content=human_prompt),\n",
    "    ]\n",
    ")\n",
    "\n",
    "response = problem_generate_model.get_model_responses()\n",
    "\n",
    "total_cost += float(re.search(r'Total Cost \\(KRW\\): ₩([\\d.]+)', response[0][2]).group(1))\n",
    "\n",
    "selectors = response[0][1]\n",
    "selectors = ast.literal_eval(selectors)\n",
    "selectors = selectors['오답']\n",
    "selectors.append(similar_phrase)\n",
    "selectors"
   ]
  },
  {
   "cell_type": "code",
   "execution_count": 23,
   "metadata": {},
   "outputs": [],
   "source": [
    "final_sentence = sentence_response.replace(target_phrase, f\"<ins>{target_phrase}</ins>\")"
   ]
  },
  {
   "cell_type": "code",
   "execution_count": 24,
   "metadata": {},
   "outputs": [
    {
     "data": {
      "text/plain": [
       "{'example': '햇빛을 <ins>받기 위해서</ins> 나무 아래에서 책을 읽었다.',\n",
       " 'selector': ['가리기 위해서', '피하기 위해서', '막기 위해서', '받으려고'],\n",
       " 'answer': '받으려고',\n",
       " 'eval_answer': '받으려고',\n",
       " 'total_cost': 1.3365}"
      ]
     },
     "execution_count": 24,
     "metadata": {},
     "output_type": "execute_result"
    }
   ],
   "source": [
    "result = {\n",
    "    \"example\": final_sentence,\n",
    "    \"selector\": selectors,\n",
    "    \"answer\": similar_phrase,\n",
    "    \"eval_answer\": similar_phrase,\n",
    "    \"total_cost\": total_cost,\n",
    "}\n",
    "result"
   ]
  }
 ],
 "metadata": {
  "kernelspec": {
   "display_name": "base",
   "language": "python",
   "name": "python3"
  },
  "language_info": {
   "codemirror_mode": {
    "name": "ipython",
    "version": 3
   },
   "file_extension": ".py",
   "mimetype": "text/x-python",
   "name": "python",
   "nbconvert_exporter": "python",
   "pygments_lexer": "ipython3",
   "version": "3.12.4"
  }
 },
 "nbformat": 4,
 "nbformat_minor": 2
}
