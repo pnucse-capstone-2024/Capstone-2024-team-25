{
 "cells": [
  {
   "cell_type": "code",
   "execution_count": 1,
   "metadata": {},
   "outputs": [],
   "source": [
    "import sys, os\n",
    "\n",
    "# For .py\n",
    "# sys.path.append(os.path.dirname(os.path.abspath(os.path.dirname(__file__))))\n",
    "# For .ipynb\n",
    "sys.path.append(os.path.dirname(os.getcwd()))\n",
    "\n",
    "import json\n",
    "import random\n",
    "from util import Image_Loader\n",
    "from util import find_random_question\n",
    "from util import random_word\n",
    "from problem_generator import Problem_Generate_Model\n",
    "from langchain.schema import HumanMessage, SystemMessage\n",
    "import re\n",
    "import ast"
   ]
  },
  {
   "cell_type": "code",
   "execution_count": 2,
   "metadata": {},
   "outputs": [
    {
     "name": "stdout",
     "output_type": "stream",
     "text": [
      "입술\n",
      "gpt-4o-mini-2024-07-18 | \n",
      "립밤\n",
      "\n",
      "OpenAI Tokens Used: 49\n",
      "    Prompt Tokens: 47\n",
      "    Completion Tokens: 2\n",
      "Successful Requests: 1\n",
      "Total Cost (USD): $0.0001\n",
      "Total Cost (KRW): ₩0.135\n",
      "--------------------------------------------------------------------------------------------------\n"
     ]
    }
   ],
   "source": [
    "default_model=\"gpt-4o-mini\"\n",
    "verbose=True\n",
    "\n",
    "total_cost = 0\n",
    "keyword = 'TOPIK_2_READING'\n",
    "problem_type = 'READING_2_PROBLEM_TYPE_2'\n",
    "# random_question = find_random_question(keyword, problem_type, detail_type=1, count=2)\n",
    "# random_question\n",
    "\n",
    "### Create a model for generating a problem\n",
    "models = [default_model]\n",
    "problem_generate_model = Problem_Generate_Model(\n",
    "    models, use_cache=True, temperature=0.5, verbose=verbose, api_key_path=\"./../API_KEY/llm_api_key.json\"\n",
    ")\n",
    "\n",
    "### get random word\n",
    "main_topic = random_word()\n",
    "if verbose:\n",
    "    print(main_topic)\n",
    "\n",
    "## Generate a new word based on the random word\n",
    "problem_generate_model.request_models_responses(\n",
    "    [\n",
    "        SystemMessage(content=\"주제어와 관련된 일상적인 명사 1개를 제시하라. no intro. no outro.\"),\n",
    "        HumanMessage(content=\"주제어: \" + main_topic + \" 명사: \"),\n",
    "    ]\n",
    ")\n",
    "word_responses = problem_generate_model.get_model_responses()\n",
    "main_topic_generated = word_responses[0][1]\n",
    "total_cost += float(re.search(r'Total Cost \\(KRW\\): ₩([\\d.]+)', word_responses[0][2]).group(1))\n"
   ]
  },
  {
   "cell_type": "markdown",
   "metadata": {},
   "source": [
    "- 문제 생성"
   ]
  },
  {
   "cell_type": "code",
   "execution_count": 3,
   "metadata": {},
   "outputs": [
    {
     "data": {
      "text/plain": [
       "'주제어: 립밤.'"
      ]
     },
     "metadata": {},
     "output_type": "display_data"
    },
    {
     "name": "stdout",
     "output_type": "stream",
     "text": [
      "gpt-4o-mini-2024-07-18 | \n",
      "{'제목': '립밤, 겨울철 입술 보호의 필수 아이템', '정답': ['겨울철 건조한 날씨에 립밤이 필수적으로 사용되고 있다.'], '오답': ['립밤의 가격이 최근에 상승했다.', '립밤의 성분에 대한 논란이 일고 있다.', '많은 사람들이 립밤 대신 다른 보습 제품을 선호하고 있다.']}\n",
      "\n",
      "OpenAI Tokens Used: 270\n",
      "    Prompt Tokens: 175\n",
      "    Completion Tokens: 95\n",
      "Successful Requests: 1\n",
      "Total Cost (USD): $0.00054\n",
      "Total Cost (KRW): ₩0.729\n",
      "--------------------------------------------------------------------------------------------------\n"
     ]
    },
    {
     "data": {
      "text/plain": [
       "{'제목': '립밤, 겨울철 입술 보호의 필수 아이템',\n",
       " '정답': ['겨울철 건조한 날씨에 립밤이 필수적으로 사용되고 있다.'],\n",
       " '오답': ['립밤의 가격이 최근에 상승했다.',\n",
       "  '립밤의 성분에 대한 논란이 일고 있다.',\n",
       "  '많은 사람들이 립밤 대신 다른 보습 제품을 선호하고 있다.']}"
      ]
     },
     "metadata": {},
     "output_type": "display_data"
    }
   ],
   "source": [
    "example_question = {'제목': '대출 금리 하락세, 부동산 시장 기지개',\n",
    "                    '정답': ['대출 금리가 떨어지면서 부동산 시장이 살아나기 시작했다.'],\n",
    "                    '오답': ['부동산 시장에 대한 규제가 대출 금리 하락에 영향을 미쳤다.', '대출 금리가 하락했지만 부동산 시장의 거래는 줄어들고 있다.', '부동산 시장을 활성화하려고 대출 금리 안정화 대책이 논의되고 있다.']\n",
    "    }\n",
    "human_prompt = f\"\"\"주제어: {main_topic_generated}.\"\"\"\n",
    "display(human_prompt)\n",
    "problem_generate_model.request_models_responses(\n",
    "    [\n",
    "        SystemMessage(\n",
    "            content=f\"너는 신문 기사의 제목을 만드는 봇이다. 기사 제목을 가장 잘 설명하는 문장 1개, 아닌 문장 3개를 만들어라. 예시: {example_question}\"\n",
    "        ),\n",
    "        HumanMessage(content=human_prompt),\n",
    "    ]\n",
    ")\n",
    "\n",
    "response = problem_generate_model.get_model_responses()\n",
    "\n",
    "total_cost += float(re.search(r'Total Cost \\(KRW\\): ₩([\\d.]+)', response[0][2]).group(1))\n",
    "\n",
    "response = response[0][1]\n",
    "response = ast.literal_eval(response)\n",
    "display(response)\n",
    "\n",
    "# target_phrase = None\n",
    "# similar_phrase = None\n",
    "# for phrase in phrase_list:\n",
    "#     if phrase in sentence_response:\n",
    "#         target_phrase = phrase\n",
    "#     else:\n",
    "#         similar_phrase = phrase\n",
    "# assert target_phrase is not None, \"Target phrase not found in the sentence\"\n",
    "# assert similar_phrase is not None, \"Similar phrase not found in the sentence\"\n",
    "# print(f'Target Phrase: {target_phrase}\\nSimilar Phrase: {similar_phrase}')"
   ]
  },
  {
   "cell_type": "code",
   "execution_count": 4,
   "metadata": {},
   "outputs": [
    {
     "data": {
      "text/plain": [
       "{'example': '립밤, 겨울철 입술 보호의 필수 아이템',\n",
       " 'selector': ['겨울철 건조한 날씨에 립밤이 필수적으로 사용되고 있다.',\n",
       "  '립밤의 가격이 최근에 상승했다.',\n",
       "  '립밤의 성분에 대한 논란이 일고 있다.',\n",
       "  '많은 사람들이 립밤 대신 다른 보습 제품을 선호하고 있다.'],\n",
       " 'answer': ['겨울철 건조한 날씨에 립밤이 필수적으로 사용되고 있다.'],\n",
       " 'eval_answer': ['겨울철 건조한 날씨에 립밤이 필수적으로 사용되고 있다.'],\n",
       " 'total_cost': 0.864}"
      ]
     },
     "execution_count": 4,
     "metadata": {},
     "output_type": "execute_result"
    }
   ],
   "source": [
    "result = {\n",
    "    \"example\": response['제목'],\n",
    "    \"selector\": response['정답'] + response['오답'],\n",
    "    \"answer\": response['정답'][0],\n",
    "    \"eval_answer\": response['정답'][0],\n",
    "    \"total_cost\": total_cost,\n",
    "}\n",
    "result"
   ]
  }
 ],
 "metadata": {
  "kernelspec": {
   "display_name": "base",
   "language": "python",
   "name": "python3"
  },
  "language_info": {
   "codemirror_mode": {
    "name": "ipython",
    "version": 3
   },
   "file_extension": ".py",
   "mimetype": "text/x-python",
   "name": "python",
   "nbconvert_exporter": "python",
   "pygments_lexer": "ipython3",
   "version": "3.12.4"
  }
 },
 "nbformat": 4,
 "nbformat_minor": 2
}
