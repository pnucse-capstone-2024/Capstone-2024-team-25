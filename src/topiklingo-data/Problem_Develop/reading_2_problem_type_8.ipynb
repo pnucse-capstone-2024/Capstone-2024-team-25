{
 "cells": [
  {
   "cell_type": "code",
   "execution_count": 12,
   "metadata": {},
   "outputs": [],
   "source": [
    "import sys, os\n",
    "\n",
    "# For .py\n",
    "# sys.path.append(os.path.dirname(os.path.abspath(os.path.dirname(__file__))))\n",
    "# For .ipynb\n",
    "sys.path.append(os.path.dirname(os.getcwd()))\n",
    "\n",
    "import json\n",
    "import random\n",
    "from util import Image_Loader\n",
    "from util import find_random_question\n",
    "from util import random_word\n",
    "from problem_generator import Problem_Generate_Model\n",
    "from langchain.schema import HumanMessage, SystemMessage\n",
    "import re\n",
    "import ast"
   ]
  },
  {
   "cell_type": "code",
   "execution_count": 34,
   "metadata": {},
   "outputs": [
    {
     "name": "stdout",
     "output_type": "stream",
     "text": [
      "손질\n",
      "gpt-4o-mini-2024-07-18 | \n",
      "채소\n",
      "\n",
      "OpenAI Tokens Used: 56\n",
      "    Prompt Tokens: 54\n",
      "    Completion Tokens: 2\n",
      "Successful Requests: 1\n",
      "Total Cost (USD): $0.00011\n",
      "Total Cost (KRW): ₩0.1485\n",
      "--------------------------------------------------------------------------------------------------\n"
     ]
    }
   ],
   "source": [
    "default_model=\"gpt-4o-mini\"\n",
    "verbose=True\n",
    "\n",
    "total_cost = 0\n",
    "keyword = 'TOPIK_2_READING'\n",
    "problem_type = 'READING_2_PROBLEM_TYPE_2'\n",
    "# random_question = find_random_question(keyword, problem_type, detail_type=1, count=2)\n",
    "# random_question\n",
    "\n",
    "### Create a model for generating a problem\n",
    "models = [default_model]\n",
    "problem_generate_model = Problem_Generate_Model(\n",
    "    models, use_cache=True, temperature=0.5, verbose=verbose, api_key_path=\"./../API_KEY/llm_api_key.json\"\n",
    ")\n",
    "\n",
    "### get random word\n",
    "main_topic = random_word()\n",
    "if verbose:\n",
    "    print(main_topic)\n",
    "\n",
    "## Generate a new word based on the random word\n",
    "problem_generate_model.request_models_responses(\n",
    "    [\n",
    "        SystemMessage(content=\"주제어와 관련된 명사 1개를 제시하라. 해당 명사는 이야기의 소재가 될 것이다. no intro. no outro.\"),\n",
    "        HumanMessage(content=\"주제어: \" + main_topic + \" 명사: \"),\n",
    "    ]\n",
    ")\n",
    "word_responses = problem_generate_model.get_model_responses()\n",
    "main_topic_generated = word_responses[0][1]\n",
    "total_cost += float(re.search(r'Total Cost \\(KRW\\): ₩([\\d.]+)', word_responses[0][2]).group(1))\n"
   ]
  },
  {
   "cell_type": "code",
   "execution_count": 14,
   "metadata": {},
   "outputs": [],
   "source": [
    "### Create a model for generating a problem\n",
    "models = [default_model]\n",
    "paragraph_generate_model = Problem_Generate_Model(\n",
    "    models, use_cache=True, temperature=1.0, verbose=verbose, api_key_path=\"./../API_KEY/llm_api_key.json\"\n",
    ")"
   ]
  },
  {
   "cell_type": "markdown",
   "metadata": {},
   "source": [
    "- 보기 생성"
   ]
  },
  {
   "cell_type": "code",
   "execution_count": 15,
   "metadata": {},
   "outputs": [],
   "source": [
    "# # example_question = {'이야기': \n",
    "# #     '꽃집을 지나다가 꽃말에 이끌려 금잔화 꽃씨를 샀다. 화분에 심어 사무실의 내 책상 위에 두었더니 어느 날 싹이 텄다. 때맞춰 물도 주며 나는 수시로 들여다보았다. 신기했다. 작고 여린 싹은 눈에 띄게 쑥쑥 자랐다. 그런데 내가 상상한 모습이 아니었다. 도대체 여기서 어떻게 꽃이 핀다는 건지. 무순처럼 길쭉하게 위로만 자라는 것이었다. 하루는 출근해 보니 금잔화가 쓰러져 있었다. 그럼 그렇지. 내가 무슨 식물을 키우나. 그날 나는 화분을 창가로 옮겨 놓았다. 죽을 것 같은 모습을 눈앞에서 보고 싶지 않았다. 그런데 어느 날부턴가 점점 줄기가 굵어지더니 잎도 제법 풍성해지기 시작했다. 어느 날에는 꽃망울도 올라와 있었다. 금잔화는 창문으로 들어오는 풍성한 햇볕 속에서 스스로 튼튼해졌다. 금잔화에게는 햇빛이 더 많이 필요했었나 보다. 사람도 식물도 사랑하려면 그 대상을 제대로 알아야 하는 건 똑같구나 싶었다. 씩씩하게 꽃피운 금잔화의 꽃말은 ‘반드시 올 행복’이다.',\n",
    "# #     '심정을 드러내는 문장': '도대체 여기서 어떻게 꽃이 핀다는 건지',\n",
    "# #     '심정': '의심스럽다',\n",
    "# #     '이야기 내용과 같은 문장': ['내가 금잔화 화분을 옮긴 곳은 햇볕이 잘 들었다.'],\n",
    "# #     '이야기 내용과 다른 문장': ['내 책상 위에 둔 금잔화는 금방 말라 죽었다.', '나는 금잔화 화분에 물을 제대로 주지 못했다.', '나는 꽃집에서 금잔화가 피어 있는 화분을 샀다.']}\n",
    "# # example_question = {'이야기': \n",
    "# #     '꽃집을 지나다가 꽃말에 이끌려 금잔화 꽃씨를 샀다. 화분에 심어 사무실의 내 책상 위에 두었더니 어느 날 싹이 텄다. 때맞춰 물도 주며 나는 수시로 들여다보았다. 신기했다. 작고 여린 싹은 눈에 띄게 쑥쑥 자랐다. 그런데 내가 상상한 모습이 아니었다. 도대체 여기서 어떻게 꽃이 핀다는 건지. 무순처럼 길쭉하게 위로만 자라는 것이었다.',\n",
    "# #     '심정을 드러내는 문장': '도대체 여기서 어떻게 꽃이 핀다는 건지'\n",
    "# #     }\n",
    "# human_prompt = f\"\"\"주어: '나', 주제어: {main_topic_generated}.\n",
    "# \"\"\"\n",
    "# display(human_prompt)\n",
    "# paragraph_generate_model.request_models_responses(\n",
    "#     [\n",
    "#         SystemMessage(\n",
    "#             content=f\"너는 교훈을 주는 이야기를 만드는 봇이다. 화자의 심정을 드러내는 문장이 이야기에 포함되어야 한다. 총 10개의 문장으로 구성하라.\"\n",
    "#         ),\n",
    "#         HumanMessage(content=human_prompt),\n",
    "#     ]\n",
    "# )\n",
    "\n",
    "# paragraph_response = paragraph_generate_model.get_model_responses()\n",
    "\n",
    "# total_cost += float(re.search(r'Total Cost \\(KRW\\): ₩([\\d.]+)', paragraph_response[0][2]).group(1))\n",
    "\n",
    "# paragraph_response = paragraph_response[0][1]\n",
    "# # paragraph_response = ast.literal_eval(paragraph_response)\n",
    "# display(paragraph_response)\n",
    "\n",
    "# # target_phrase = None\n",
    "# # similar_phrase = None\n",
    "# # for phrase in phrase_list:\n",
    "# #     if phrase in sentence_response:\n",
    "# #         target_phrase = phrase\n",
    "# #     else:\n",
    "# #         similar_phrase = phrase\n",
    "# # assert target_phrase is not None, \"Target phrase not found in the sentence\"\n",
    "# # assert similar_phrase is not None, \"Similar phrase not found in the sentence\"\n",
    "# # print(f'Target Phrase: {target_phrase}\\nSimilar Phrase: {similar_phrase}')"
   ]
  },
  {
   "cell_type": "markdown",
   "metadata": {},
   "source": [
    "- 보기 생성 V2(예시 문제 제공)"
   ]
  },
  {
   "cell_type": "code",
   "execution_count": 33,
   "metadata": {},
   "outputs": [
    {
     "data": {
      "text/plain": [
       "\"주어: '나', 주제어: 자동차.\\n\""
      ]
     },
     "metadata": {},
     "output_type": "display_data"
    },
    {
     "name": "stdout",
     "output_type": "stream",
     "text": [
      "gpt-4o-mini-2024-07-18 | \n",
      "{'이야기': '오랜 꿈이 실현되었다. 드디어 새 차를 구입하게 된 나는 차키를 손에 쥐고 감격스럽게 눈을 감았다. 머릿속에는 다양한 드라이브 코스가 떠올랐다. 첫 번째로 갔던 해변은 바람과 파도 소리로 가득 차 있었다. 창문을 열고 음악을 크게 틀자 세상이 더욱 밝아진 듯했다. 그러나 돌아오는 길, 차가 멈춰버렸다. 고장난 엔진 소리에 심장이 쿵쿵거렸다. 차의 온도계는 높아졌고 나는 한숨을 내쉬었다. 내가 꿈꿔왔던 그 순간은 이렇게 변해버릴 줄 몰랐다.', '심정을 드러내는 문장': '내가 꿈꿔왔던 그 순간은 이렇게 변해버릴 줄 몰랐다.'}\n",
      "\n",
      "OpenAI Tokens Used: 456\n",
      "    Prompt Tokens: 254\n",
      "    Completion Tokens: 202\n",
      "Successful Requests: 1\n",
      "Total Cost (USD): $0.00091\n",
      "Total Cost (KRW): ₩1.2285\n",
      "--------------------------------------------------------------------------------------------------\n"
     ]
    },
    {
     "data": {
      "text/plain": [
       "{'이야기': '오랜 꿈이 실현되었다. 드디어 새 차를 구입하게 된 나는 차키를 손에 쥐고 감격스럽게 눈을 감았다. 머릿속에는 다양한 드라이브 코스가 떠올랐다. 첫 번째로 갔던 해변은 바람과 파도 소리로 가득 차 있었다. 창문을 열고 음악을 크게 틀자 세상이 더욱 밝아진 듯했다. 그러나 돌아오는 길, 차가 멈춰버렸다. 고장난 엔진 소리에 심장이 쿵쿵거렸다. 차의 온도계는 높아졌고 나는 한숨을 내쉬었다. 내가 꿈꿔왔던 그 순간은 이렇게 변해버릴 줄 몰랐다.',\n",
       " '심정을 드러내는 문장': '내가 꿈꿔왔던 그 순간은 이렇게 변해버릴 줄 몰랐다.'}"
      ]
     },
     "metadata": {},
     "output_type": "display_data"
    }
   ],
   "source": [
    "# example_question = {'이야기': \n",
    "#     '꽃집을 지나다가 꽃말에 이끌려 금잔화 꽃씨를 샀다. 화분에 심어 사무실의 내 책상 위에 두었더니 어느 날 싹이 텄다. 때맞춰 물도 주며 나는 수시로 들여다보았다. 신기했다. 작고 여린 싹은 눈에 띄게 쑥쑥 자랐다. 그런데 내가 상상한 모습이 아니었다. 도대체 여기서 어떻게 꽃이 핀다는 건지. 무순처럼 길쭉하게 위로만 자라는 것이었다. 하루는 출근해 보니 금잔화가 쓰러져 있었다. 그럼 그렇지. 내가 무슨 식물을 키우나. 그날 나는 화분을 창가로 옮겨 놓았다. 죽을 것 같은 모습을 눈앞에서 보고 싶지 않았다. 그런데 어느 날부턴가 점점 줄기가 굵어지더니 잎도 제법 풍성해지기 시작했다. 어느 날에는 꽃망울도 올라와 있었다. 금잔화는 창문으로 들어오는 풍성한 햇볕 속에서 스스로 튼튼해졌다. 금잔화에게는 햇빛이 더 많이 필요했었나 보다. 사람도 식물도 사랑하려면 그 대상을 제대로 알아야 하는 건 똑같구나 싶었다. 씩씩하게 꽃피운 금잔화의 꽃말은 ‘반드시 올 행복’이다.',\n",
    "#     '심정을 드러내는 문장': '도대체 여기서 어떻게 꽃이 핀다는 건지',\n",
    "#     '심정': '의심스럽다',\n",
    "#     '이야기 내용과 같은 문장': ['내가 금잔화 화분을 옮긴 곳은 햇볕이 잘 들었다.'],\n",
    "#     '이야기 내용과 다른 문장': ['내 책상 위에 둔 금잔화는 금방 말라 죽었다.', '나는 금잔화 화분에 물을 제대로 주지 못했다.', '나는 꽃집에서 금잔화가 피어 있는 화분을 샀다.']}\n",
    "example_question = {'이야기': \n",
    "    '꽃집을 지나다가 꽃말에 이끌려 금잔화 꽃씨를 샀다. 화분에 심어 사무실의 내 책상 위에 두었더니 어느 날 싹이 텄다. 때맞춰 물도 주며 나는 수시로 들여다보았다. 신기했다. 작고 여린 싹은 눈에 띄게 쑥쑥 자랐다. 그런데 내가 상상한 모습이 아니었다. 도대체 여기서 어떻게 꽃이 핀다는 건지. 무순처럼 길쭉하게 위로만 자라는 것이었다.',\n",
    "    '심정을 드러내는 문장': '도대체 여기서 어떻게 꽃이 핀다는 건지'\n",
    "    }\n",
    "human_prompt = f\"\"\"주어: '나', 주제어: {main_topic_generated}.\n",
    "\"\"\"\n",
    "display(human_prompt)\n",
    "paragraph_generate_model.request_models_responses(\n",
    "    [\n",
    "        SystemMessage(\n",
    "            content=f\"\"\"너는 교훈을 주는 이야기를 만드는 봇이다. 화자의 심정을 드러내는 문장이 이야기에 포함되어야 한다. 하지만 해당 문장에 심정을 직접적으로 나타내는 단어는 없어야 한다. 총 10개의 문장으로 구성하라.\n",
    "            #답변 예시: {example_question}\"\"\"\n",
    "        ),\n",
    "        HumanMessage(content=human_prompt),\n",
    "    ]\n",
    ")\n",
    "\n",
    "paragraph_response = paragraph_generate_model.get_model_responses()\n",
    "\n",
    "total_cost += float(re.search(r'Total Cost \\(KRW\\): ₩([\\d.]+)', paragraph_response[0][2]).group(1))\n",
    "\n",
    "paragraph_response = paragraph_response[0][1]\n",
    "paragraph_response = ast.literal_eval(paragraph_response)\n",
    "display(paragraph_response)\n",
    "\n",
    "# target_phrase = None\n",
    "# similar_phrase = None\n",
    "# for phrase in phrase_list:\n",
    "#     if phrase in sentence_response:\n",
    "#         target_phrase = phrase\n",
    "#     else:\n",
    "#         similar_phrase = phrase\n",
    "# assert target_phrase is not None, \"Target phrase not found in the sentence\"\n",
    "# assert similar_phrase is not None, \"Similar phrase not found in the sentence\"\n",
    "# print(f'Target Phrase: {target_phrase}\\nSimilar Phrase: {similar_phrase}')"
   ]
  },
  {
   "cell_type": "markdown",
   "metadata": {},
   "source": [
    "- 심정 생성 V2"
   ]
  },
  {
   "cell_type": "code",
   "execution_count": 17,
   "metadata": {},
   "outputs": [
    {
     "data": {
      "text/plain": [
       "'문장: 형의 열정이 나에게도 전해진 듯했다.'"
      ]
     },
     "metadata": {},
     "output_type": "display_data"
    },
    {
     "name": "stdout",
     "output_type": "stream",
     "text": [
      "gpt-4o-mini-2024-07-18 | \n",
      "{'정답': ['감동적이다'], '오답': ['실망스럽다', '무관심하다', '혼란스럽다']}\n",
      "\n",
      "OpenAI Tokens Used: 128\n",
      "    Prompt Tokens: 96\n",
      "    Completion Tokens: 32\n",
      "Successful Requests: 1\n",
      "Total Cost (USD): $0.00026\n",
      "Total Cost (KRW): ₩0.351\n",
      "--------------------------------------------------------------------------------------------------\n"
     ]
    },
    {
     "data": {
      "text/plain": [
       "{'정답': ['감동적이다'], '오답': ['실망스럽다', '무관심하다', '혼란스럽다']}"
      ]
     },
     "metadata": {},
     "output_type": "display_data"
    }
   ],
   "source": [
    "example_question = {\n",
    "    '정답': ['의심스럽다'],\n",
    "    '오답': ['고통스럽다', '조심스럽다', '부담스럽다']\n",
    "    }\n",
    "human_prompt = f\"\"\"문장: {paragraph_response['심정을 드러내는 문장']}\"\"\"\n",
    "display(human_prompt)\n",
    "problem_generate_model.request_models_responses(\n",
    "    [\n",
    "        SystemMessage(\n",
    "            content=f\"주어진 문장에 담긴 심정을 유추하는 봇이다. 정답 심정 하나와 오답 심정 3개를 만들어라. 예시: {example_question}\"\n",
    "        ),\n",
    "        HumanMessage(content=human_prompt),\n",
    "    ]\n",
    ")\n",
    "\n",
    "feeling_response = problem_generate_model.get_model_responses()\n",
    "\n",
    "total_cost += float(re.search(r'Total Cost \\(KRW\\): ₩([\\d.]+)', feeling_response[0][2]).group(1))\n",
    "\n",
    "feeling_response = feeling_response[0][1]\n",
    "feeling_response = ast.literal_eval(feeling_response)\n",
    "display(feeling_response)"
   ]
  },
  {
   "cell_type": "markdown",
   "metadata": {},
   "source": [
    "- 심정 생성"
   ]
  },
  {
   "cell_type": "code",
   "execution_count": 18,
   "metadata": {},
   "outputs": [],
   "source": [
    "# example_question = {\n",
    "#     '심정을 드러내는 문장': '도대체 여기서 어떻게 꽃이 핀다는 건지',\n",
    "#     '정답': ['의심스럽다'],\n",
    "#     '오답': ['고통스럽다', '조심스럽다', '부담스럽다']\n",
    "#     }\n",
    "# human_prompt = f\"\"\"\n",
    "# 문단: {paragraph_response}\"\"\"\n",
    "# display(human_prompt)\n",
    "# problem_generate_model.request_models_responses(\n",
    "#     [\n",
    "#         SystemMessage(\n",
    "#             content=f\"주어진 문단에서 화자의 심정을 드러내는 문장을 찾고, 정답 심정 하나와 오답 심정 3개를 만들어라. 예시: {example_question}\"\n",
    "#         ),\n",
    "#         HumanMessage(content=human_prompt),\n",
    "#     ]\n",
    "# )\n",
    "\n",
    "# feeling_response = problem_generate_model.get_model_responses()\n",
    "\n",
    "# total_cost += float(re.search(r'Total Cost \\(KRW\\): ₩([\\d.]+)', feeling_response[0][2]).group(1))\n",
    "\n",
    "# feeling_response = feeling_response[0][1]\n",
    "# feeling_response = ast.literal_eval(feeling_response)\n",
    "# display(feeling_response)"
   ]
  },
  {
   "cell_type": "markdown",
   "metadata": {},
   "source": [
    "- 내용 일치 문제 생성"
   ]
  },
  {
   "cell_type": "code",
   "execution_count": 19,
   "metadata": {},
   "outputs": [
    {
     "data": {
      "text/plain": [
       "'\\n글: 나는 형의 방에 들어섰다. 형이 지금 무엇을 하고 있을지 궁금했다. 방 안은 정리정돈이 되지 않아 어지럽혀져 있었다. 하지만 그 속에서 형이 무언가 열중하고 있는 모습이 보였다. 난 형의 옆에 앉아 그의 작업을 지켜보았다. 형의 진지한 표정을 보며 내 마음이 이상하게 두근거렸다. “형, 뭐 하고 있어?”라고 물었다. 형은 미소를 지으며 “이건 꿈을 이루기 위한 준비야”라고 대답했다. 그 말을 듣고 나도 형처럼 열심히 노력해야겠다고 다짐했다. 형의 열정이 나에게도 전해진 듯했다.'"
      ]
     },
     "metadata": {},
     "output_type": "display_data"
    },
    {
     "name": "stdout",
     "output_type": "stream",
     "text": [
      "gpt-4o-mini-2024-07-18 | \n",
      "{'정답': ['형의 방에 들어서자 형이 열중하고 있는 모습이 보였다.'], '오답': ['형은 방 안에서 음악을 듣고 있었다.', '나는 형에게 방 청소를 도와주겠다고 말했다.', '형이 무언가를 하느라 나를 못 알아봤다.']}\n",
      "\n",
      "OpenAI Tokens Used: 359\n",
      "    Prompt Tokens: 286\n",
      "    Completion Tokens: 73\n",
      "Successful Requests: 1\n",
      "Total Cost (USD): $0.00072\n",
      "Total Cost (KRW): ₩0.972\n",
      "--------------------------------------------------------------------------------------------------\n"
     ]
    },
    {
     "data": {
      "text/plain": [
       "{'정답': ['형의 방에 들어서자 형이 열중하고 있는 모습이 보였다.'],\n",
       " '오답': ['형은 방 안에서 음악을 듣고 있었다.',\n",
       "  '나는 형에게 방 청소를 도와주겠다고 말했다.',\n",
       "  '형이 무언가를 하느라 나를 못 알아봤다.']}"
      ]
     },
     "metadata": {},
     "output_type": "display_data"
    }
   ],
   "source": [
    "example_question = {\n",
    "    '정답': ['내가 금잔화 화분을 옮긴 곳은 햇볕이 잘 들었다.'],\n",
    "    '오답': ['내 책상 위에 둔 금잔화는 금방 말라 죽었다.', '나는 금잔화 화분에 물을 제대로 주지 못했다.', '나는 꽃집에서 금잔화가 피어 있는 화분을 샀다.']\n",
    "    }\n",
    "human_prompt = f\"\"\"\n",
    "글: {paragraph_response['이야기']}\"\"\"\n",
    "display(human_prompt)\n",
    "problem_generate_model.request_models_responses(\n",
    "    [\n",
    "        SystemMessage(\n",
    "            content=f\"글의 내용과 같은 문장 1개와 다른 문장 3개를 만들어라. 예시: {example_question}\"\n",
    "        ),\n",
    "        HumanMessage(content=human_prompt),\n",
    "    ]\n",
    ")\n",
    "\n",
    "matching_content_response = problem_generate_model.get_model_responses()\n",
    "\n",
    "total_cost += float(re.search(r'Total Cost \\(KRW\\): ₩([\\d.]+)', matching_content_response[0][2]).group(1))\n",
    "\n",
    "matching_content_response = matching_content_response[0][1]\n",
    "matching_content_response = ast.literal_eval(matching_content_response)\n",
    "display(matching_content_response)"
   ]
  },
  {
   "cell_type": "code",
   "execution_count": 24,
   "metadata": {},
   "outputs": [
    {
     "data": {
      "text/plain": [
       "'나는 형의 방에 들어섰다. 형이 지금 무엇을 하고 있을지 궁금했다. 방 안은 정리정돈이 되지 않아 어지럽혀져 있었다. 하지만 그 속에서 형이 무언가 열중하고 있는 모습이 보였다. 난 형의 옆에 앉아 그의 작업을 지켜보았다. 형의 진지한 표정을 보며 내 마음이 이상하게 두근거렸다. “형, 뭐 하고 있어?”라고 물었다. 형은 미소를 지으며 “이건 꿈을 이루기 위한 준비야”라고 대답했다. 그 말을 듣고 나도 형처럼 열심히 노력해야겠다고 다짐했다. <ins>형의 열정이 나에게도 전해진 듯했다.</ins>'"
      ]
     },
     "execution_count": 24,
     "metadata": {},
     "output_type": "execute_result"
    }
   ],
   "source": [
    "final_example = paragraph_response['이야기'].replace(paragraph_response['심정을 드러내는 문장'], f\"<ins>{paragraph_response['심정을 드러내는 문장']}</ins>\")\n",
    "final_example"
   ]
  },
  {
   "cell_type": "code",
   "execution_count": 30,
   "metadata": {},
   "outputs": [
    {
     "data": {
      "text/plain": [
       "{'example': '나는 형의 방에 들어섰다. 형이 지금 무엇을 하고 있을지 궁금했다. 방 안은 정리정돈이 되지 않아 어지럽혀져 있었다. 하지만 그 속에서 형이 무언가 열중하고 있는 모습이 보였다. 난 형의 옆에 앉아 그의 작업을 지켜보았다. 형의 진지한 표정을 보며 내 마음이 이상하게 두근거렸다. “형, 뭐 하고 있어?”라고 물었다. 형은 미소를 지으며 “이건 꿈을 이루기 위한 준비야”라고 대답했다. 그 말을 듣고 나도 형처럼 열심히 노력해야겠다고 다짐했다. <ins>형의 열정이 나에게도 전해진 듯했다.</ins>',\n",
       " 'questions': [{'question': '밑줄 친 부분에 나타난 ‘나’의 심정으로 가장 알맞은 것을 고르십시오.',\n",
       "   'selector': ['감동적이다', '실망스럽다', '무관심하다', '혼란스럽다'],\n",
       "   'answer': '감동적이다',\n",
       "   'eval_answer': '감동적이다'},\n",
       "  {'question': '윗글의 내용과 같은 것을 고르십시오.',\n",
       "   'selector': ['형의 방에 들어서자 형이 열중하고 있는 모습이 보였다.',\n",
       "    '형은 방 안에서 음악을 듣고 있었다.',\n",
       "    '나는 형에게 방 청소를 도와주겠다고 말했다.',\n",
       "    '형이 무언가를 하느라 나를 못 알아봤다.'],\n",
       "   'answer': '형의 방에 들어서자 형이 열중하고 있는 모습이 보였다.',\n",
       "   'eval_answer': '형의 방에 들어서자 형이 열중하고 있는 모습이 보였다.'}],\n",
       " 'total_cost': 2.6189999999999998}"
      ]
     },
     "execution_count": 30,
     "metadata": {},
     "output_type": "execute_result"
    }
   ],
   "source": [
    "result = {\n",
    "    \"example\": final_example,\n",
    "    \"questions\": [{\n",
    "        \"question\": \"밑줄 친 부분에 나타난 ‘나’의 심정으로 가장 알맞은 것을 고르십시오.\",\n",
    "        \"selector\": feeling_response['정답'] + feeling_response['오답'],\n",
    "        \"answer\": feeling_response['정답'][0],\n",
    "        \"eval_answer\": feeling_response['정답'][0],\n",
    "        }, \n",
    "                  {\n",
    "        \"question\": \"윗글의 내용과 같은 것을 고르십시오.\",\n",
    "        \"selector\": matching_content_response['정답'] + matching_content_response['오답'],\n",
    "        \"answer\": matching_content_response['정답'][0],\n",
    "        \"eval_answer\": matching_content_response['정답'][0],\n",
    "        }],\n",
    "    \"total_cost\": total_cost,\n",
    "}\n",
    "result"
   ]
  }
 ],
 "metadata": {
  "kernelspec": {
   "display_name": "base",
   "language": "python",
   "name": "python3"
  },
  "language_info": {
   "codemirror_mode": {
    "name": "ipython",
    "version": 3
   },
   "file_extension": ".py",
   "mimetype": "text/x-python",
   "name": "python",
   "nbconvert_exporter": "python",
   "pygments_lexer": "ipython3",
   "version": "3.12.4"
  }
 },
 "nbformat": 4,
 "nbformat_minor": 2
}
