{
 "cells": [
  {
   "cell_type": "markdown",
   "metadata": {},
   "source": [
    "## 토픽II 읽기 생성 품질 테스트\n",
    "\n",
    "### 1,2번 유형1 알맞은 문법 고르기"
   ]
  },
  {
   "cell_type": "code",
   "execution_count": 1,
   "metadata": {},
   "outputs": [
    {
     "data": {
      "text/plain": [
       "{'example': '정부는 새로운 (  ) 발표하여 경제 회복에 나섰다.',\n",
       " 'selector': ['정책에', '정책이', '정책을', '정책으로'],\n",
       " 'answer': '정책을',\n",
       " 'eval_answer': '정책을',\n",
       " 'eval_explain': '정부는 새로운 정책을 발표하여 경제 회복에 나섰다.',\n",
       " 'total_cost': 0.351}"
      ]
     },
     "metadata": {},
     "output_type": "display_data"
    }
   ],
   "source": [
    "from Problem_Type_Template.reading_2_problem_type_1 import generate_reading_2_problem_type_1\n",
    "\n",
    "result = generate_reading_2_problem_type_1(default_model=\"gpt-4o-mini\",verbose=False)\n",
    "\n",
    "display(result)"
   ]
  },
  {
   "cell_type": "code",
   "execution_count": 5,
   "metadata": {},
   "outputs": [
    {
     "data": {
      "text/plain": [
       "{'example': '대학에 입학하기 위해서는 (  ) 한다.',\n",
       " 'selector': ['열심히 공부해야', '열심히 공부하면서', '열심히 공부하길', '열심히 공부하고'],\n",
       " 'answer': '열심히 공부해야',\n",
       " 'eval_answer': '열심히 공부해야',\n",
       " 'eval_explain': '대학에 입학하기 위해서는 열심히 공부해야 한다.',\n",
       " 'total_cost': 0.3915}"
      ]
     },
     "metadata": {},
     "output_type": "display_data"
    }
   ],
   "source": [
    "from Problem_Type_Template.reading_2_problem_type_1 import generate_reading_2_problem_type_1\n",
    "\n",
    "result = generate_reading_2_problem_type_1(default_model=\"gpt-4o-mini\",verbose=False)\n",
    "\n",
    "display(result)"
   ]
  },
  {
   "cell_type": "markdown",
   "metadata": {},
   "source": [
    "### 3,4번 유형2 알맞은 유의 문법, 표현 고르기"
   ]
  },
  {
   "cell_type": "code",
   "execution_count": 1,
   "metadata": {},
   "outputs": [
    {
     "data": {
      "text/plain": [
       "{'example': '압력계를 <ins>교체해도</ins> 문제가 해결되지 않으면 전문가에게 문의하세요.',\n",
       " 'selector': ['점검하면', '교체하면', '바꿔도', '고치면'],\n",
       " 'answer': '바꿔도',\n",
       " 'eval_answer': '바꿔도',\n",
       " 'eval_explain': '',\n",
       " 'total_cost': 12.879}"
      ]
     },
     "metadata": {},
     "output_type": "display_data"
    }
   ],
   "source": [
    "from Problem_Type_Template.reading_2_problem_type_2 import generate_reading_2_problem_type_2\n",
    "\n",
    "result = generate_reading_2_problem_type_2(default_model=\"gpt-4o-mini\",verbose=False)\n",
    "\n",
    "display(result)"
   ]
  },
  {
   "cell_type": "code",
   "execution_count": 4,
   "metadata": {},
   "outputs": [
    {
     "data": {
      "text/plain": [
       "{'example': '이 소파는 너무 편해서 <ins>침대나 다름없다</ins>.',\n",
       " 'selector': ['침대보다 불편하다', '침대일 수 없다', '침대가 아니다', '침대와 같다'],\n",
       " 'answer': '침대와 같다',\n",
       " 'eval_answer': '침대와 같다',\n",
       " 'eval_explain': '',\n",
       " 'total_cost': 12.555}"
      ]
     },
     "metadata": {},
     "output_type": "display_data"
    }
   ],
   "source": [
    "from Problem_Type_Template.reading_2_problem_type_2 import generate_reading_2_problem_type_2\n",
    "\n",
    "result = generate_reading_2_problem_type_2(default_model=\"gpt-4o-mini\",verbose=False)\n",
    "\n",
    "display(result)"
   ]
  },
  {
   "cell_type": "markdown",
   "metadata": {},
   "source": [
    "### 5-8번 유형3 광고,소재(그림)"
   ]
  },
  {
   "cell_type": "code",
   "execution_count": 2,
   "metadata": {},
   "outputs": [
    {
     "data": {
      "text/plain": [
       "{'example': 'https://topikkorea.s3.amazonaws.com/topik_image/3ff610db-23ef-11ef-a272-e5a43cd400fd.png',\n",
       " 'selector': ['미술관', '안경관', '치과의원', '서점'],\n",
       " 'answer': '안경관',\n",
       " 'eval_answer': '안경관',\n",
       " 'eval_explain': '',\n",
       " 'total_cost': 0.486}"
      ]
     },
     "metadata": {},
     "output_type": "display_data"
    }
   ],
   "source": [
    "from Problem_Type_Template.reading_2_problem_type_3 import generate_reading_2_problem_type_3\n",
    "\n",
    "result = generate_reading_2_problem_type_3(default_model=\"gpt-4o-mini\",verbose=False)\n",
    "\n",
    "display(result)"
   ]
  },
  {
   "cell_type": "code",
   "execution_count": 1,
   "metadata": {},
   "outputs": [
    {
     "data": {
      "text/plain": [
       "{'example': 'https://topikkorea.s3.amazonaws.com/topik_image/77d8c90f-23ef-11ef-82ee-e5a43cd400fd.png',\n",
       " 'selector': ['세탁기', '냉동고', '청소차', '냉방기'],\n",
       " 'answer': '냉방기',\n",
       " 'eval_answer': '냉방기',\n",
       " 'eval_explain': '',\n",
       " 'total_cost': 0.486}"
      ]
     },
     "metadata": {},
     "output_type": "display_data"
    }
   ],
   "source": [
    "from Problem_Type_Template.reading_2_problem_type_3 import generate_reading_2_problem_type_3\n",
    "\n",
    "result = generate_reading_2_problem_type_3(default_model=\"gpt-4o-mini\",verbose=False)\n",
    "\n",
    "display(result)"
   ]
  },
  {
   "cell_type": "markdown",
   "metadata": {},
   "source": [
    "### 9-12번 유형4 같은 것 고르기(글,도표,그래프)"
   ]
  },
  {
   "cell_type": "code",
   "execution_count": 1,
   "metadata": {},
   "outputs": [
    {
     "data": {
      "text/plain": [
       "{'example': '새로운 시작은 언제나 설레임과 두려움을 동시에 안고 온다. 많은 사람들은 새로운 일을 시작할 때, 그 과정에서 겪게 될 어려움과 성공의 가능성에 대해 고민한다. 예를 들어, 새로운 직장에 들어가는 것은 새로운 환경과 사람들, 그리고 업무에 적응해야 하는 도전이지만, 동시에 자신의 능력을 발전시키고 경력을 쌓을 수 있는 기회이기도 하다. 시작은 항상 힘들지만, 그 힘든 과정을 통해 우리는 성장할 수 있다.',\n",
       " 'selector': ['시작은 성장의 기회를 제공한다.',\n",
       "  '시작을 두려워하지 말고 피해야 한다.',\n",
       "  '새로운 시작은 항상 두려움만을 동반한다.',\n",
       "  '새로운 일을 시작하면 반드시 성공한다.'],\n",
       " 'answer': '시작은 성장의 기회를 제공한다.',\n",
       " 'eval_answer': '시작은 성장의 기회를 제공한다.',\n",
       " 'eval_explain': '',\n",
       " 'total_cost': 0.9450000000000001}"
      ]
     },
     "metadata": {},
     "output_type": "display_data"
    }
   ],
   "source": [
    "from Problem_Type_Template.reading_2_problem_type_4_1 import generate_reading_2_problem_type_4_1\n",
    "\n",
    "result = generate_reading_2_problem_type_4_1(default_model=\"gpt-4o-mini\",verbose=False)\n",
    "\n",
    "display(result)"
   ]
  },
  {
   "cell_type": "code",
   "execution_count": 2,
   "metadata": {},
   "outputs": [
    {
     "data": {
      "text/plain": [
       "{'example': 'https://topikkorea.s3.amazonaws.com/topik_image/8ac89f24-23ef-11ef-8d31-e5a43cd400fd.png',\n",
       " 'selector': ['자가용을 이용해 출퇴근한다고 응답한 직장인들의 비율이 줄어들었다.',\n",
       "  '2012년에 비해 2022년에는 걸어서 출퇴근하는 직장인의 수가 감소했다.',\n",
       "  '2022년도에는 지하철로 출퇴근하는 직장인이 가장 많았다.',\n",
       "  '2012년 동안 사무직 종사자들은 출근과 퇴근할 때 버스를 가장 많이 이용했다.'],\n",
       " 'answer': '2012년에 비해 2022년에는 걸어서 출퇴근하는 직장인의 수가 감소했다.',\n",
       " 'eval_answer': '2012년에 비해 2022년에는 걸어서 출퇴근하는 직장인의 수가 감소했다.',\n",
       " 'eval_explain': '',\n",
       " 'total_cost': 0.432}"
      ]
     },
     "metadata": {},
     "output_type": "display_data"
    }
   ],
   "source": [
    "from Problem_Type_Template.reading_2_problem_type_4_2 import generate_reading_2_problem_type_4_2\n",
    "\n",
    "result = generate_reading_2_problem_type_4_2(default_model=\"gpt-4o-mini\",verbose=False)\n",
    "\n",
    "display(result)"
   ]
  },
  {
   "cell_type": "markdown",
   "metadata": {},
   "source": [
    "### 13-15번 유형5 순서배열"
   ]
  },
  {
   "cell_type": "code",
   "execution_count": 1,
   "metadata": {},
   "outputs": [
    {
     "data": {
      "text/plain": [
       "{'example': '(가) 그들은 매일 아침 밝은 날씨에 감사하며 시작하는 습관을 기른다. (나) 이렇게 작은 기쁨을 소중히 여기는 삶이 그들에게 큰 행복을 가져다주고 있다. (다) 주말에는 가족과 친구들과 소중한 시간을 보내며 소소한 행복을 나눈다. (라) 작은 일상 속에서도 행복을 찾는 사람들이 늘어나고 있다.',\n",
       " 'selector': ['(나) - (라) - (가) - (다)',\n",
       "  '(라) - (가) - (다) - (나)',\n",
       "  '(라) - (다) - (나) - (가)',\n",
       "  '(다) - (나) - (라) - (가)'],\n",
       " 'answer': '(라) - (가) - (다) - (나)',\n",
       " 'eval_answer': '(라) - (가) - (다) - (나)',\n",
       " 'eval_explain': '작은 일상 속에서도 행복을 찾는 사람들이 늘어나고 있다.  \\n그들은 매일 아침 밝은 날씨에 감사하며 시작하는 습관을 기른다.  \\n주말에는 가족과 친구들과 소중한 시간을 보내며 소소한 행복을 나눈다.  \\n이렇게 작은 기쁨을 소중히 여기는 삶이 그들에게 큰 행복을 가져다주고 있다.',\n",
       " 'total_cost': 0.6345000000000001}"
      ]
     },
     "metadata": {},
     "output_type": "display_data"
    }
   ],
   "source": [
    "from Problem_Type_Template.reading_2_problem_type_5 import generate_reading_2_problem_type_5\n",
    "\n",
    "result = generate_reading_2_problem_type_5(default_model=\"gpt-4o-mini\",verbose=False)\n",
    "\n",
    "display(result)"
   ]
  },
  {
   "cell_type": "code",
   "execution_count": 6,
   "metadata": {},
   "outputs": [
    {
     "data": {
      "text/plain": [
       "{'example': '(가) 시험 결과는 학생들의 진로와 앞으로의 학업에 큰 영향을 미치기 때문에 매우 중요하다. (나) 학생들은 시험을 준비하기 위해 다양한 학습 방법을 활용한다. (다) 시험은 학생들에게 중요한 평가의 수단이다. (라) 시험 당일에는 긴장과 불안이 많은 학생들에게 영향을 준다.',\n",
       " 'selector': ['(가) - (라) - (나) - (다)',\n",
       "  '(다) - (가) - (라) - (나)',\n",
       "  '(라) - (가) - (다) - (나)',\n",
       "  '(다) - (나) - (라) - (가)'],\n",
       " 'answer': '(다) - (나) - (라) - (가)',\n",
       " 'eval_answer': '(다) - (나) - (라) - (가)',\n",
       " 'eval_explain': '시험은 학생들에게 중요한 평가의 수단이다.  \\n학생들은 시험을 준비하기 위해 다양한 학습 방법을 활용한다.  \\n시험 당일에는 긴장과 불안이 많은 학생들에게 영향을 준다.  \\n시험 결과는 학생들의 진로와 앞으로의 학업에 큰 영향을 미치기 때문에 매우 중요하다.',\n",
       " 'total_cost': 0.5535}"
      ]
     },
     "metadata": {},
     "output_type": "display_data"
    }
   ],
   "source": [
    "from Problem_Type_Template.reading_2_problem_type_5 import generate_reading_2_problem_type_5\n",
    "\n",
    "result = generate_reading_2_problem_type_5(default_model=\"gpt-4o-mini\",verbose=False)\n",
    "\n",
    "display(result)"
   ]
  },
  {
   "cell_type": "markdown",
   "metadata": {},
   "source": [
    "### 16-22번 유형6 빈칸채우기"
   ]
  },
  {
   "cell_type": "code",
   "execution_count": 1,
   "metadata": {},
   "outputs": [
    {
     "data": {
      "text/plain": [
       "{'example': '양식은 일반적으로 (  ). 다양한 종류의 양식이 존재하며, 이는 특정 지역의 기후와 생태계에 따라 달라진다. 예를 들어, 연안 지역에서는 해양 생물이 풍부하므로 해양 양식이 활발하게 이루어지며, 내륙 지역에서는 담수어 양식이 더 많이 이루어진다. 양식은 지속 가능한 식량 공급의 중요한 수단으로 자리잡고 있다.',\n",
       " 'selector': ['다양한 요리를 필요로 한다',\n",
       "  '단순히 반복적인 작업이다',\n",
       "  '농업 생산에 필요한 기술과 지식을 포함한다',\n",
       "  '환경 보호에만 국한된다'],\n",
       " 'answer': '농업 생산에 필요한 기술과 지식을 포함한다',\n",
       " 'eval_answer': '농업 생산에 필요한 기술과 지식을 포함한다',\n",
       " 'eval_explain': '양식은 일반적으로 농업 생산에 필요한 기술과 지식을 포함한다. 다양한 종류의 양식이 존재하며, 이는 특정 지역의 기후와 생태계에 따라 달라진다. 예를 들어, 연안 지역에서는 해양 생물이 풍부하므로 해양 양식이 활발하게 이루어지며, 내륙 지역에서는 담수어 양식이 더 많이 이루어진다. 양식은 지속 가능한 식량 공급의 중요한 수단으로 자리잡고 있다.',\n",
       " 'total_cost': 0.9450000000000001}"
      ]
     },
     "metadata": {},
     "output_type": "display_data"
    }
   ],
   "source": [
    "from Problem_Type_Template.reading_2_problem_type_6 import generate_reading_2_problem_type_6\n",
    "\n",
    "result = generate_reading_2_problem_type_6(default_model=\"gpt-4o-mini\",verbose=False)\n",
    "\n",
    "display(result)"
   ]
  },
  {
   "cell_type": "code",
   "execution_count": 2,
   "metadata": {},
   "outputs": [
    {
     "data": {
      "text/plain": [
       "{'example': '연애는 인간 관계에서 중요한 요소 중 하나로, 상호 간의 감정과 신뢰를 바탕으로 발전한다. 연애를 통해 사람들은 서로를 깊이 이해하고, (  ) 시간을 가지게 된다. 이런 과정은 개인의 성장에도 기여하며, 삶의 다양한 측면에서 긍정적인 영향을 미친다. 또한, 연애는 행복한 순간뿐만 아니라, 때로는 어려움과 갈등을 경험하게 하기도 한다.',\n",
       " 'selector': ['삶의 방향을 제시하는', '함께 시간을 보내는', '서로의 감정을 나누는', '관계를 정리하는'],\n",
       " 'answer': '서로의 감정을 나누는',\n",
       " 'eval_answer': '서로의 감정을 나누는',\n",
       " 'eval_explain': '연애는 인간 관계에서 중요한 요소 중 하나로, 상호 간의 감정과 신뢰를 바탕으로 발전한다. 연애를 통해 사람들은 서로를 깊이 이해하고, 서로의 감정을 나누는 시간을 가지게 된다. 이런 과정은 개인의 성장에도 기여하며, 삶의 다양한 측면에서 긍정적인 영향을 미친다. 또한, 연애는 행복한 순간뿐만 아니라, 때로는 어려움과 갈등을 경험하게 하기도 한다.',\n",
       " 'total_cost': 0.864}"
      ]
     },
     "metadata": {},
     "output_type": "display_data"
    }
   ],
   "source": [
    "from Problem_Type_Template.reading_2_problem_type_6 import generate_reading_2_problem_type_6\n",
    "\n",
    "result = generate_reading_2_problem_type_6(default_model=\"gpt-4o-mini\",verbose=False)\n",
    "\n",
    "display(result)"
   ]
  },
  {
   "cell_type": "code",
   "execution_count": 3,
   "metadata": {},
   "outputs": [
    {
     "data": {
      "text/plain": [
       "{'example': '수확은 농업에서 가장 중요한 과정 중 하나로, 농작물의 성장을 확인하고 그 결과를 얻는 단계이다. 풍작의 해에는 (  ) 수확 후에는 이뤄진 노력과 땀방울이 결실로 이어지며, 지역 사회와 경제에 긍정적인 영향을 미친다. 다양한 농작물의 수확 시기는 다르기 때문에, 농부들은 계획적으로 작업을 수행해야 한다.',\n",
       " 'selector': ['수확 후에는 즉시 판매해야 한다',\n",
       "  '수확은 항상 성공적이지 않다',\n",
       "  '농부들이 기쁨의 춤을 추기도 한다',\n",
       "  '모든 농작물은 동일한 시기에 수확된다.'],\n",
       " 'answer': '농부들이 기쁨의 춤을 추기도 한다',\n",
       " 'eval_answer': '농부들이 기쁨의 춤을 추기도 한다',\n",
       " 'eval_explain': '수확은 농업에서 가장 중요한 과정 중 하나로, 농작물의 성장을 확인하고 그 결과를 얻는 단계이다. 풍작의 해에는 농부들이 기쁨의 춤을 추기도 한다 수확 후에는 이뤄진 노력과 땀방울이 결실로 이어지며, 지역 사회와 경제에 긍정적인 영향을 미친다. 다양한 농작물의 수확 시기는 다르기 때문에, 농부들은 계획적으로 작업을 수행해야 한다.',\n",
       " 'total_cost': 0.891}"
      ]
     },
     "metadata": {},
     "output_type": "display_data"
    }
   ],
   "source": [
    "from Problem_Type_Template.reading_2_problem_type_6 import generate_reading_2_problem_type_6\n",
    "\n",
    "result = generate_reading_2_problem_type_6(default_model=\"gpt-4o-mini\",verbose=False)\n",
    "\n",
    "display(result)"
   ]
  },
  {
   "cell_type": "markdown",
   "metadata": {},
   "source": [
    "### 23-26번 유형7 빈칸+같은것 고르기"
   ]
  },
  {
   "cell_type": "code",
   "execution_count": 2,
   "metadata": {},
   "outputs": [
    {
     "data": {
      "text/plain": [
       "{'example': '조화는 다양한 요소들이 서로 어우러져 균형을 이루는 상태를 의미한다.자연에서의 조화는 생태계의 균형을 유지하는 데 필수적이며, 각 생물종이 서로 의존하며 공존한다.인간 사회에서도 조화는 문화, 가치관, 의견의 다양성을 존중하며 상생하는 관계를 형성하는 데 중요하다.조화로운 관계는 갈등을 줄이고, 협력을 통해 공동의 목표를 달성하는 데 기여한다.개인적인 삶에서도 조화는 정신적 안정과 행복을 가져오는 중요한 요소로 작용한다.(    ) 개인과 사회, 자연이 함께 발전하는 데 필수적인 원칙으로 자리 잡고 있다.',\n",
       " 'questions': [{'question': '(  ) 에 들어갈 알맞은 말을 고르십시오.',\n",
       "   'selector': ['조화는', '갈등은', '불균형은', '경쟁은'],\n",
       "   'answer': '조화는',\n",
       "   'eval_answer': '조화는',\n",
       "   'eval_explain': \"빈칸 앞의 문장들은 조화의 중요성과 역할에 대해 설명하고 있다. 따라서 빈칸에 들어갈 말로는 '조화는'이 가장 적절하다.\"},\n",
       "  {'question': '이 글의 내용과 알맞은 것을 고르십시오.',\n",
       "   'selector': ['자연에서의 조화는 생태계의 균형을 유지하는 데 필수적이다.',\n",
       "    '개인적인 삶에서 조화는 정신적 안정과 행복을 가져오지 않는다.',\n",
       "    '조화는 다양한 요소들이 서로 어우러져 균형을 이루는 상태를 의미하지 않는다.',\n",
       "    '인간 사회에서 조화는 갈등을 증가시키는 요소로 작용한다.'],\n",
       "   'answer': '자연에서의 조화는 생태계의 균형을 유지하는 데 필수적이다.',\n",
       "   'eval_answer': '자연에서의 조화는 생태계의 균형을 유지하는 데 필수적이다.',\n",
       "   'eval_explain': '주어진 문장에서 자연에서의 조화가 생태계의 균형을 유지하는 데 필수적이라고 설명하고 있다. 따라서 2번 선택지가 올바른 서술이다.'}],\n",
       " 'total_cost': 32.953500000000005}"
      ]
     },
     "metadata": {},
     "output_type": "display_data"
    }
   ],
   "source": [
    "from Problem_Type_Template.reading_2_problem_type_7 import generate_reading_2_problem_type_7\n",
    "\n",
    "result = generate_reading_2_problem_type_7(default_model=\"gpt-4o-mini\",verbose=False)\n",
    "\n",
    "display(result)"
   ]
  },
  {
   "cell_type": "code",
   "execution_count": 3,
   "metadata": {},
   "outputs": [
    {
     "data": {
      "text/plain": [
       "{'example': '비누는 손을 깨끗하게 씻는 데 필수적인 제품이다. 우리는 비누를 사용하여 세균과 더러움을 제거하고 건강을 지킬 수 있다. 다양한 향과 색상의 비누가 있어 개인의 취향에 맞게 선택할 수 있는 즐거움도 있다. 그러나 비누의 과도한 사용은 피부에 자극을 줄 수 있으므로 적절한 (    ). 또한, 환경을 고려한 천연 비누가 인기를 끌고 있는 요즘, 지속 가능한 소비에 대한 관심도 높아지고 있다. 결국, 비누는 단순한 청결 제품을 넘어 우리의 생활과 환경에 영향을 미치는 중요한 요소가 되었다.',\n",
       " 'questions': [{'question': '(  ) 에 들어갈 알맞은 말을 고르십시오.',\n",
       "   'selector': ['선택이 필요하다', '주의가 필요하다', '사용이 필요하다', '관리가 필요하다'],\n",
       "   'answer': '주의가 필요하다',\n",
       "   'eval_answer': '주의가 필요하다',\n",
       "   'eval_explain': '문맥상 비누의 과도한 사용이 피부에 자극을 줄 수 있으므로 적절한 주의가 필요하다는 의미가 가장 적절하다.'},\n",
       "  {'question': '이 글의 내용과 알맞은 것을 고르십시오.',\n",
       "   'selector': ['비누는 단순한 청결 제품을 넘어 우리의 건강을 지킨다.',\n",
       "    '다양한 향과 색상의 비누가 있어 선택의 폭이 넓다.',\n",
       "    '비누의 과도한 사용은 피부에 자극을 줄 수 있다.',\n",
       "    '비누는 손을 깨끗하게 씻는 데 필수적인 제품이다.'],\n",
       "   'answer': '비누의 과도한 사용은 피부에 자극을 줄 수 있다.',\n",
       "   'eval_answer': '비누의 과도한 사용은 피부에 자극을 줄 수 있다.',\n",
       "   'eval_explain': '주어진 예문에서 비누의 과도한 사용이 피부에 자극을 줄 수 있다는 내용이 명확히 언급되어 있다.'}],\n",
       " 'total_cost': 31.3605}"
      ]
     },
     "metadata": {},
     "output_type": "display_data"
    }
   ],
   "source": [
    "from Problem_Type_Template.reading_2_problem_type_7 import generate_reading_2_problem_type_7\n",
    "\n",
    "result = generate_reading_2_problem_type_7(default_model=\"gpt-4o-mini\",verbose=False)\n",
    "\n",
    "display(result)"
   ]
  },
  {
   "cell_type": "markdown",
   "metadata": {},
   "source": [
    "### 27-28번 유형8 심정+같은 것 고르기"
   ]
  },
  {
   "cell_type": "code",
   "execution_count": 1,
   "metadata": {},
   "outputs": [
    {
     "data": {
      "text/plain": [
       "{'example': '나는 몇 주째 스크립트를 써내려가고 있었다. 주어진 주제에 대해 깊이 고민할수록 내 마음속 불안의 파도가 일렁였다. 종이에 스치는 펜의 소리가 마치 내 머릿속에서 떠오르는 메시지를 망설이게 했다. 반복해서 지우고 다시 썼지만, 글자가 잘 정리되지 않았다. <ins>이럴 때마다 주변의 조용한 소음이 더욱 크게 느껴졌다.</ins> 친구의 격려가 내가 앞으로 나아가야 할 힘이 되어 주길 바랐다. 하지만 내 모습은 피곤함에 지쳐 보였다.',\n",
       " 'questions': [{'question': '밑줄 친 부분에 나타난 ‘나’의 심정으로 가장 알맞은 것을 고르십시오.',\n",
       "   'selector': ['불안한', '편안한', '신나는', '무관심한'],\n",
       "   'answer': '불안한',\n",
       "   'eval_answer': '불안한',\n",
       "   'eval_explain': ''},\n",
       "  {'question': '윗글의 내용과 같은 것을 고르십시오.',\n",
       "   'selector': ['내가 쓴 스크립트는 친구들에게 도움이 되지 않았다.',\n",
       "    '나는 몇 주째 스크립트를 써내려가고 있었다.',\n",
       "    '나는 스크립트를 쓰는 대신 다른 일을 하기로 결심했다.',\n",
       "    '내 스크립트는 완성되지 않았지만, 친구의 응원이 필요했다.'],\n",
       "   'answer': '나는 몇 주째 스크립트를 써내려가고 있었다.',\n",
       "   'eval_answer': '나는 몇 주째 스크립트를 써내려가고 있었다.',\n",
       "   'eval_explain': ''}],\n",
       " 'total_cost': 0.9855}"
      ]
     },
     "metadata": {},
     "output_type": "display_data"
    }
   ],
   "source": [
    "from Problem_Type_Template.reading_2_problem_type_8 import generate_reading_2_problem_type_8\n",
    "\n",
    "result = generate_reading_2_problem_type_8(default_model=\"gpt-4o-mini\",verbose=False)\n",
    "\n",
    "display(result)"
   ]
  },
  {
   "cell_type": "code",
   "execution_count": 2,
   "metadata": {},
   "outputs": [
    {
     "data": {
      "text/plain": [
       "{'example': '회의실에 들어서자 모든 눈이 나를 향해 있었다. 긴장된 어깨를 펴고 자료를 펼쳤다. 목소리가 쏠리기 시작했지만, 심장이 더욱 빠르게 뛰었다. 내가 준비한 내용을 설명할 때, 간간히 고개를 끄덕이는 사람들의 모습이 보였다. 그들은 내 이야기를 듣고 있는지, 아니면 다른 생각에 잠겨 있는지 알 수 없었다. 슬쩍 내 자료를 확인해보니, 몇 가지 실수가 눈에 들어왔다. <ins>땀방울이 이마를 타고 흘러내렸다.</ins> 나도 모르게 말수가 줄어들었고, 끝내 차분한 표정을 유지하기 어렵게 되었다.',\n",
       " 'questions': [{'question': '밑줄 친 부분에 나타난 ‘나’의 심정으로 가장 알맞은 것을 고르십시오.',\n",
       "   'selector': ['무기력한', '즐거운', '편안한', '긴장된'],\n",
       "   'answer': '긴장된',\n",
       "   'eval_answer': '긴장된',\n",
       "   'eval_explain': ''},\n",
       "  {'question': '윗글의 내용과 같은 것을 고르십시오.',\n",
       "   'selector': ['내가 발표하는 동안 한 사람도 나를 바라보지 않았다.',\n",
       "    '나는 발표 전에 모든 준비를 철저히 마쳤다.',\n",
       "    '회의가 끝난 후 사람들은 나의 발표에 대해 칭찬했다.',\n",
       "    '회의실에 들어서자 모든 눈이 나를 향해 있었다.'],\n",
       "   'answer': '회의실에 들어서자 모든 눈이 나를 향해 있었다.',\n",
       "   'eval_answer': '회의실에 들어서자 모든 눈이 나를 향해 있었다.',\n",
       "   'eval_explain': ''}],\n",
       " 'total_cost': 1.0125}"
      ]
     },
     "metadata": {},
     "output_type": "display_data"
    }
   ],
   "source": [
    "from Problem_Type_Template.reading_2_problem_type_8 import generate_reading_2_problem_type_8\n",
    "\n",
    "result = generate_reading_2_problem_type_8(default_model=\"gpt-4o-mini\",verbose=False)\n",
    "\n",
    "display(result)"
   ]
  },
  {
   "cell_type": "markdown",
   "metadata": {},
   "source": [
    "### 29-30번 유형9 신문 기사 제목 고르기"
   ]
  },
  {
   "cell_type": "code",
   "execution_count": 3,
   "metadata": {},
   "outputs": [
    {
     "data": {
      "text/plain": [
       "{'example': '부패 척결을 위한 정부의 새로운 정책 발표',\n",
       " 'selector': ['정부가 부패를 근절하기 위한 새로운 정책을 발표했다.',\n",
       "  '부패 관련 사건이 계속해서 발생하고 있다.',\n",
       "  '정부의 정책 발표에도 불구하고 부패는 쉽게 사라지지 않을 것이다.',\n",
       "  '부패 문제는 여전히 사회의 큰 이슈로 남아있다.'],\n",
       " 'answer': '정부가 부패를 근절하기 위한 새로운 정책을 발표했다.',\n",
       " 'eval_answer': '정부가 부패를 근절하기 위한 새로운 정책을 발표했다.',\n",
       " 'total_cost': 0.324}"
      ]
     },
     "metadata": {},
     "output_type": "display_data"
    }
   ],
   "source": [
    "from Problem_Type_Template.reading_2_problem_type_9 import generate_reading_2_problem_type_9\n",
    "\n",
    "result = generate_reading_2_problem_type_9(default_model=\"gpt-4o-mini\",verbose=False)\n",
    "\n",
    "display(result)"
   ]
  },
  {
   "cell_type": "code",
   "execution_count": 9,
   "metadata": {},
   "outputs": [
    {
     "data": {
      "text/plain": [
       "{'example': '도시 거리, 새로운 문화 공간으로 탈바꿈',\n",
       " 'selector': ['도시의 거리가 다양한 문화 행사로 가득 차고 있다.',\n",
       "  '거리는 여전히 교통 혼잡으로 문제가 되고 있다.',\n",
       "  '거리의 안전 문제로 인해 시민들이 불안해하고 있다.',\n",
       "  '도시 거리의 변화는 경제에 큰 영향을 미치지 않는다.'],\n",
       " 'answer': '도시의 거리가 다양한 문화 행사로 가득 차고 있다.',\n",
       " 'eval_answer': '도시의 거리가 다양한 문화 행사로 가득 차고 있다.',\n",
       " 'total_cost': 0.324}"
      ]
     },
     "metadata": {},
     "output_type": "display_data"
    }
   ],
   "source": [
    "from Problem_Type_Template.reading_2_problem_type_9 import generate_reading_2_problem_type_9\n",
    "\n",
    "result = generate_reading_2_problem_type_9(default_model=\"gpt-4o-mini\",verbose=False)\n",
    "\n",
    "display(result)"
   ]
  },
  {
   "cell_type": "markdown",
   "metadata": {},
   "source": [
    "### 32-34번 유형10 같은 것 고르기"
   ]
  },
  {
   "cell_type": "code",
   "execution_count": 5,
   "metadata": {},
   "outputs": [
    {
     "data": {
      "text/plain": [
       "{'example': '자산은 개인이나 기업이 소유하고 있는 가치 있는 자원으로, 재정적 안정성을 나타내는 중요한 지표이다. 자산의 종류에는 현금, 부동산, 주식 등 다양한 형태가 있으며, 이들은 시간이 지남에 따라 가치가 변동할 수 있다. 특히 부동산은 장기적인 투자로 안정적인 수익을 기대할 수 있는 자산으로 알려져 있다. 그러나 자산을 관리하기 위해서는 시장의 변화에 대한 이해와 전략적인 접근이 필요하다.',\n",
       " 'selector': ['부동산은 자산의 한 형태가 아니다.',\n",
       "  '자산의 가치는 항상 일정하게 유지된다.',\n",
       "  '자산은 오직 현금만 포함된다.',\n",
       "  '자산 관리는 시장 변화에 대한 이해가 필요하다.'],\n",
       " 'answer': '자산 관리는 시장 변화에 대한 이해가 필요하다.',\n",
       " 'eval_answer': '자산 관리는 시장 변화에 대한 이해가 필요하다.',\n",
       " 'eval_explain': '',\n",
       " 'total_cost': 1.1475}"
      ]
     },
     "metadata": {},
     "output_type": "display_data"
    }
   ],
   "source": [
    "from Problem_Type_Template.reading_2_problem_type_10 import generate_reading_2_problem_type_10\n",
    "\n",
    "result = generate_reading_2_problem_type_10(default_model=\"gpt-4o-mini\",verbose=False)\n",
    "\n",
    "display(result)"
   ]
  },
  {
   "cell_type": "code",
   "execution_count": 2,
   "metadata": {},
   "outputs": [
    {
     "data": {
      "text/plain": [
       "{'example': '재판은 법원이 사건에 대한 판결을 내리는 과정으로, 공정한 법의 적용을 통해 사회 정의를 실현하는 중요한 역할을 한다. 재판은 일반적으로 원고와 피고가 법정에서 증거를 제시하고, 법관이 이를 검토하여 판결을 내리는 방식으로 진행된다. 재판의 종류에는 형사 재판과 민사 재판이 있으며, 형사 재판은 범죄에 대한 처벌을 다루고, 민사 재판은 개인 간의 분쟁을 해결하기 위한 것이다. 또한 재판은 공개적으로 진행되며, 모든 시민이 그 과정을 지켜볼 수 있는 권리를 가진다.',\n",
       " 'selector': ['재판은 원고와 피고가 법정에서 증거를 제시하는 방식으로 진행된다.',\n",
       "  '재판은 비공식적으로 진행되며 시민이 지켜볼 수 없다.',\n",
       "  '민사 재판은 범죄에 대한 처벌을 다루는 재판이다.',\n",
       "  '재판은 법원이 사건을 심리하지 않는 과정이다.'],\n",
       " 'answer': '재판은 원고와 피고가 법정에서 증거를 제시하는 방식으로 진행된다.',\n",
       " 'eval_answer': '재판은 원고와 피고가 법정에서 증거를 제시하는 방식으로 진행된다.',\n",
       " 'eval_explain': '',\n",
       " 'total_cost': 1.323}"
      ]
     },
     "metadata": {},
     "output_type": "display_data"
    }
   ],
   "source": [
    "from Problem_Type_Template.reading_2_problem_type_10 import generate_reading_2_problem_type_10\n",
    "\n",
    "result = generate_reading_2_problem_type_10(default_model=\"gpt-4o-mini\",verbose=False)\n",
    "\n",
    "display(result)"
   ]
  },
  {
   "cell_type": "markdown",
   "metadata": {},
   "source": [
    "### 35-38번 유형11 주제 찾기"
   ]
  },
  {
   "cell_type": "code",
   "execution_count": 1,
   "metadata": {},
   "outputs": [
    {
     "data": {
      "text/plain": [
       "{'example': '여성은 사회의 중요한 구성원으로서 다양한 역할을 수행하고 있다. 역사적으로 여성은 가정에서의 역할뿐만 아니라, 교육, 정치, 경제 분야에서도 점차 그 영향력을 확대해왔다. 현대 사회에서는 여성의 권리와 평등을 위한 노력이 지속되고 있으며, 이는 단순히 개인의 이익을 넘어서 사회 전체의 발전에 기여하는 중요한 요소로 자리 잡고 있다. 여성의 참여와 기여는 다양한 관점과 아이디어를 사회에 불어넣으며, 이를 통해 우리는 더 포용적이고 발전적인 사회를 만들어 갈 수 있다.',\n",
       " 'selector': ['여성의 권리와 평등을 위한 노력은 개인의 이익을 위한 것이다.',\n",
       "  '여성은 교육 분야에서만 중요한 역할을 한다.',\n",
       "  '현대 사회에서 여성의 참여는 과거에 비해 줄어들고 있다.',\n",
       "  '여성의 역할은 가정에 국한되지 않는다.'],\n",
       " 'answer': '여성의 역할은 가정에 국한되지 않는다.',\n",
       " 'eval_answer': '여성의 역할은 가정에 국한되지 않는다.',\n",
       " 'eval_explain': '',\n",
       " 'total_cost': 1.0394999999999999}"
      ]
     },
     "metadata": {},
     "output_type": "display_data"
    }
   ],
   "source": [
    "from Problem_Type_Template.reading_2_problem_type_11 import generate_reading_2_problem_type_11\n",
    "\n",
    "result = generate_reading_2_problem_type_11(default_model=\"gpt-4o-mini\",verbose=False)\n",
    "\n",
    "display(result)"
   ]
  },
  {
   "cell_type": "code",
   "execution_count": 1,
   "metadata": {},
   "outputs": [
    {
     "data": {
      "text/plain": [
       "{'example': '확장은 일반적으로 어떤 물체나 개념이 크기, 범위, 또는 영향력을 증가시키는 과정을 의미한다. 예를 들어, 기업의 확장은 새로운 시장에 진출하거나 제품 라인을 확장하는 것을 포함할 수 있으며, 이는 수익성을 높이고 경쟁력을 강화하는 데 기여할 수 있다. 또한, 도시의 확장은 인구 증가와 경제 발전에 따른 자연스러운 현상으로, 주거지와 인프라의 발전을 요구하게 된다. 확장은 긍정적인 결과를 가져올 수 있지만, 적절한 계획과 관리가 이루어지지 않으면 과밀화나 환경 파괴와 같은 부정적인 영향을 초래할 수 있다.',\n",
       " 'selector': ['기업의 확장은 수익성에 긍정적인 영향을 미친다.',\n",
       "  '도시의 확장은 인구 증가와 관련이 있다.',\n",
       "  '확장을 위해서는 적절한 계획이 필요하다.',\n",
       "  '확장은 항상 긍정적인 결과를 가져온다.'],\n",
       " 'answer': '확장은 항상 긍정적인 결과를 가져온다.',\n",
       " 'eval_answer': '확장은 항상 긍정적인 결과를 가져온다.',\n",
       " 'eval_explain': '',\n",
       " 'total_cost': 1.1745}"
      ]
     },
     "metadata": {},
     "output_type": "display_data"
    }
   ],
   "source": [
    "from Problem_Type_Template.reading_2_problem_type_11 import generate_reading_2_problem_type_11\n",
    "\n",
    "result = generate_reading_2_problem_type_11(default_model=\"gpt-4o-mini\",verbose=False)\n",
    "\n",
    "display(result)"
   ]
  },
  {
   "cell_type": "code",
   "execution_count": 2,
   "metadata": {},
   "outputs": [
    {
     "data": {
      "text/plain": [
       "{'example': '창업은 많은 사람들에게 꿈이자 도전이다. 자신의 아이디어로 사업을 시작하는 것은 큰 매력으로 다가오지만, 실제로는 많은 위험과 불확실성이 따른다. 창업 초기에는 자금 조달, 시장 조사, 마케팅 전략 등 다양한 문제를 해결해야 하며, 실패할 경우 큰 경제적 손실을 입을 수 있다. 성공적인 창업을 위해서는 철저한 준비와 계획이 필요하며, 경험이 많은 멘토의 조언을 받는 것도 큰 도움이 될 수 있다.',\n",
       " 'selector': ['창업은 모든 사람에게 적합한 선택이다.',\n",
       "  '창업 초기에는 많은 문제를 해결해야 한다.',\n",
       "  '창업은 항상 경제적 손실을 초래한다.',\n",
       "  '성공적인 창업을 위해서는 준비와 계획이 필요하다.'],\n",
       " 'answer': '성공적인 창업을 위해서는 준비와 계획이 필요하다.',\n",
       " 'eval_answer': '성공적인 창업을 위해서는 준비와 계획이 필요하다.',\n",
       " 'eval_explain': '',\n",
       " 'total_cost': 1.134}"
      ]
     },
     "metadata": {},
     "output_type": "display_data"
    }
   ],
   "source": [
    "from Problem_Type_Template.reading_2_problem_type_11 import generate_reading_2_problem_type_11\n",
    "\n",
    "result = generate_reading_2_problem_type_11(default_model=\"gpt-4o-mini\",verbose=False)\n",
    "\n",
    "display(result)"
   ]
  },
  {
   "cell_type": "markdown",
   "metadata": {},
   "source": [
    "### 35-38번 유형12 문맥에 맞는 위치 고르기"
   ]
  },
  {
   "cell_type": "code",
   "execution_count": 3,
   "metadata": {},
   "outputs": [
    {
     "data": {
      "text/plain": [
       "{'example': \"[['특히, 현대 사회에서는 기술의 발전으로 인해 정보 탐색이 더욱 용이해졌다.'], ['탐색은 새로운 지식과 경험을 찾아 나서는 과정이다. (㉠) 이 과정은 개인의 호기심과 탐험 정신을 자극하여 다양한 가능성을 열어준다. (㉡) 탐색을 통해 우리는 미지의 세계를 발견하고, 그 속에서 새로운 관점을 얻을 수 있다. (㉢) 그러나 단순한 정보 수집을 넘어, 깊이 있는 이해와 경험이 중요하다. (㉣) 따라서 탐색은 단순한 행위가 아니라, 우리 삶을 풍요롭게 만드는 중요한 요소로 작용한다.']]\",\n",
       " 'selector': ['㉠', '㉡', '㉢', '㉣'],\n",
       " 'answer': '㉢',\n",
       " 'eval_answer': '㉢',\n",
       " 'eval_explain': '탐색은 새로운 지식과 경험을 찾아 나서는 과정이다. 이 과정은 개인의 호기심과 탐험 정신을 자극하여 다양한 가능성을 열어준다. 탐색을 통해 우리는 미지의 세계를 발견하고, 그 속에서 새로운 관점을 얻을 수 있다. 특히, 현대 사회에서는 기술의 발전으로 인해 정보 탐색이 더욱 용이해졌다. 그러나 단순한 정보 수집을 넘어, 깊이 있는 이해와 경험이 중요하다. 따라서 탐색은 단순한 행위가 아니라, 우리 삶을 풍요롭게 만드는 중요한 요소로 작용한다.',\n",
       " 'total_cost': 0.9315}"
      ]
     },
     "metadata": {},
     "output_type": "display_data"
    }
   ],
   "source": [
    "from Problem_Type_Template.reading_2_problem_type_12 import generate_reading_2_problem_type_12\n",
    "\n",
    "result = generate_reading_2_problem_type_12(default_model=\"gpt-4o-mini\",verbose=False)\n",
    "\n",
    "display(result)"
   ]
  },
  {
   "cell_type": "code",
   "execution_count": 2,
   "metadata": {},
   "outputs": [
    {
     "data": {
      "text/plain": [
       "{'example': \"[['또한, 과일은 수분 함량이 높아 체내 수분을 보충하는 데 효과적이다.'], ['과일은 건강에 좋은 영양소가 풍부한 식품이다. (㉠) 다양한 비타민과 미네랄이 포함되어 있어 면역력을 강화하는 데 도움을 준다. (㉡) 특히, 과일 속의 식이섬유는 소화에 유익하고 장 건강을 촉진하는 역할을 한다. (㉢) 각기 다른 색과 맛을 가진 과일들은 식단에 다양성을 더해준다. (㉣) 따라서 매일 과일을 섭취하는 것은 건강한 생활습관을 유지하는 데 중요한 요소라고 할 수 있다.']]\",\n",
       " 'selector': ['㉠', '㉡', '㉢', '㉣'],\n",
       " 'answer': '㉢',\n",
       " 'eval_answer': '㉢',\n",
       " 'eval_explain': '과일은 건강에 좋은 영양소가 풍부한 식품이다. 다양한 비타민과 미네랄이 포함되어 있어 면역력을 강화하는 데 도움을 준다. 특히, 과일 속의 식이섬유는 소화에 유익하고 장 건강을 촉진하는 역할을 한다. 또한, 과일은 수분 함량이 높아 체내 수분을 보충하는 데 효과적이다. 각기 다른 색과 맛을 가진 과일들은 식단에 다양성을 더해준다. 따라서 매일 과일을 섭취하는 것은 건강한 생활습관을 유지하는 데 중요한 요소라고 할 수 있다.',\n",
       " 'total_cost': 0.945}"
      ]
     },
     "metadata": {},
     "output_type": "display_data"
    }
   ],
   "source": [
    "from Problem_Type_Template.reading_2_problem_type_12 import generate_reading_2_problem_type_12\n",
    "\n",
    "result = generate_reading_2_problem_type_12(default_model=\"gpt-4o-mini\",verbose=False)\n",
    "\n",
    "display(result)"
   ]
  },
  {
   "cell_type": "code",
   "execution_count": 1,
   "metadata": {},
   "outputs": [
    {
     "data": {
      "text/plain": [
       "{'example': \"[['또한, 기초 문장은 외국어를 배우는 데에도 필수적이다.'], ['기초 문장은 의사소통의 가장 기본적인 단위로, 사람들의 생각이나 감정을 전달하는 데 중요한 역할을 한다. (㉠) 간단한 주어와 서술어로 구성되어 있어 누구나 쉽게 이해할 수 있다. (㉡) 이러한 기초 문장은 어린이들이 언어를 배우는 첫 단계에서도 중요한 요소로 작용한다. (㉢) 기초 문장을 통해 사람들은 점차 복잡한 문장 구조를 익히게 된다. (㉣) 이를 통해 언어의 기초를 다지고 더 나아가 다양한 표현을 시도할 수 있는 토대를 마련하게 된다.']]\",\n",
       " 'selector': ['㉠', '㉡', '㉢', '㉣'],\n",
       " 'answer': '㉣',\n",
       " 'eval_answer': '㉣',\n",
       " 'eval_explain': '기초 문장은 의사소통의 가장 기본적인 단위로, 사람들의 생각이나 감정을 전달하는 데 중요한 역할을 한다. 간단한 주어와 서술어로 구성되어 있어 누구나 쉽게 이해할 수 있다. 이러한 기초 문장은 어린이들이 언어를 배우는 첫 단계에서도 중요한 요소로 작용한다. 기초 문장을 통해 사람들은 점차 복잡한 문장 구조를 익히게 된다. 또한, 기초 문장은 외국어를 배우는 데에도 필수적이다. 이를 통해 언어의 기초를 다지고 더 나아가 다양한 표현을 시도할 수 있는 토대를 마련하게 된다.',\n",
       " 'total_cost': 0.9045000000000001}"
      ]
     },
     "metadata": {},
     "output_type": "display_data"
    }
   ],
   "source": [
    "from Problem_Type_Template.reading_2_problem_type_12 import generate_reading_2_problem_type_12\n",
    "\n",
    "result = generate_reading_2_problem_type_12(default_model=\"gpt-4o-mini\",verbose=False)\n",
    "\n",
    "display(result)"
   ]
  },
  {
   "cell_type": "markdown",
   "metadata": {},
   "source": [
    "### 42-43번 유형13 소설"
   ]
  },
  {
   "cell_type": "code",
   "execution_count": 4,
   "metadata": {},
   "outputs": [
    {
     "data": {
      "text/plain": [
       "{'example': '그날, 해가 반짝이는 여름 오후, 유진은 한적한 공원 벤치에 앉아 두 손으로 머리를 감싸고 있었다. 옆에는 그녀의 친구 민수, 그의 눈빛은 유진을 향해 불안한 걱정으로 가득 차 있었다. \"유진, 당신이 이렇게 힘들어 하는 걸 보니 내 마음이 아프다,\" 민수가 조심스럽게 말을 꺼냈다. 유진은 심호흡을 하며 대답했다. \"민수, 사람들이 생각하는 사상이라는 표현이 나를 이렇게 괴롭게 할 줄은 몰랐어.\"\\n\\n그녀는 지난날 자신이 쓱삭 그려놓은 불확실한 미래에 대한 무게를 느끼고 있었다. \"정말 내 능력이 이런 사상에 맞춰져 있는 것인지 의문이 드는걸,\" 그녀는 눈을 감고 자신을 돌아보았다. 민수는 그녀의 표정에서 깊은 고뇌를 읽고는 한 발 앞으로 나아갔다. \"무엇이 너를 그렇게 힘들게 하는지 함께 이야기해보자.\" 유진은 그의 진지한 표정에 마음이 따뜻해지는 것을 느꼈다.\\n\\n\"사람들은 나에게 자꾸 원할 것들을 강요해,\" 그녀의 말이 무겁게 떨어졌다. \"<ins>내가 원하는 삶은 다른데, 그들은 그걸 이해하지 못해.</ins>\" 민수는 \"가끔은 나 자신을 위해서 선택하는 것도 중요해,\"라고 조언했다. 유진은 잠시 말을 덜어내며 눈물을 흘렸다. \"정말 그러고 싶지만, 두려워.\" 결국, 두 친구는 이 고통스러운 대화를 통해 서로의 진심을 나누며 한층 더 가까워졌다.',\n",
       " 'questions': [{'question': '밑줄 친 부분에 나타난 ‘유진’의 심정으로 가장 알맞은 것을 고르십시오.',\n",
       "   'selector': ['기쁜', '고통스러운', '자신감 있는', '안정적인'],\n",
       "   'answer': '고통스러운',\n",
       "   'eval_answer': '고통스러운'},\n",
       "  {'question': '윗글의 내용으로 알 수 있는 것을 고르십시오.',\n",
       "   'selector': ['유진은 공원 벤치에 앉아 자신의 고민을 털어놓고 있었다.',\n",
       "    '민수는 유진에게 아무런 조언을 하지 않았다.',\n",
       "    '유진은 친구와의 대화가 필요하지 않다고 생각했다.',\n",
       "    '민수는 유진의 기분을 이해하지 못하고 있었다.'],\n",
       "   'answer': '유진은 공원 벤치에 앉아 자신의 고민을 털어놓고 있었다.',\n",
       "   'eval_answer': '유진은 공원 벤치에 앉아 자신의 고민을 털어놓고 있었다.'}],\n",
       " 'total_cost': 1.755}"
      ]
     },
     "metadata": {},
     "output_type": "display_data"
    }
   ],
   "source": [
    "from Problem_Type_Template.reading_2_problem_type_13 import generate_reading_2_problem_type_13\n",
    "\n",
    "result = generate_reading_2_problem_type_13(default_model=\"gpt-4o-mini\",verbose=False)\n",
    "\n",
    "display(result)"
   ]
  },
  {
   "cell_type": "code",
   "execution_count": 5,
   "metadata": {},
   "outputs": [
    {
     "data": {
      "text/plain": [
       "{'example': '봄바람이 살랑이는 어느 날, 재현은 자신이 소중히 다루는 키보드 앞에 앉아 있었다. 지민과 함께한 많은 시간들, 그들이 나눈 대화들이 그의 머릿속을 스쳐 지나갔다. \"너는 언제나 그렇게 키보드를 두드리는 걸 즐거워하니?\" 지민이 의아한 듯 물었다. \\n\\n재현은 자신이 느끼는 깊은 고독을 표현하며 답했다. \"<ins>내가 키보드를 두드릴 때마다, 마음속의 이야기가 세상에 나오는 것 같은 기분이야.</ins>\" 그는 지민을 바라보며 미소 지었다. 그동안 자신이 이 키보드를 두드릴 때 느끼는 즐거움과 슬픔은 항상 함께였다. \\n\\n지민의 눈에 연민이 반짝였다. \"그럼 이 키보드가 너의 유일한 친구라는 말이야?\" \"어쩌면 그럴 수도 있어,\" 재현은 답하면서도 불안한 마음을 숨기려 했다. 그때, 창밖에서 들리는 새소리가 두 사람의 대화를 잠시 멈추게 했다. \\n\\n\"그래도 나와 함께 있는 게 더 좋지 않을까?\" 지민이 재현의 이마를 가볍게 쳐주며 말했다. 두 사람의 마음이 서로 가깝게 느껴지며, 재현은 비로소 마음의 안정을 찾았다. \"맞아, 중요한 건 서로의 존재야,\" 그는 속으로 다짐했다. \\n\\n이렇게 그들은 키보드와 함께하는 시간 속에서도 서로를 잊지 않기로 했다. 그리고 앞으로 어떤 이야기가 펼쳐질지 기대하며 창밖을 바라보았다.',\n",
       " 'questions': [{'question': '밑줄 친 부분에 나타난 ‘재현’의 심정으로 가장 알맞은 것을 고르십시오.',\n",
       "   'selector': ['무관심한', '혼란스러운', '고독한', '행복한'],\n",
       "   'answer': '고독한',\n",
       "   'eval_answer': '고독한'},\n",
       "  {'question': '윗글의 내용으로 알 수 있는 것을 고르십시오.',\n",
       "   'selector': ['두 사람은 창밖의 경치를 보며 대화를 나누었다.',\n",
       "    '재현은 혼자서 키보드를 두드리며 외로움을 느꼈다.',\n",
       "    '지민은 재현에게 키보드의 소중함에 대해 이야기했다.',\n",
       "    '재현은 키보드 앞에 앉아 지민과의 소중한 기억을 떠올렸다.'],\n",
       "   'answer': '재현은 키보드 앞에 앉아 지민과의 소중한 기억을 떠올렸다.',\n",
       "   'eval_answer': '재현은 키보드 앞에 앉아 지민과의 소중한 기억을 떠올렸다.'}],\n",
       " 'total_cost': 1.7279999999999998}"
      ]
     },
     "metadata": {},
     "output_type": "display_data"
    }
   ],
   "source": [
    "from Problem_Type_Template.reading_2_problem_type_13 import generate_reading_2_problem_type_13\n",
    "\n",
    "result = generate_reading_2_problem_type_13(default_model=\"gpt-4o-mini\",verbose=False)\n",
    "\n",
    "display(result)"
   ]
  },
  {
   "cell_type": "markdown",
   "metadata": {},
   "source": [
    "### 44-45번 유형14 설명문"
   ]
  },
  {
   "cell_type": "code",
   "execution_count": 2,
   "metadata": {},
   "outputs": [
    {
     "data": {
      "text/plain": [
       "{'example': '음악은 인류의 역사와 함께 발전해온 중요한 문화 요소이다. 고대부터 현대에 이르기까지 다양한 장르와 스타일이 생겨나며 사람들의 감정을 표현하는 수단으로 자리 잡았다. 특히, 음악은 사회적, 정치적 메시지를 전달하는 강력한 도구로 사용되기도 했다. 예를 들어, 민속 음악은 특정 지역의 전통과 정체성을 반영하며, 현대의 팝 음악은 글로벌한 소통의 매개체가 되었다. 또한, 음악은 치료적인 효과를 가지고 있어 심리적 안정과 치유를 돕는 역할도 한다. 이처럼 음악은 단순한 오락을 넘어 인간의 삶에 깊은 (     ) 형태로 자리매김하고 있다.',\n",
       " 'questions': [{'question': '(  ) 에 들어갈 가장 알맞은 말을 고르십시오.',\n",
       "   'selector': ['사회적이고 정치적인 ', '예술적이고 창의적인 ', '감정적이고 심리적인 ', '문화적이고 치유적인'],\n",
       "   'answer': '문화적이고 치유적인',\n",
       "   'eval_answer': '문화적이고 치유적인',\n",
       "   'eval_explain': '문맥상 음악이 단순한 오락을 넘어 인간의 삶에 깊은 영향을 미치고, 심리적 안정과 치유를 돕는 역할을 한다는 내용이므로 \"문화적이고 치유적인\"이 가장 적합하다.'},\n",
       "  {'question': '윗 글의 주제로 가장 알맞은 것을 고르십시오.',\n",
       "   'selector': ['음악은 인간의 삶에 깊은 영향을 미치며 심리적 안정과 치유를 돕는 역할을 한다.',\n",
       "    '음악은 인류의 역사와 함께 발전하며 다양한 장르와 스타일을 형성했다.',\n",
       "    '민속 음악은 특정 지역의 전통을 반영하고 팝 음악은 글로벌 소통의 매개체가 된다.',\n",
       "    '음악은 단순한 오락을 넘어 사회적, 정치적 메시지를 전달하는 도구로 사용된다.'],\n",
       "   'answer': '음악은 인간의 삶에 깊은 영향을 미치며 심리적 안정과 치유를 돕는 역할을 한다.',\n",
       "   'eval_answer': '음악은 인간의 삶에 깊은 영향을 미치며 심리적 안정과 치유를 돕는 역할을 한다.',\n",
       "   'eval_explain': '주어진 글의 전체적인 내용을 요약하면 음악이 인간의 삶에 깊은 영향을 미치고 심리적 안정과 치유를 돕는다는 점이 핵심이므로, 4번 선택지가 가장 적합하다.'}],\n",
       " 'total_cost': 39.4065}"
      ]
     },
     "metadata": {},
     "output_type": "display_data"
    }
   ],
   "source": [
    "from Problem_Type_Template.reading_2_problem_type_14 import generate_reading_2_problem_type_14\n",
    "\n",
    "result = generate_reading_2_problem_type_14(default_model=\"gpt-4o-mini\",verbose=False)\n",
    "\n",
    "display(result)"
   ]
  },
  {
   "cell_type": "code",
   "execution_count": 1,
   "metadata": {},
   "outputs": [
    {
     "data": {
      "text/plain": [
       "{'example': '결단이란 어떤 상황에서 선택을 하고 결정을 내리는 과정을 의미한다. 이는 개인의 삶에서 중요한 순간에 발생하며, 때로는 큰 변화를 가져오기도 한다. (     ) 여러 가지 요소가 작용하는데, 정보의 수집, 감정의 분석, 그리고 미래에 대한 예측 등이 포함된다. 그러나 결단을 내리는 것은 항상 쉬운 일은 아니며, 두려움이나 불확실성으로 인해 망설이기도 한다. 그럼에도 불구하고, 결단은 개인의 성장과 발전에 필수적인 요소로 작용하며, 자신에게 맞는 길을 찾는 데 도움을 준다. 결국, 결단을 통해 우리는 새로운 기회를 발견하고, 더 나은 미래를 향해 나아갈 수 있는 힘을 얻게 된다.',\n",
       " 'questions': [{'question': '(   ) 에 들어갈 가장 알맞은 말을 고르십시오.',\n",
       "   'selector': ['결단을 내리는 사람은', '결단을 내리는 과정에는', '결단을 내리는 이유는', '결단을 내리는 순간에는'],\n",
       "   'answer': '결단을 내리는 과정에는',\n",
       "   'eval_answer': '결단을 내리는 과정에는',\n",
       "   'eval_explain': '빈칸 앞뒤 문장을 보면, 결단을 내리는 과정에서 여러 가지 요소가 작용한다고 설명하고 있다. 따라서 \"결단을 내리는 과정에는\"이 가장 적절하다.'},\n",
       "  {'question': '윗 글의 주제로 가장 알맞은 것을 고르십시오.',\n",
       "   'selector': ['결단을 내리는 과정에서는 정보의 수집과 감정의 분석이 필요 없다.',\n",
       "    '결단은 개인의 삶에서 중요한 순간에 발생하며 큰 변화를 가져올 수 있다.',\n",
       "    '결단을 내리는 것은 항상 쉬운 일이며, 두려움이나 불확실성은 없다.',\n",
       "    '결단은 개인의 성장과 발전에 방해가 되며, 새로운 기회를 막는다.'],\n",
       "   'answer': '결단은 개인의 삶에서 중요한 순간에 발생하며 큰 변화를 가져올 수 있다.',\n",
       "   'eval_answer': '결단은 개인의 삶에서 중요한 순간에 발생하며 큰 변화를 가져올 수 있다.',\n",
       "   'eval_explain': '주어진 글의 핵심 내용은 결단이 개인의 삶에서 중요한 순간에 발생하며, 큰 변화를 가져올 수 있다는 것이다. 나머지 선택지는 글의 내용과 맞지 않거나 반대되는 내용을 담고 있다.'}],\n",
       " 'total_cost': 37.611}"
      ]
     },
     "metadata": {},
     "output_type": "display_data"
    }
   ],
   "source": [
    "from Problem_Type_Template.reading_2_problem_type_14 import generate_reading_2_problem_type_14\n",
    "\n",
    "result = generate_reading_2_problem_type_14(default_model=\"gpt-4o-mini\",verbose=False)\n",
    "\n",
    "display(result)"
   ]
  },
  {
   "cell_type": "markdown",
   "metadata": {},
   "source": [
    "### 46-47번 유형15 정보문"
   ]
  },
  {
   "cell_type": "code",
   "execution_count": 2,
   "metadata": {},
   "outputs": [
    {
     "data": {
      "text/plain": [
       "{'example': '회사란 단순한 경제적 실체를 넘어, 사람들의 꿈과 열정이 모여 창조되는 공간이다. 직원들은 각자의 전문성과 열정을 발휘하여 서로 협력하며 더 큰 성과를 이루어낸다. 이러한 협력은 기업 문화의 핵심으로, 건강한 조직을 만드는 데 필수적이다. 그러나 많은 회사들이 변화하는 시대에 발맞춰 나가지 못하고, 고전적인 방식을 고수하면서 위기를 맞고 있다. 미래의 회사는 혁신적인 사고와 유연한 조직 구조를 통해 이러한 도전을 극복해야 한다. 결국, 성공적인 회사는 단순한 이윤 추구를 넘어서 사회적 책임을 다하고, 임직원 모두가 성장할 수 있는 환경을 제공할 때 비로소 지속 가능한 발전을 이룰 수 있다. 따라서 우리는 건강한 회사 문화를 지향하고, 모든 구성원이 함께 성장할 수 있는 시스템을 만들어 나가야 한다.',\n",
       " 'questions': [{'question': '윗글에 나타난 필자의 태도로 가장 알맞은 것을 고르십시오.',\n",
       "   'selector': ['회사는 단순한 이윤 추구를 넘어 건강한 조직 문화를 지향해야 한다.',\n",
       "    '직원들의 전문성과 열정보다 효율성을 우선시해야 한다.',\n",
       "    '회사는 이윤을 최우선으로 삼아야 한다.',\n",
       "    '변화하는 시대에 고전적인 방식을 고수하는 것이 중요하다.'],\n",
       "   'answer': '회사는 단순한 이윤 추구를 넘어 건강한 조직 문화를 지향해야 한다.',\n",
       "   'eval_answer': '회사는 단순한 이윤 추구를 넘어 건강한 조직 문화를 지향해야 한다.'},\n",
       "  {'question': '윗글의 내용과 같은 것을 고르십시오.',\n",
       "   'selector': ['미래의 회사는 고전적인 방식을 고수해야 한다.',\n",
       "    '성공적인 회사는 이윤 추구에만 집중해야 한다.',\n",
       "    '모든 회사가 변화하는 시대에 발맞춰 나가고 있다.',\n",
       "    '회사는 단순한 경제적 실체를 넘어 사람들의 꿈과 열정이 모여 창조되는 공간이다.'],\n",
       "   'answer': '회사는 단순한 경제적 실체를 넘어 사람들의 꿈과 열정이 모여 창조되는 공간이다.',\n",
       "   'eval_answer': '회사는 단순한 경제적 실체를 넘어 사람들의 꿈과 열정이 모여 창조되는 공간이다.'}],\n",
       " 'total_cost': 1.1744999999999999}"
      ]
     },
     "metadata": {},
     "output_type": "display_data"
    }
   ],
   "source": [
    "from Problem_Type_Template.reading_2_problem_type_15 import generate_reading_2_problem_type_15\n",
    "\n",
    "result = generate_reading_2_problem_type_15(default_model=\"gpt-4o-mini\",verbose=False)\n",
    "\n",
    "display(result)"
   ]
  },
  {
   "cell_type": "code",
   "execution_count": 1,
   "metadata": {},
   "outputs": [
    {
     "data": {
      "text/plain": [
       "{'example': '운동은 신체 건강을 유지하는 데 필수적인 요소이다. 규칙적인 운동은 체력 향상뿐만 아니라 정신적인 스트레스 해소에도 도움을 준다. 현대 사회에서 많은 사람들이 바쁜 일상으로 인해 운동을 소홀히 하고 있지만, 이는 건강에 여러 가지 부정적인 영향을 미칠 수 있다. 또한, 운동은 사회적 활동으로, 친구와 가족과의 유대감을 강화하는 기회가 된다. 다양한 운동 프로그램과 취미 스포츠가 존재하는 만큼, 개인의 취향에 맞는 운동을 찾는 것이 중요하다. 운동을 통해 건강을 유지하는 것은 나뿐만 아니라 주변 사람들에게도 긍정적인 영향을 미치는 일이다. 따라서 우리는 일상 속에서 운동을 습관화하여 보다 건강하고 행복한 삶을 추구해야 한다.',\n",
       " 'questions': [{'question': '윗글에 나타난 필자의 태도로 가장 알맞은 것을 고르십시오.',\n",
       "   'selector': ['운동보다 다른 활동이 더 중요하다고 주장하고 있다.',\n",
       "    '운동의 중요성을 강조하며, 일상에서 운동을 습관화할 필요성을 주장하고 있다.',\n",
       "    '운동을 통해 사회적 유대감을 강화하는 것에 무관심하다.',\n",
       "    '운동이 신체 건강에 미치는 긍정적인 영향을 과소평가하고 있다.'],\n",
       "   'answer': '운동의 중요성을 강조하며, 일상에서 운동을 습관화할 필요성을 주장하고 있다.',\n",
       "   'eval_answer': '운동의 중요성을 강조하며, 일상에서 운동을 습관화할 필요성을 주장하고 있다.'},\n",
       "  {'question': '윗글의 내용과 같은 것을 고르십시오.',\n",
       "   'selector': ['운동은 건강에 부정적인 영향을 미치는 요소이다.',\n",
       "    '규칙적인 운동은 친구와 가족과의 유대감을 약화시킨다.',\n",
       "    '운동은 신체 건강 유지와 정신적 스트레스 해소에 필수적이다.',\n",
       "    '운동을 하는 것은 개인의 취향과 무관하게 중요하지 않다.'],\n",
       "   'answer': '운동은 신체 건강 유지와 정신적 스트레스 해소에 필수적이다.',\n",
       "   'eval_answer': '운동은 신체 건강 유지와 정신적 스트레스 해소에 필수적이다.'}],\n",
       " 'total_cost': 1.08}"
      ]
     },
     "metadata": {},
     "output_type": "display_data"
    }
   ],
   "source": [
    "from Problem_Type_Template.reading_2_problem_type_15 import generate_reading_2_problem_type_15\n",
    "\n",
    "result = generate_reading_2_problem_type_15(default_model=\"gpt-4o-mini\",verbose=False)\n",
    "\n",
    "display(result)"
   ]
  },
  {
   "cell_type": "markdown",
   "metadata": {},
   "source": [
    "### 48-50번 유형16 논설문"
   ]
  },
  {
   "cell_type": "code",
   "execution_count": 3,
   "metadata": {},
   "outputs": [
    {
     "data": {
      "text/plain": [
       "{'example': '휴식은 우리 삶에서 필수적인 요소이며, 이를 간과하는 현대 사회의 경향은 여러 문제를 초래할 수 있다. 많은 사람들이 성공과 생산성을 추구하는 과정에서 휴식을 소홀히 하며, 이는 정신적, 신체적 건강에 악영향을 미친다. 연구에 따르면 충분한 휴식을 취하지 않으면 스트레스가 증가하고 면역력도 저하된다는 결과가 있다. 또한, 휴식은 창의성을 높이고 능률을 향상시키는 데 기여하는 중요한 역할을 한다. 따라서 적절한 휴식은 단순한 나태함이 아니라, 오히려 효율성을 높이기 위한 전략으로 여겨져야 한다. 기업과 조직은 직원들이 충분한 휴식을 취할 수 있도록 유연 근무제와 휴가 제도를 도입해야 한다. 또한, 개인적으로도 정기적으로 휴식을 계획하고, 이를 실행하는 것이 중요하다. 특히, 자연 속에서의 휴식이나 명상은 정신적인 회복에 많은 도움이 된다. 이러한 휴식 문화가 자리 잡을 때 우리는 더 건강하고 생산적인 삶을 영위할 수 있을 것이다. 결국, 휴식은 삶의 (  ) 요소이며, 이를 소중히 여기는 것이 우리 모두에게 필요하다.',\n",
       " 'questions': [{'question': '윗 글을 쓴 목적으로 가장 알맞은 것을 고르십시오.',\n",
       "   'selector': ['현대 사회의 생산성 문제를 해결하려고  ',\n",
       "    '휴식이 건강에 미치는 영향을 강조하려고  ',\n",
       "    '휴식의 필요성을 무시하려고  ',\n",
       "    '성공을 위한 경쟁을 부추기려고  '],\n",
       "   'answer': '휴식이 건강에 미치는 영향을 강조하려고  ',\n",
       "   'eval_answer': '휴식이 건강에 미치는 영향을 강조하려고  ',\n",
       "   'eval_explain': [\"이 논설문은 휴식의 중요성과 그것이 정신적, 신체적 건강에 미치는 긍정적인 영향을 강조하고 있다. 따라서 '휴식이 건강에 미치는 영향을 강조하려고'라는 선택지가 가장 적합하다.\"]},\n",
       "  {'question': '(  ) 에 들어갈 가장 알맞은 말을 고르십시오.',\n",
       "   'selector': ['필수적인  ', '일시적인  ', '부차적인  ', '선택적인  '],\n",
       "   'answer': '필수적인  ',\n",
       "   'eval_answer': '필수적인  ',\n",
       "   'eval_explain': [\"글의 내용에서 휴식이 우리 삶에서 필수적인 요소라고 강조하고 있으며, 이를 소홀히 할 경우 여러 문제를 초래할 수 있다고 설명하고 있다. 따라서 빈칸에 들어갈 알맞은 말은 '필수적인'이다.\"]},\n",
       "  {'question': '윗 글의 내용과 같은 것을 고르십시오.',\n",
       "   'selector': ['충분한 휴식을 취하지 않으면 스트레스가 증가하고 면역력이 저하될 수 있다.',\n",
       "    '휴식은 단순히 나태함을 의미하며, 성공을 위해서는 항상 일에 집중해야 한다.',\n",
       "    '현대 사회에서는 모든 사람들이 휴식을 충분히 취하고 있으며, 이에 대한 문제는 없다.',\n",
       "    '자연 속에서의 휴식은 오히려 생산성을 저하시킬 수 있다.'],\n",
       "   'answer': '충분한 휴식을 취하지 않으면 스트레스가 증가하고 면역력이 저하될 수 있다.  ',\n",
       "   'eval_answer': '충분한 휴식을 취하지 않으면 스트레스가 증가하고 면역력이 저하될 수 있다.  ',\n",
       "   'eval_explain': ['논설문에서는 충분한 휴식을 취하지 않을 경우 스트레스가 증가하고 면역력이 저하된다는 연구 결과를 언급하고 있으며, 이는 선택지 2와 일치한다. 다른 선택지들은 논설문의 주제와 반대되는 내용을 담고 있다.']}],\n",
       " 'total_cost': 5.2515}"
      ]
     },
     "metadata": {},
     "output_type": "display_data"
    }
   ],
   "source": [
    "from Problem_Type_Template.reading_2_problem_type_16 import generate_reading_2_problem_type_16\n",
    "\n",
    "result = generate_reading_2_problem_type_16(default_model=\"gpt-4o-mini\",verbose=False)\n",
    "\n",
    "display(result)"
   ]
  },
  {
   "cell_type": "code",
   "execution_count": 1,
   "metadata": {},
   "outputs": [
    {
     "name": "stdout",
     "output_type": "stream",
     "text": [
      "필름\n",
      "gpt-4o-mini | \n",
      "영화\n",
      "\n",
      "OpenAI Tokens Used: 48\n",
      "    Prompt Tokens: 46\n",
      "    Completion Tokens: 2\n",
      "Successful Requests: 1\n",
      "Total Cost (USD): $4e-05\n",
      "Total Cost (KRW): ₩0.054\n",
      "--------------------------------------------------------------------------------------------------\n",
      "gpt-4o-mini | \n",
      "재활\n",
      "\n",
      "OpenAI Tokens Used: 377\n",
      "    Prompt Tokens: 375\n",
      "    Completion Tokens: 2\n",
      "Successful Requests: 1\n",
      "Total Cost (USD): $0.00028\n",
      "Total Cost (KRW): ₩0.378\n",
      "--------------------------------------------------------------------------------------------------\n",
      "example_dict\n",
      "[{'주제어': '재활', '문장': '죄수는 범죄를 저질러 법의 심판을 받은 사람으로, 사회에서 종종 부정적인 시선으로 바라보인다. 그러나 죄수를 단순히 범죄자로 한정짓는 것은 그들의 인생과 사회적 맥락을 무시하는 것이다. 많은 죄수들은 환경적 요인이나 심리적 문제로 인해 범죄를 저질렀으며, 이들을 재활하고 사회에 복귀시키는 것이 중요하다. 그럼에도 불구하고 많은 나라에서 죄수에 대한 처우는 여전히 열악하고, 이로 인해 재범률이 높아지는 (  ). 특히, 감옥에서의 교육과 직업 훈련 프로그램이 부족해 이들이 사회에 적응할 수 있는 기회를 잃고 있다. 최근에는 교도소 내에서의 심리 상담과 재활 프로그램이 시행되고 있으나, 여전히 많은 예산이 부족한 실정이다. 따라서 정부와 사회가 협력하여 죄수를 위한 보다 나은 재활 시스템을 구축해야 한다. 또한, 일반 대중의 인식 개선이 필요하다. 죄수도 인간이며, 그들이 사회에 돌아올 수 있도록 도와주는 것은 결국 우리 모두의 안전과 복지를 위해 필수적이다. 앞으로는 범죄를 예방하는 것뿐만 아니라, 죄수의 재활과 사회 복귀를 위한 보다 포괄적인 접근이 필요하다. 이러한 변화가 이루어질 때, 죄수들도 건강한 사회 구성원으로 다시 한 번 기회를 가질 수 있을 것이다.', '선택지': ['죄수의 범죄 원인을 분석하려고', '교도소의 시설 개선을 주장하려고', '범죄 예방을 위한 법률을 제정하려고', '죄수의 재활과 사회 복귀의 중요성을 강조하려고'], '정답': '죄수의 재활과 사회 복귀의 중요성을 강조하려고'}, {'주제어': '재활', '문장': '죄수는 범죄를 저질러 법의 심판을 받은 사람으로, 사회에서 종종 부정적인 시선으로 바라보인다. 그러나 죄수를 단순히 범죄자로 한정짓는 것은 그들의 인생과 사회적 맥락을 무시하는 것이다. 많은 죄수들은 환경적 요인이나 심리적 문제로 인해 범죄를 저질렀으며, 이들을 재활하고 사회에 복귀시키는 것이 중요하다. 그럼에도 불구하고 많은 나라에서 죄수에 대한 처우는 여전히 열악하고, 이로 인해 재범률이 높아지는 (  ). 특히, 감옥에서의 교육과 직업 훈련 프로그램이 부족해 이들이 사회에 적응할 수 있는 기회를 잃고 있다. 최근에는 교도소 내에서의 심리 상담과 재활 프로그램이 시행되고 있으나, 여전히 많은 예산이 부족한 실정이다. 따라서 정부와 사회가 협력하여 죄수를 위한 보다 나은 재활 시스템을 구축해야 한다. 또한, 일반 대중의 인식 개선이 필요하다. 죄수도 인간이며, 그들이 사회에 돌아올 수 있도록 도와주는 것은 결국 우리 모두의 안전과 복지를 위해 필수적이다. 앞으로는 범죄를 예방하는 것뿐만 아니라, 죄수의 재활과 사회 복귀를 위한 보다 포괄적인 접근이 필요하다. 이러한 변화가 이루어질 때, 죄수들도 건강한 사회 구성원으로 다시 한 번 기회를 가질 수 있을 것이다.', '선택지': ['사회적 비용이 증가하고 있다', '범죄자에 대한 처벌이 강화되고 있다', '범죄 예방 프로그램이 활성화되고 있다', '범죄가 줄어들고 있다'], '정답': '사회적 비용이 증가하고 있다'}, {'주제어': '재활', '문장': '죄수는 범죄를 저질러 법의 심판을 받은 사람으로, 사회에서 종종 부정적인 시선으로 바라보인다. 그러나 죄수를 단순히 범죄자로 한정짓는 것은 그들의 인생과 사회적 맥락을 무시하는 것이다. 많은 죄수들은 환경적 요인이나 심리적 문제로 인해 범죄를 저질렀으며, 이들을 재활하고 사회에 복귀시키는 것이 중요하다. 그럼에도 불구하고 많은 나라에서 죄수에 대한 처우는 여전히 열악하고, 이로 인해 재범률이 높아지는 (  ). 특히, 감옥에서의 교육과 직업 훈련 프로그램이 부족해 이들이 사회에 적응할 수 있는 기회를 잃고 있다. 최근에는 교도소 내에서의 심리 상담과 재활 프로그램이 시행되고 있으나, 여전히 많은 예산이 부족한 실정이다. 따라서 정부와 사회가 협력하여 죄수를 위한 보다 나은 재활 시스템을 구축해야 한다. 또한, 일반 대중의 인식 개선이 필요하다. 죄수도 인간이며, 그들이 사회에 돌아올 수 있도록 도와주는 것은 결국 우리 모두의 안전과 복지를 위해 필수적이다. 앞으로는 범죄를 예방하는 것뿐만 아니라, 죄수의 재활과 사회 복귀를 위한 보다 포괄적인 접근이 필요하다. 이러한 변화가 이루어질 때, 죄수들도 건강한 사회 구성원으로 다시 한 번 기회를 가질 수 있을 것이다.', '선택지': ['많은 죄수들은 환경적 요인이나 심리적 문제로 인해 범죄를 저질렀다.', '죄수는 범죄를 저질러 법의 심판을 받은 사람이다.', '죄수에 대한 처우는 대부분의 나라에서 매우 우수하다.', '정부와 사회가 협력하여 죄수를 위한 재활 시스템을 구축해야 한다.'], '정답': '죄수에 대한 처우는 대부분의 나라에서 매우 우수하다.'}]\n",
      "example_str\n",
      "주제: 재활 논설문: 죄수는 범죄를 저질러 법의 심판을 받은 사람으로, 사회에서 종종 부정적인 시선으로 바라보인다. 그러나 죄수를 단순히 범죄자로 한정짓는 것은 그들의 인생과 사회적 맥락을 무시하는 것이다. 많은 죄수들은 환경적 요인이나 심리적 문제로 인해 범죄를 저질렀으며, 이들을 재활하고 사회에 복귀시키는 것이 중요하다. 그럼에도 불구하고 많은 나라에서 죄수에 대한 처우는 여전히 열악하고, 이로 인해 재범률이 높아지는 죄수의 재활과 사회 복귀의 중요성을 강조하려고. 특히, 감옥에서의 교육과 직업 훈련 프로그램이 부족해 이들이 사회에 적응할 수 있는 기회를 잃고 있다. 최근에는 교도소 내에서의 심리 상담과 재활 프로그램이 시행되고 있으나, 여전히 많은 예산이 부족한 실정이다. 따라서 정부와 사회가 협력하여 죄수를 위한 보다 나은 재활 시스템을 구축해야 한다. 또한, 일반 대중의 인식 개선이 필요하다. 죄수도 인간이며, 그들이 사회에 돌아올 수 있도록 도와주는 것은 결국 우리 모두의 안전과 복지를 위해 필수적이다. 앞으로는 범죄를 예방하는 것뿐만 아니라, 죄수의 재활과 사회 복귀를 위한 보다 포괄적인 접근이 필요하다. 이러한 변화가 이루어질 때, 죄수들도 건강한 사회 구성원으로 다시 한 번 기회를 가질 수 있을 것이다. \n",
      "gpt-4o-mini | \n",
      "영화는 현대 사회에서 중요한 문화적 요소로 자리 잡고 있다. 사람들은 영화를 통해 다양한 감정을 경험하고, 현실을 초월한 상상의 세계로 나아갈 수 있다. 또한, 영화는 사회적 이슈를 조명하고, 사람들에게 중요한 메시지를 전달하는 매체로서의 역할을 한다. 예를 들어, 많은 영화가 인권, 환경, 전쟁 등의 주제를 다루며, 관객들에게 깊은 생각을 하게 만든다. 그러나 현재 영화 산업은 상업성과 블록버스터 중심으로 기울어져 있는 경향이 있다. 이로 인해 독립영화나 예술영화와 같은 다양한 장르의 작품들이 무시받고 있으며, 이는 영화의 다양성과 창의성을 저해하는 요인이 된다. 따라서 영화 산업은 상업적 성공을 넘어, 예술적 가치를 중시하고 다양한 목소리를 담아내는 방향으로 나아가야 한다. 또한, 관객들도 다양한 장르의 영화에 관심을 갖고, 새로운 작품을 접하는 노력이 필요하다. 영화는 단순한 오락을 넘어, 우리의 사고와 감정을 변화시키는 힘을 지니고 있다. 앞으로 영화가 진정한 문화적 교류의 장으로 기능할 수 있도록, 산업과 관객 모두의 노력이 필요하다. 이러한 변화가 이루어질 때, 영화는 더욱 풍부하고 의미 있는 경험을 제공할 수 있을 것이다.\n",
      "\n",
      "OpenAI Tokens Used: 719\n",
      "    Prompt Tokens: 411\n",
      "    Completion Tokens: 308\n",
      "Successful Requests: 1\n",
      "Total Cost (USD): $0.00054\n",
      "Total Cost (KRW): ₩0.729\n",
      "--------------------------------------------------------------------------------------------------\n",
      "example_str_0\n",
      "논설문: 죄수는 범죄를 저질러 법의 심판을 받은 사람으로, 사회에서 종종 부정적인 시선으로 바라보인다. 그러나 죄수를 단순히 범죄자로 한정짓는 것은 그들의 인생과 사회적 맥락을 무시하는 것이다. 많은 죄수들은 환경적 요인이나 심리적 문제로 인해 범죄를 저질렀으며, 이들을 재활하고 사회에 복귀시키는 것이 중요하다. 그럼에도 불구하고 많은 나라에서 죄수에 대한 처우는 여전히 열악하고, 이로 인해 재범률이 높아지는 죄수의 재활과 사회 복귀의 중요성을 강조하려고. 특히, 감옥에서의 교육과 직업 훈련 프로그램이 부족해 이들이 사회에 적응할 수 있는 기회를 잃고 있다. 최근에는 교도소 내에서의 심리 상담과 재활 프로그램이 시행되고 있으나, 여전히 많은 예산이 부족한 실정이다. 따라서 정부와 사회가 협력하여 죄수를 위한 보다 나은 재활 시스템을 구축해야 한다. 또한, 일반 대중의 인식 개선이 필요하다. 죄수도 인간이며, 그들이 사회에 돌아올 수 있도록 도와주는 것은 결국 우리 모두의 안전과 복지를 위해 필수적이다. 앞으로는 범죄를 예방하는 것뿐만 아니라, 죄수의 재활과 사회 복귀를 위한 보다 포괄적인 접근이 필요하다. 이러한 변화가 이루어질 때, 죄수들도 건강한 사회 구성원으로 다시 한 번 기회를 가질 수 있을 것이다. \n",
      " 논설문을 쓴 목적으로 올바른 것은? 선택지: \n",
      "1. 죄수의 범죄 원인을 분석하려고 \n",
      "2. 교도소의 시설 개선을 주장하려고 \n",
      "3. 범죄 예방을 위한 법률을 제정하려고 \n",
      "4. 죄수의 재활과 사회 복귀의 중요성을 강조하려고 \n",
      "\n",
      "gpt-4o-mini | \n",
      "논설문을 쓴 목적으로 올바른 것은? 선택지:  \n",
      "1. 영화의 상업적 성공을 강조하려고  \n",
      "2. 영화 산업의 다양성과 창의성 저해 문제를 지적하려고  \n",
      "3. 관객의 오락 욕구를 충족시키려는 목적이 있다  \n",
      "4. 영화가 사회적 이슈를 조명하는 역할을 강조하려고  \n",
      "\n",
      "OpenAI Tokens Used: 928\n",
      "    Prompt Tokens: 842\n",
      "    Completion Tokens: 86\n",
      "Successful Requests: 1\n",
      "Total Cost (USD): $0.0007\n",
      "Total Cost (KRW): ₩0.945\n",
      "--------------------------------------------------------------------------------------------------\n",
      "[('gpt-4o-mini', '논설문을 쓴 목적으로 올바른 것은? 선택지:  \\n1. 영화의 상업적 성공을 강조하려고  \\n2. 영화 산업의 다양성과 창의성 저해 문제를 지적하려고  \\n3. 관객의 오락 욕구를 충족시키려는 목적이 있다  \\n4. 영화가 사회적 이슈를 조명하는 역할을 강조하려고  ', 'OpenAI Tokens Used: 928\\n    Prompt Tokens: 842\\n    Completion Tokens: 86\\nSuccessful Requests: 1\\nTotal Cost (USD): $0.0007\\nTotal Cost (KRW): ₩0.945')]\n",
      "gpt-4o-mini | \n",
      "answer: 2. 영화 산업의 다양성과 창의성 저해 문제를 지적하려고  \n",
      "explain: 이 논설문은 영화 산업이 상업성에 치우쳐져 독립영화나 예술영화와 같은 다양한 장르의 작품들이 무시받고 있다는 점을 지적하고 있으며, 영화의 다양성과 창의성을 저해하는 문제를 강조하고 있다. 따라서 2번 선택지가 올바른 답이다.\n",
      "\n",
      "OpenAI Tokens Used: 558\n",
      "    Prompt Tokens: 460\n",
      "    Completion Tokens: 98\n",
      "Successful Requests: 1\n",
      "Total Cost (USD): $0.00042\n",
      "Total Cost (KRW): ₩0.567\n",
      "--------------------------------------------------------------------------------------------------\n",
      "example_str_1\n",
      "논설문: 죄수는 범죄를 저질러 법의 심판을 받은 사람으로, 사회에서 종종 부정적인 시선으로 바라보인다. 그러나 죄수를 단순히 범죄자로 한정짓는 것은 그들의 인생과 사회적 맥락을 무시하는 것이다. 많은 죄수들은 환경적 요인이나 심리적 문제로 인해 범죄를 저질렀으며, 이들을 재활하고 사회에 복귀시키는 것이 중요하다. 그럼에도 불구하고 많은 나라에서 죄수에 대한 처우는 여전히 열악하고, 이로 인해 재범률이 높아지는 (  ). 특히, 감옥에서의 교육과 직업 훈련 프로그램이 부족해 이들이 사회에 적응할 수 있는 기회를 잃고 있다. 최근에는 교도소 내에서의 심리 상담과 재활 프로그램이 시행되고 있으나, 여전히 많은 예산이 부족한 실정이다. 따라서 정부와 사회가 협력하여 죄수를 위한 보다 나은 재활 시스템을 구축해야 한다. 또한, 일반 대중의 인식 개선이 필요하다. 죄수도 인간이며, 그들이 사회에 돌아올 수 있도록 도와주는 것은 결국 우리 모두의 안전과 복지를 위해 필수적이다. 앞으로는 범죄를 예방하는 것뿐만 아니라, 죄수의 재활과 사회 복귀를 위한 보다 포괄적인 접근이 필요하다. 이러한 변화가 이루어질 때, 죄수들도 건강한 사회 구성원으로 다시 한 번 기회를 가질 수 있을 것이다.\n",
      "\n",
      " 빈칸에 들어갈 알맞은 말로 알맞은 것은? 선택지: \n",
      "1. 사회적 비용이 증가하고 있다 \n",
      "2. 범죄자에 대한 처벌이 강화되고 있다 \n",
      "3. 범죄 예방 프로그램이 활성화되고 있다 \n",
      "4. 범죄가 줄어들고 있다 \n",
      "\n",
      "영화는 현대 사회에서 중요한 문화적 요소로 자리 잡고 있다. 사람들은 영화를 통해 다양한 감정을 경험하고, 현실을 초월한 상상의 세계로 나아갈 수 있다. 또한, 영화는 사회적 이슈를 조명하고, 사람들에게 중요한 메시지를 전달하는 매체로서의 역할을 한다. 예를 들어, 많은 영화가 인권, 환경, 전쟁 등의 주제를 다루며, 관객들에게 깊은 생각을 하게 만든다. 그러나 현재 영화 산업은 상업성과 블록버스터 중심으로 기울어져 있는 경향이 있다. 이로 인해 독립영화나 예술영화와 같은 다양한 장르의 (  ) 이는 영화의 다양성과 창의성을 저해하는 요인이 된다. 따라서 영화 산업은 상업적 성공을 넘어, 예술적 가치를 중시하고 다양한 목소리를 담아내는 방향으로 나아가야 한다. 또한, 관객들도 다양한 장르의 영화에 관심을 갖고, 새로운 작품을 접하는 노력이 필요하다. 영화는 단순한 오락을 넘어, 우리의 사고와 감정을 변화시키는 힘을 지니고 있다. 앞으로 영화가 진정한 문화적 교류의 장으로 기능할 수 있도록, 산업과 관객 모두의 노력이 필요하다. 이러한 변화가 이루어질 때, 영화는 더욱 풍부하고 의미 있는 경험을 제공할 수 있을 것이다.\n",
      "gpt-4o-mini | \n",
      "빈칸에 들어갈 알맞은 말로 알맞은 것은? 선택지:  \n",
      "1. 제작비가 증가하고 있는 추세이다  \n",
      "2. 창작의 자유가 제한받고 있다  \n",
      "3. 관객의 취향이 다양해지고 있다  \n",
      "4. 영화의 상업적 가치가 하락하고 있다  \n",
      "\n",
      "OpenAI Tokens Used: 895\n",
      "    Prompt Tokens: 824\n",
      "    Completion Tokens: 71\n",
      "Successful Requests: 1\n",
      "Total Cost (USD): $0.00067\n",
      "Total Cost (KRW): ₩0.9045\n",
      "--------------------------------------------------------------------------------------------------\n",
      "[('gpt-4o-mini', '빈칸에 들어갈 알맞은 말로 알맞은 것은? 선택지:  \\n1. 제작비가 증가하고 있는 추세이다  \\n2. 창작의 자유가 제한받고 있다  \\n3. 관객의 취향이 다양해지고 있다  \\n4. 영화의 상업적 가치가 하락하고 있다  ', 'OpenAI Tokens Used: 895\\n    Prompt Tokens: 824\\n    Completion Tokens: 71\\nSuccessful Requests: 1\\nTotal Cost (USD): $0.00067\\nTotal Cost (KRW): ₩0.9045')]\n",
      "gpt-4o-mini | \n",
      "answer: 2. 창작의 자유가 제한받고 있다  \n",
      "explain: 글에서는 영화 산업이 상업성과 블록버스터 중심으로 기울어져 있다는 점을 언급하며, 이로 인해 독립영화나 예술영화와 같은 다양한 장르의 ( )가 저해된다고 설명하고 있다. 이는 창작의 자유가 제한받고 있다는 의미로 해석할 수 있다.\n",
      "\n",
      "OpenAI Tokens Used: 530\n",
      "    Prompt Tokens: 440\n",
      "    Completion Tokens: 90\n",
      "Successful Requests: 1\n",
      "Total Cost (USD): $0.0004\n",
      "Total Cost (KRW): ₩0.54\n",
      "--------------------------------------------------------------------------------------------------\n",
      "example_str_2\n",
      "논설문: 죄수는 범죄를 저질러 법의 심판을 받은 사람으로, 사회에서 종종 부정적인 시선으로 바라보인다. 그러나 죄수를 단순히 범죄자로 한정짓는 것은 그들의 인생과 사회적 맥락을 무시하는 것이다. 많은 죄수들은 환경적 요인이나 심리적 문제로 인해 범죄를 저질렀으며, 이들을 재활하고 사회에 복귀시키는 것이 중요하다. 그럼에도 불구하고 많은 나라에서 죄수에 대한 처우는 여전히 열악하고, 이로 인해 재범률이 높아지는 죄수의 재활과 사회 복귀의 중요성을 강조하려고. 특히, 감옥에서의 교육과 직업 훈련 프로그램이 부족해 이들이 사회에 적응할 수 있는 기회를 잃고 있다. 최근에는 교도소 내에서의 심리 상담과 재활 프로그램이 시행되고 있으나, 여전히 많은 예산이 부족한 실정이다. 따라서 정부와 사회가 협력하여 죄수를 위한 보다 나은 재활 시스템을 구축해야 한다. 또한, 일반 대중의 인식 개선이 필요하다. 죄수도 인간이며, 그들이 사회에 돌아올 수 있도록 도와주는 것은 결국 우리 모두의 안전과 복지를 위해 필수적이다. 앞으로는 범죄를 예방하는 것뿐만 아니라, 죄수의 재활과 사회 복귀를 위한 보다 포괄적인 접근이 필요하다. 이러한 변화가 이루어질 때, 죄수들도 건강한 사회 구성원으로 다시 한 번 기회를 가질 수 있을 것이다. \n",
      " 논설문을 올바르게 서술한 것은? 선택지: \n",
      "1. 많은 죄수들은 환경적 요인이나 심리적 문제로 인해 범죄를 저질렀다. \n",
      "2. 죄수는 범죄를 저질러 법의 심판을 받은 사람이다. \n",
      "3. 죄수에 대한 처우는 대부분의 나라에서 매우 우수하다. \n",
      "4. 정부와 사회가 협력하여 죄수를 위한 재활 시스템을 구축해야 한다. \n",
      "\n",
      "gpt-4o-mini | \n",
      "주제: 영화의 역할과 중요성\n",
      "\n",
      "1. 영화는 단순한 오락을 제공하는 매체로, 관객의 감정이나 사고에 영향을 미치지 않는다.\n",
      "2. 영화는 사회적 이슈를 조명하고, 사람들에게 중요한 메시지를 전달하는 매체로서의 역할을 한다.\n",
      "3. 현재 영화 산업은 독립영화와 예술영화의 발전을 위해 상업성을 우선시하고 있다.\n",
      "4. 영화는 현대 사회에서 중요한 문화적 요소로 자리 잡고 있으며, 다양한 장르의 작품들이 무시받고 있다.\n",
      "\n",
      "OpenAI Tokens Used: 916\n",
      "    Prompt Tokens: 790\n",
      "    Completion Tokens: 126\n",
      "Successful Requests: 1\n",
      "Total Cost (USD): $0.00069\n",
      "Total Cost (KRW): ₩0.9315\n",
      "--------------------------------------------------------------------------------------------------\n",
      "[('gpt-4o-mini', '주제: 영화의 역할과 중요성\\n\\n1. 영화는 단순한 오락을 제공하는 매체로, 관객의 감정이나 사고에 영향을 미치지 않는다.\\n2. 영화는 사회적 이슈를 조명하고, 사람들에게 중요한 메시지를 전달하는 매체로서의 역할을 한다.\\n3. 현재 영화 산업은 독립영화와 예술영화의 발전을 위해 상업성을 우선시하고 있다.\\n4. 영화는 현대 사회에서 중요한 문화적 요소로 자리 잡고 있으며, 다양한 장르의 작품들이 무시받고 있다.', 'OpenAI Tokens Used: 916\\n    Prompt Tokens: 790\\n    Completion Tokens: 126\\nSuccessful Requests: 1\\nTotal Cost (USD): $0.00069\\nTotal Cost (KRW): ₩0.9315')]\n",
      "gpt-4o-mini | \n",
      "answer: 2. 영화는 사회적 이슈를 조명하고, 사람들에게 중요한 메시지를 전달하는 매체로서의 역할을 한다.  \n",
      "explain: 이 선택지는 영화의 역할과 중요성을 잘 설명하고 있으며, 영화가 단순한 오락을 넘어 사회적 이슈를 다루고 메시지를 전달하는 매체로 기능한다는 내용을 반영하고 있다. 다른 선택지들은 영화의 역할을 잘못 이해하거나 현재 영화 산업의 문제를 왜곡하고 있다.\n",
      "\n",
      "OpenAI Tokens Used: 606\n",
      "    Prompt Tokens: 500\n",
      "    Completion Tokens: 106\n",
      "Successful Requests: 1\n",
      "Total Cost (USD): $0.00045\n",
      "Total Cost (KRW): ₩0.6075\n",
      "--------------------------------------------------------------------------------------------------\n"
     ]
    },
    {
     "data": {
      "text/plain": [
       "{'example': '영화는 현대 사회에서 중요한 문화적 요소로 자리 잡고 있다. 사람들은 영화를 통해 다양한 감정을 경험하고, 현실을 초월한 상상의 세계로 나아갈 수 있다. 또한, 영화는 사회적 이슈를 조명하고, 사람들에게 중요한 메시지를 전달하는 매체로서의 역할을 한다. 예를 들어, 많은 영화가 인권, 환경, 전쟁 등의 주제를 다루며, 관객들에게 깊은 생각을 하게 만든다. 그러나 현재 영화 산업은 상업성과 블록버스터 중심으로 기울어져 있는 경향이 있다. 이로 인해 독립영화나 예술영화와 같은 다양한 장르의 (  ) 이는 영화의 다양성과 창의성을 저해하는 요인이 된다. 따라서 영화 산업은 상업적 성공을 넘어, 예술적 가치를 중시하고 다양한 목소리를 담아내는 방향으로 나아가야 한다. 또한, 관객들도 다양한 장르의 영화에 관심을 갖고, 새로운 작품을 접하는 노력이 필요하다. 영화는 단순한 오락을 넘어, 우리의 사고와 감정을 변화시키는 힘을 지니고 있다. 앞으로 영화가 진정한 문화적 교류의 장으로 기능할 수 있도록, 산업과 관객 모두의 노력이 필요하다. 이러한 변화가 이루어질 때, 영화는 더욱 풍부하고 의미 있는 경험을 제공할 수 있을 것이다.',\n",
       " 'questions': [{'question': '윗 글을 쓴 목적으로 가장 알맞은 것을 고르십시오.',\n",
       "   'selector': ['영화의 상업적 성공을 강조하려고  ',\n",
       "    '영화 산업의 다양성과 창의성 저해 문제를 지적하려고  ',\n",
       "    '관객의 오락 욕구를 충족시키려는 목적이 있다  ',\n",
       "    '영화가 사회적 이슈를 조명하는 역할을 강조하려고  '],\n",
       "   'answer': '영화 산업의 다양성과 창의성 저해 문제를 지적하려고  ',\n",
       "   'eval_answer': '영화 산업의 다양성과 창의성 저해 문제를 지적하려고  ',\n",
       "   'eval_explain': ['이 논설문은 영화 산업이 상업성에 치우쳐져 독립영화나 예술영화와 같은 다양한 장르의 작품들이 무시받고 있다는 점을 지적하고 있으며, 영화의 다양성과 창의성을 저해하는 문제를 강조하고 있다. 따라서 2번 선택지가 올바른 답이다.']},\n",
       "  {'question': '(  ) 에 들어갈 가장 알맞은 말을 고르십시오.',\n",
       "   'selector': ['제작비가 증가하고 있는 추세이다  ',\n",
       "    '영화의 상업적 가치가 하락하고 있다  ',\n",
       "    '창작의 자유가 제한받고 있다  ',\n",
       "    '관객의 취향이 다양해지고 있다  '],\n",
       "   'answer': '창작의 자유가 제한받고 있다  ',\n",
       "   'eval_answer': '창작의 자유가 제한받고 있다  ',\n",
       "   'eval_explain': ['글에서는 영화 산업이 상업성과 블록버스터 중심으로 기울어져 있다는 점을 언급하며, 이로 인해 독립영화나 예술영화와 같은 다양한 장르의 ( )가 저해된다고 설명하고 있다. 이는 창작의 자유가 제한받고 있다는 의미로 해석할 수 있다.']},\n",
       "  {'question': '윗 글의 내용과 같은 것을 고르십시오.',\n",
       "   'selector': ['현재 영화 산업은 독립영화와 예술영화의 발전을 위해 상업성을 우선시하고 있다.',\n",
       "    '영화는 단순한 오락을 제공하는 매체로, 관객의 감정이나 사고에 영향을 미치지 않는다.',\n",
       "    '영화는 현대 사회에서 중요한 문화적 요소로 자리 잡고 있으며, 다양한 장르의 작품들이 무시받고 있다.',\n",
       "    '영화는 사회적 이슈를 조명하고, 사람들에게 중요한 메시지를 전달하는 매체로서의 역할을 한다.'],\n",
       "   'answer': '영화는 사회적 이슈를 조명하고, 사람들에게 중요한 메시지를 전달하는 매체로서의 역할을 한다.  ',\n",
       "   'eval_answer': '영화는 사회적 이슈를 조명하고, 사람들에게 중요한 메시지를 전달하는 매체로서의 역할을 한다.  ',\n",
       "   'eval_explain': ['이 선택지는 영화의 역할과 중요성을 잘 설명하고 있으며, 영화가 단순한 오락을 넘어 사회적 이슈를 다루고 메시지를 전달하는 매체로 기능한다는 내용을 반영하고 있다. 다른 선택지들은 영화의 역할을 잘못 이해하거나 현재 영화 산업의 문제를 왜곡하고 있다.']}],\n",
       " 'total_cost': 5.656499999999999}"
      ]
     },
     "metadata": {},
     "output_type": "display_data"
    }
   ],
   "source": [
    "from Problem_Type_Template.reading_2_problem_type_16 import generate_reading_2_problem_type_16\n",
    "\n",
    "result = generate_reading_2_problem_type_16(default_model=\"gpt-4o-mini\",verbose=True)\n",
    "\n",
    "display(result)"
   ]
  }
 ],
 "metadata": {
  "kernelspec": {
   "display_name": "Python 3 (ipykernel)",
   "language": "python",
   "name": "python3"
  },
  "language_info": {
   "codemirror_mode": {
    "name": "ipython",
    "version": 3
   },
   "file_extension": ".py",
   "mimetype": "text/x-python",
   "name": "python",
   "nbconvert_exporter": "python",
   "pygments_lexer": "ipython3",
   "version": "3.11.8"
  }
 },
 "nbformat": 4,
 "nbformat_minor": 4
}
